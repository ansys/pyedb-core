{
 "cells": [
  {
   "cell_type": "code",
   "execution_count": 1,
   "id": "a45905c0",
   "metadata": {},
   "outputs": [
    {
     "name": "stdout",
     "output_type": "stream",
     "text": [
      "id: 1\n",
      "\n",
      "clean design created with default db, cell, layout, gnd_net variables.\n"
     ]
    }
   ],
   "source": [
    "%run helpers/example_setup.ipynb"
   ]
  },
  {
   "cell_type": "code",
   "execution_count": 2,
   "id": "abd5a80d",
   "metadata": {},
   "outputs": [
    {
     "data": {
      "text/plain": [
       "<ansys.edb.core.layer.stackup_layer.StackupLayer at 0x22c20461400>"
      ]
     },
     "execution_count": 2,
     "metadata": {},
     "output_type": "execute_result"
    }
   ],
   "source": [
    "\"\"\"Add to Layer Collection\"\"\"\n",
    "\n",
    "lcc = layout.layer_collection\n",
    "lcc.add_layer_top(StackupLayer.create(\"TOP\", LayerType.SIGNAL_LAYER, \"2mm\", 0, \"copper\"))"
   ]
  },
  {
   "cell_type": "code",
   "execution_count": 3,
   "id": "9cd95cc0",
   "metadata": {},
   "outputs": [],
   "source": [
    "\"\"\"Create & 3D place the 3D component\"\"\"\n",
    "COMP_FILE = get_fixture_file(\"3d_comp_placement.a3dcomp\")\n",
    "\n",
    "empty = Point3DData(0, 0, 0)\n",
    "component = layout.create_3d_comp(COMP_FILE)\n",
    "component.cell_instance.placement_layer = lcc.find_by_name(\"TOP\")\n",
    "component.cell_instance.placement_3d = True"
   ]
  },
  {
   "cell_type": "code",
   "execution_count": 4,
   "id": "e7a98b64",
   "metadata": {},
   "outputs": [
    {
     "name": "stdout",
     "output_type": "stream",
     "text": [
      "Design Example contains 1 3D component named: v1_3d_comp_placement\n"
     ]
    }
   ],
   "source": [
    "\"\"\"Verify\"\"\"\n",
    "\n",
    "print(\"Design {} contains {} 3D component named: {}\".format(cell.name, len(layout.cell_instances), layout.cell_instances[0].name))"
   ]
  },
  {
   "cell_type": "code",
   "execution_count": 5,
   "id": "21e1c810",
   "metadata": {},
   "outputs": [],
   "source": [
    "%run helpers/example_teardown.ipynb"
   ]
  }
 ],
 "metadata": {},
 "nbformat": 4,
 "nbformat_minor": 5
}