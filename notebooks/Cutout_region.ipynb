{
 "cells": [
  {
   "cell_type": "markdown",
   "id": "4828f0a8",
   "metadata": {},
   "source": [
    "# Cutout Region"
   ]
  },
  {
   "cell_type": "code",
   "execution_count": 1,
   "id": "cd7e721c",
   "metadata": {},
   "outputs": [
    {
     "name": "stdout",
     "output_type": "stream",
     "text": [
      "id: 1\n",
      "\n",
      "clean design created with default db, cell, layout, gnd_net variables.\n"
     ]
    }
   ],
   "source": [
    "%run helpers/example_setup.ipynb"
   ]
  },
  {
   "cell_type": "markdown",
   "id": "588e7a7d",
   "metadata": {},
   "source": [
    "## Setup nets"
   ]
  },
  {
   "cell_type": "code",
   "execution_count": 2,
   "id": "f060f9f4",
   "metadata": {},
   "outputs": [],
   "source": [
    "# Nets\n",
    "net_names = ['Signal_1', 'Signal_2', 'Signal_3']\n",
    "for name in net_names:\n",
    "    Net.create(layout, name)"
   ]
  },
  {
   "cell_type": "markdown",
   "id": "23608a1b",
   "metadata": {},
   "source": [
    "## Setup Layers"
   ]
  },
  {
   "cell_type": "code",
   "execution_count": 3,
   "id": "abd5a80d",
   "metadata": {},
   "outputs": [
    {
     "name": "stdout",
     "output_type": "stream",
     "text": [
      "LC ['S3', 'D3', 'S2', 'D2', 'S1', 'D1']\n"
     ]
    }
   ],
   "source": [
    "\"\"\"Create layers, add them to layer collection and retrieve them again.\"\"\"\n",
    "\n",
    "# Layers in layout's layer collection\n",
    "insulator_layer_1 = StackupLayer.create('D1', LayerType.DIELECTRIC_LAYER, 0.0002, 0.0002, \"FR4_epoxy\")\n",
    "layer_1 = StackupLayer.create('S1', LayerType.SIGNAL_LAYER, 0.0001, 0.0003, \"copper\")\n",
    "insulator_layer_2 = StackupLayer.create('D2', LayerType.DIELECTRIC_LAYER, 0.0001, 0.0004, \"FR4_epoxy\")\n",
    "layer_2 = StackupLayer.create('S2', LayerType.SIGNAL_LAYER, 0.0001, 0.0005, \"copper\")\n",
    "insulator_layer_3 = StackupLayer.create('D3', LayerType.DIELECTRIC_LAYER, 0.0003, 0.0005, \"FR4_epoxy\")\n",
    "layer_3 = StackupLayer.create('S3', LayerType.SIGNAL_LAYER, 0.0001, 0.0007, \"copper\")\n",
    "\n",
    "# Layers for additional cells\n",
    "lc = layout.layer_collection\n",
    "lc.mode = LayerCollectionMode.OVERLAPPING\n",
    "lc.add_layers([insulator_layer_1, layer_1, insulator_layer_2, layer_2, insulator_layer_3, layer_3])\n",
    "\n",
    "# Retrieve layers\n",
    "layer_1 = lc.find_by_name('S1')\n",
    "layer_2 = lc.find_by_name('S2')\n",
    "layer_3 = lc.find_by_name('S3')\n",
    "\n",
    "# Print layers created for lc\n",
    "print(\"LC\", [(l.name) for l in lc.get_layers() ])"
   ]
  },
  {
   "cell_type": "markdown",
   "id": "7ac41043",
   "metadata": {},
   "source": [
    "## Create geometry"
   ]
  },
  {
   "cell_type": "code",
   "execution_count": 4,
   "id": "ea0dd4f6",
   "metadata": {},
   "outputs": [
    {
     "name": "stdout",
     "output_type": "stream",
     "text": [
      "[('RECTANGLE', 'S1'), ('RECTANGLE', 'S2'), ('RECTANGLE', 'S3'), ('RECTANGLE', 'S1')]\n"
     ]
    }
   ],
   "source": [
    "\"\"\"Create Primitive objects\"\"\"\n",
    "# lambda for value resolution\n",
    "um = lambda val : val * 1e-6\n",
    "\n",
    "# create rectangles in different layers\n",
    "rect = Rectangle.create(layout=layout,\n",
    "                        layer=layer_1,\n",
    "                        net='Signal_1',\n",
    "                        rep_type=RectangleRepresentationType.LOWER_LEFT_UPPER_RIGHT,\n",
    "                        param1=um(-46),\n",
    "                        param2=um(9),\n",
    "                        param3=um(-17),\n",
    "                        param4=um(-14),\n",
    "                        corner_rad=0.0,\n",
    "                        rotation=0.0\n",
    "                        )\n",
    "\n",
    "rect_2 = Rectangle.create(layout=layout,\n",
    "                          layer=layer_2,\n",
    "                          net='Signal_2',\n",
    "                          rep_type=RectangleRepresentationType.LOWER_LEFT_UPPER_RIGHT,\n",
    "                          param1=um(-33),\n",
    "                          param2=um(14),\n",
    "                          param3=um(0),\n",
    "                          param4=um(-3),\n",
    "                          corner_rad=0.0,\n",
    "                          rotation=0.0\n",
    "                          )\n",
    "\n",
    "rect_3 = Rectangle.create(layout=layout,\n",
    "                          layer=layer_3,\n",
    "                          net='Signal_3',\n",
    "                          rep_type=RectangleRepresentationType.LOWER_LEFT_UPPER_RIGHT,\n",
    "                          param1=um(-8),\n",
    "                          param2=um(-11),\n",
    "                          param3=um(-36),\n",
    "                          param4=um(2),\n",
    "                          corner_rad=0.0,\n",
    "                          rotation=0.0\n",
    "                          )\n",
    "\n",
    "rect_4 = Rectangle.create(layout=layout,\n",
    "                          layer=layer_1,\n",
    "                          net='GND',\n",
    "                          rep_type=RectangleRepresentationType.LOWER_LEFT_UPPER_RIGHT,\n",
    "                          param1=um(-116),\n",
    "                          param2=um(-11),\n",
    "                          param3=um(-101),\n",
    "                          param4=um(-20),\n",
    "                          corner_rad=0.0,\n",
    "                          rotation=0.0\n",
    "                          )\n",
    "\n",
    "#Retrieve the primitives\n",
    "primitives_created = layout.primitives\n",
    "\n",
    "# Print primitives created and their layers\n",
    "print([(p.primitive_type.name, p.layer.name) for p in primitives_created ])"
   ]
  },
  {
   "cell_type": "markdown",
   "id": "f4781296",
   "metadata": {},
   "source": [
    "## Create the PolygonData"
   ]
  },
  {
   "cell_type": "code",
   "execution_count": 5,
   "id": "8af667ab",
   "metadata": {},
   "outputs": [],
   "source": [
    "# Redefine a lambda for point(x,y) resolution\n",
    "um = lambda val_1, val_2 : (val_1 * 1e-6, val_2 * 1e-6)\n",
    "cutout_region = PolygonData(\n",
    "    [um(-7, 7), um(-23, -13), um(-39, -5), um(-38, 12 ), um(-20, 17)], closed=True\n",
    ")"
   ]
  },
  {
   "cell_type": "markdown",
   "id": "5fb86ee9",
   "metadata": {},
   "source": [
    "## Apply cutout region to cell"
   ]
  },
  {
   "cell_type": "code",
   "execution_count": 6,
   "id": "924e29ed",
   "metadata": {},
   "outputs": [
    {
     "name": "stdout",
     "output_type": "stream",
     "text": [
      "[('POLYGON', 'S1'), ('POLYGON', 'S2'), ('POLYGON', 'S3')]\n"
     ]
    }
   ],
   "source": [
    "# Get nets\n",
    "nets = layout.nets\n",
    "\n",
    "# Cutout region\n",
    "new_cutout_cell = cell.cutout(nets, nets, cutout_region)\n",
    "\n",
    "#Retrieve the primitives from the new cell with the cutout region applied\n",
    "primitives_of_cutout_region = new_cutout_cell.layout.primitives\n",
    "\n",
    "# Print primitives created and their layers\n",
    "print([(p.primitive_type.name, p.layer.name) for p in primitives_of_cutout_region ])"
   ]
  },
  {
   "cell_type": "code",
   "execution_count": 7,
   "id": "21e1c810",
   "metadata": {},
   "outputs": [],
   "source": [
    "%run helpers/example_teardown.ipynb"
   ]
  }
 ],
 "metadata": {
  "kernelspec": {
   "display_name": "Python 3 (ipykernel)",
   "language": "python",
   "name": "python3"
  },
  "language_info": {
   "codemirror_mode": {
    "name": "ipython",
    "version": 3
   },
   "file_extension": ".py",
   "mimetype": "text/x-python",
   "name": "python",
   "nbconvert_exporter": "python",
   "pygments_lexer": "ipython3",
   "version": "3.7.0"
  }
 },
 "nbformat": 4,
 "nbformat_minor": 5
}
