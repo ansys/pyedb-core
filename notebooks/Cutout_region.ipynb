{
 "cells": [
  {
   "cell_type": "markdown",
   "id": "4828f0a8",
   "metadata": {},
   "source": [
    "# Define and assign bondwire profiles"
   ]
  },
  {
   "cell_type": "markdown",
   "id": "f03bd675",
   "metadata": {},
   "source": [
    "## Imports"
   ]
  },
  {
   "cell_type": "code",
   "execution_count": 1,
   "id": "cd7e721c",
   "metadata": {},
   "outputs": [],
   "source": [
    "import os\n",
    "from ansys.edb.database import Database\n",
    "from ansys.edb.layout.cell import Cell, CellType\n",
    "from ansys.edb.layer import LayerType, StackupLayer, LayerCollectionMode, LayerCollection\n",
    "from ansys.edb.net import Net\n",
    "from ansys.edb.hierarchy import CellInstance\n",
    "from ansys.edb.definition import ApdBondwireDef\n",
    "from ansys.edb.primitive import Bondwire, BondwireType, Rectangle, RectangleRepresentationType, BondwireCrossSectionType\n",
    "from ansys.edb.geometry import PolygonData\n",
    "from ansys.edb.session import launch_session"
   ]
  },
  {
   "cell_type": "markdown",
   "id": "636d0b78",
   "metadata": {},
   "source": [
    "## Configs"
   ]
  },
  {
   "cell_type": "code",
   "execution_count": 2,
   "id": "a09c729b",
   "metadata": {},
   "outputs": [],
   "source": [
    "# RPC_SERVER = None if separate server is already running, Root dir of server executable otherwise.\n",
    "RPC_SERVER = \"C:\\\\ansysDev\\\\view1\\\\build_output\\\\64Release\"\n",
    "ROOT = os.getcwd()\n",
    "EDB_FILE = os.path.join(ROOT, \"cutout_region.aedb\")"
   ]
  },
  {
   "cell_type": "markdown",
   "id": "0bc8909b",
   "metadata": {},
   "source": [
    "## Launch a session"
   ]
  },
  {
   "cell_type": "code",
   "execution_count": 3,
   "id": "87bc6dac",
   "metadata": {
    "scrolled": true
   },
   "outputs": [],
   "source": [
    "# Make sure old one has been disconnected prior to starting a new one, if any\n",
    "session = launch_session(RPC_SERVER, 50051)"
   ]
  },
  {
   "cell_type": "markdown",
   "id": "588e7a7d",
   "metadata": {},
   "source": [
    "## Basic setup of empty EDB"
   ]
  },
  {
   "cell_type": "code",
   "execution_count": 4,
   "id": "f060f9f4",
   "metadata": {},
   "outputs": [
    {
     "name": "stdout",
     "output_type": "stream",
     "text": [
      "id: 1\n",
      "\n"
     ]
    }
   ],
   "source": [
    "\"\"\"Create Database, Cell, Layout, Net\"\"\"\n",
    "db = Database.create(EDB_FILE)\n",
    "\n",
    "#cells\n",
    "cell = Cell.create(db, CellType.CIRCUIT_CELL, \"Design\")\n",
    "cell_start = Cell.create(db, CellType.CIRCUIT_CELL, \"Left_Rect\")\n",
    "cell_end = Cell.create(db, CellType.CIRCUIT_CELL, \"Right_Rect\")\n",
    "\n",
    "# Layouts \n",
    "layout = cell.layout\n",
    "layout_start = cell_start.layout\n",
    "layout_end = cell_end.layout\n",
    "\n",
    "# Net\n",
    "net_names = ['GND', 'Signal_1', 'Signal_2', 'Signal_3']\n",
    "nets = {name: Net.create(layout, name) for name in net_names}"
   ]
  },
  {
   "cell_type": "markdown",
   "id": "23608a1b",
   "metadata": {},
   "source": [
    "## Setup Layers for the different cells"
   ]
  },
  {
   "cell_type": "code",
   "execution_count": 5,
   "id": "abd5a80d",
   "metadata": {},
   "outputs": [
    {
     "name": "stdout",
     "output_type": "stream",
     "text": [
      "LC ['L3', 'S3', 'L2', 'S2', 'L1', 'S1', 'Ground']\n"
     ]
    }
   ],
   "source": [
    "\"\"\"Create layers, add them to layer collection and retrieve them again.\"\"\"\n",
    "\n",
    "# Layers in layout's layer collection\n",
    "layer_gnd = StackupLayer.create('Ground', LayerType.SIGNAL_LAYER, 0.0001, 0, \"copper\")\n",
    "insulator_layer_1 = StackupLayer.create('S1', LayerType.DIELECTRIC_LAYER, 0.0002, 0.0002, \"FR4-Epoxy\")\n",
    "layer_1 = StackupLayer.create('L1', LayerType.SIGNAL_LAYER, 0.0001, 0.0003, \"copper\")\n",
    "insulator_layer_2 = StackupLayer.create('S2', LayerType.DIELECTRIC_LAYER, 0.0001, 0.0004, \"FR4-Epoxy\")\n",
    "layer_2 = StackupLayer.create('L2', LayerType.SIGNAL_LAYER, 0.0001, 0.0005, \"copper\")\n",
    "insulator_layer_3 = StackupLayer.create('S3', LayerType.DIELECTRIC_LAYER, 0.0001, 0.0005, \"FR4-Epoxy\")\n",
    "layer_3 = StackupLayer.create('L3', LayerType.SIGNAL_LAYER, 0.0001, 0.0007, \"copper\")\n",
    "\n",
    "# Layers for additional cells\n",
    "lc = layout.layer_collection\n",
    "lc.mode = LayerCollectionMode.OVERLAPPING\n",
    "lc.add_layers([layer_gnd, insulator_layer_1, layer_1, insulator_layer_2, layer_2, insulator_layer_3, layer_3])\n",
    "\n",
    "# Retrieve layers\n",
    "layer_1 = lc.find_by_name('L1')\n",
    "layer_2 = lc.find_by_name('L2')\n",
    "layer_3 = lc.find_by_name('L3')\n",
    "\n",
    "# Print layers created for lc\n",
    "print(\"LC\", [(l.name) for l in lc.get_layers() ])"
   ]
  },
  {
   "cell_type": "markdown",
   "id": "7ac41043",
   "metadata": {},
   "source": [
    "## Create geometry"
   ]
  },
  {
   "cell_type": "code",
   "execution_count": 6,
   "id": "ea0dd4f6",
   "metadata": {},
   "outputs": [
    {
     "name": "stdout",
     "output_type": "stream",
     "text": [
      "[('RECTANGLE', 'L1'), ('RECTANGLE', 'L2'), ('RECTANGLE', 'L3'), ('RECTANGLE', 'L1')]\n"
     ]
    }
   ],
   "source": [
    "\"\"\"Create Primitive objects\"\"\"\n",
    "# lambda for value resolution\n",
    "um = lambda val : val * 1e-6\n",
    "\n",
    "# create rectangles in different layers\n",
    "rect = Rectangle.create(layout=layout,\n",
    "                        layer=layer_1,\n",
    "                        net=nets['Signal_1'],\n",
    "                        rep_type=RectangleRepresentationType.LOWER_LEFT_UPPER_RIGHT,\n",
    "                        param1=um(-46),\n",
    "                        param2=um(9),\n",
    "                        param3=um(-17),\n",
    "                        param4=um(-14),\n",
    "                        corner_rad=0.0,\n",
    "                        rotation=0.0\n",
    "                        )\n",
    "\n",
    "rect_2 = Rectangle.create(layout=layout,\n",
    "                          layer=layer_2,\n",
    "                          net=nets['Signal_2'],\n",
    "                          rep_type=RectangleRepresentationType.LOWER_LEFT_UPPER_RIGHT,\n",
    "                          param1=um(-33),\n",
    "                          param2=um(14),\n",
    "                          param3=um(0),\n",
    "                          param4=um(-3),\n",
    "                          corner_rad=0.0,\n",
    "                          rotation=0.0\n",
    "                          )\n",
    "\n",
    "rect_3 = Rectangle.create(layout=layout,\n",
    "                          layer=layer_3,\n",
    "                          net=nets['Signal_3'],\n",
    "                          rep_type=RectangleRepresentationType.LOWER_LEFT_UPPER_RIGHT,\n",
    "                          param1=um(-8),\n",
    "                          param2=um(-11),\n",
    "                          param3=um(-36),\n",
    "                          param4=um(2),\n",
    "                          corner_rad=0.0,\n",
    "                          rotation=0.0\n",
    "                          )\n",
    "\n",
    "rect_4 = Rectangle.create(layout=layout,\n",
    "                          layer=layer_1,\n",
    "                          net=nets['GND'],\n",
    "                          rep_type=RectangleRepresentationType.LOWER_LEFT_UPPER_RIGHT,\n",
    "                          param1=um(-116),\n",
    "                          param2=um(-11),\n",
    "                          param3=um(-101),\n",
    "                          param4=um(-20),\n",
    "                          corner_rad=0.0,\n",
    "                          rotation=0.0\n",
    "                          )\n",
    "\n",
    "#Retrieve the primitives\n",
    "primitives_created = layout.primitives\n",
    "\n",
    "# Print primitives created and their layers\n",
    "print([(p.primitive_type.name, p.layer.name) for p in primitives_created ])"
   ]
  },
  {
   "cell_type": "markdown",
   "id": "f4781296",
   "metadata": {},
   "source": [
    "## Create the PolygonData"
   ]
  },
  {
   "cell_type": "code",
   "execution_count": 7,
   "id": "8af667ab",
   "metadata": {},
   "outputs": [],
   "source": [
    "# Redefine a lambda for point(x,y) resolution\n",
    "um = lambda val_1, val_2 : (val_1 * 1e-6, val_2 * 1e-6)\n",
    "cutout_region = PolygonData(\n",
    "    [um(-7, 7), um(-23, -13), um(-39, -5), um(-38, 12 ), um(-20, 17)], closed=True\n",
    ")"
   ]
  },
  {
   "cell_type": "markdown",
   "id": "5fb86ee9",
   "metadata": {},
   "source": [
    "## Apply cutout region to cell"
   ]
  },
  {
   "cell_type": "code",
   "execution_count": 8,
   "id": "924e29ed",
   "metadata": {},
   "outputs": [
    {
     "name": "stdout",
     "output_type": "stream",
     "text": [
      "[('POLYGON', 'L2'), ('POLYGON', 'L3'), ('POLYGON', 'L1')]\n"
     ]
    }
   ],
   "source": [
    "# Get nets\n",
    "nets = layout.nets\n",
    "\n",
    "# Cutout region\n",
    "new_cutout_cell = cell.cutout(nets, nets, cutout_region)\n",
    "\n",
    "#Retrieve the primitives from the new cell with the cutout region applied\n",
    "primitives_of_cutout_region = new_cutout_cell.layout.primitives\n",
    "\n",
    "# Print primitives created and their layers\n",
    "print([(p.primitive_type.name, p.layer.name) for p in primitives_of_cutout_region ])"
   ]
  },
  {
   "cell_type": "markdown",
   "id": "95397908",
   "metadata": {},
   "source": [
    "# Save database"
   ]
  },
  {
   "cell_type": "code",
   "execution_count": 9,
   "id": "3290a8f6",
   "metadata": {},
   "outputs": [],
   "source": [
    "\"\"\"Save database if you wish.\"\"\"\n",
    "\n",
    "db.save()"
   ]
  },
  {
   "cell_type": "markdown",
   "id": "a3920809",
   "metadata": {},
   "source": [
    "# Disconnect from database"
   ]
  },
  {
   "cell_type": "code",
   "execution_count": 10,
   "id": "21e1c810",
   "metadata": {},
   "outputs": [],
   "source": [
    "\"\"\"Don't forget to disconnect it!\"\"\"\n",
    "\n",
    "session.disconnect()"
   ]
  }
 ],
 "metadata": {
 },
 "nbformat": 4,
 "nbformat_minor": 5
}
