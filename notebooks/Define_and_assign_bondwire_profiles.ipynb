{
 "cells": [
  {
   "cell_type": "markdown",
   "id": "4828f0a8",
   "metadata": {},
   "source": [
    "# Define and assign bondwire profiles"
   ]
  },
  {
   "cell_type": "code",
   "execution_count": null,
   "id": "87bc6dac",
   "metadata": {},
   "outputs": [],
   "source": [
    "%run helpers/example_setup.ipynb"
   ]
  },
  {
   "cell_type": "markdown",
   "id": "588e7a7d",
   "metadata": {},
   "source": [
    "## Basic setup of empty EDB"
   ]
  },
  {
   "cell_type": "code",
   "execution_count": null,
   "id": "f060f9f4",
   "metadata": {},
   "outputs": [],
   "source": [
    "\"\"\"Create Database, Cell, Layout, Net\"\"\"\n",
    "\n",
    "# cells\n",
    "cell_start = Cell.create(db, CellType.CIRCUIT_CELL, \"Start\")\n",
    "cell_start.is_blackbox = True\n",
    "cell_end = Cell.create(db, CellType.CIRCUIT_CELL, \"End\")\n",
    "cell_end.is_blackbox = True\n",
    "\n",
    "# Layouts\n",
    "layout_start = cell_start.layout\n",
    "layout_end = cell_end.layout\n",
    "\n",
    "# Net\n",
    "net = Net.create(layout, \"signal\")\n",
    "net_start = Net.create(layout_start, \"start_signal\")\n",
    "net_end = Net.create(layout_end, \"end_signal\")"
   ]
  },
  {
   "cell_type": "markdown",
   "id": "23608a1b",
   "metadata": {},
   "source": [
    "## Setup Layers for the different cells"
   ]
  },
  {
   "cell_type": "code",
   "execution_count": null,
   "id": "abd5a80d",
   "metadata": {},
   "outputs": [],
   "source": [
    "\"\"\"Create layers, add them to layer collection and retrieve them again.\"\"\"\n",
    "\n",
    "# Layers in layout's layer collection\n",
    "lc = layout.layer_collection\n",
    "layout.layer_collection.add_layer_top(\n",
    "    StackupLayer.create(\"signal\", LayerType.SIGNAL_LAYER, 0.0001, 0, \"copper\")\n",
    ")\n",
    "\n",
    "# Layers for additional cells\n",
    "lcs = layout_start.layer_collection\n",
    "lcs.add_layer_top(\n",
    "    StackupLayer.create(\"start_signal\", LayerType.SIGNAL_LAYER, 0.0001, 0, \"copper\")\n",
    ")\n",
    "lce = layout_end.layer_collection\n",
    "lce.add_layer_top(\n",
    "    StackupLayer.create(\"end_signal\", LayerType.SIGNAL_LAYER, 0.0001, 0, \"copper\")\n",
    ")\n",
    "\n",
    "# Retrieve layers collection and layers\n",
    "signal_lyr = lc.find_by_name(\"signal\")\n",
    "start_signal_lyr = lcs.find_by_name(\"start_signal\")\n",
    "end_signal_lyr = lce.find_by_name(\"end_signal\")\n",
    "\n",
    "# Print layers created for lc\n",
    "print(\"LC\", [l.name for l in layout.layer_collection.get_layers()])\n",
    "# Print layers created for lcs\n",
    "print(\"LCS\", [l.name for l in layout_start.layer_collection.get_layers()])\n",
    "# Print layers created for lce\n",
    "print(\"LCE\", [l.name for l in layout_end.layer_collection.get_layers()])"
   ]
  },
  {
   "cell_type": "markdown",
   "id": "7ac41043",
   "metadata": {},
   "source": [
    "## Create geometry"
   ]
  },
  {
   "cell_type": "code",
   "execution_count": null,
   "id": "ea0dd4f6",
   "metadata": {},
   "outputs": [],
   "source": [
    "\"\"\"Create Primitive objects\"\"\"\n",
    "\n",
    "# Rectangles\n",
    "def mm(val):\n",
    "    return val * 1e-3\n",
    "\n",
    "Rectangle.create(\n",
    "    layout=layout_start,\n",
    "    layer=start_signal_lyr,\n",
    "    net=net_start,\n",
    "    rep_type=RectangleRepresentationType.LOWER_LEFT_UPPER_RIGHT,\n",
    "    param1=mm(0.0),\n",
    "    param2=mm(0.0),\n",
    "    param3=mm(0.30),\n",
    "    param4=mm(0.30),\n",
    "    corner_rad=0.0,\n",
    "    rotation=0.0,\n",
    ")\n",
    "\n",
    "Rectangle.create(\n",
    "    layout=layout_end,\n",
    "    layer=end_signal_lyr,\n",
    "    net=net_end,\n",
    "    rep_type=RectangleRepresentationType.LOWER_LEFT_UPPER_RIGHT,\n",
    "    param1=mm(0.0),\n",
    "    param2=mm(0.0),\n",
    "    param3=mm(0.20),\n",
    "    param4=mm(0.20),\n",
    "    corner_rad=0.0,\n",
    "    rotation=0.0,\n",
    ")\n",
    "\n",
    "# Retrieve the primitives\n",
    "primitives_created = layout_start.primitives + layout_end.primitives\n",
    "\n",
    "# Print primitives created and their layers\n",
    "print([(p.primitive_type.name, p.layer.name) for p in primitives_created])"
   ]
  },
  {
   "cell_type": "markdown",
   "id": "f4781296",
   "metadata": {},
   "source": [
    "## Create the cell instances"
   ]
  },
  {
   "cell_type": "code",
   "execution_count": null,
   "id": "8af667ab",
   "metadata": {},
   "outputs": [],
   "source": [
    "cis = CellInstance.create(layout, 'CellInstanceStart', layout_start)\n",
    "cie = CellInstance.create(layout, 'CellInstanceEnd', layout_end)\n",
    "cie.location = mm(0.60), mm(0.05)"
   ]
  },
  {
   "cell_type": "markdown",
   "id": "5fb86ee9",
   "metadata": {},
   "source": [
    "## Create the bondwire definition"
   ]
  },
  {
   "cell_type": "code",
   "execution_count": null,
   "id": "924e29ed",
   "metadata": {},
   "outputs": [],
   "source": [
    "# Create an APD Bondwire Definition\n",
    "wire_0 = ApdBondwireDef.create(db, \"Wire_0\")\n",
    "\n",
    "# Bondwire Parameters name (nm) diameter(dia) and material(mat) should be set as strings(quoted)\n",
    "parameters_str = \"bwd(nm='Wire_0', ven=true, for=true, dia='2.54e-05', mat='gold',\\\n",
    "col=0, vis=true, dih=0, nfc=6, seg(ht=0, hv=0, vt=0, vv=0.0001))\"\n",
    "\n",
    "# Set parameters\n",
    "wire_0.set_parameters(parameters_str)"
   ]
  },
  {
   "cell_type": "markdown",
   "id": "6c51639b",
   "metadata": {},
   "source": [
    "## Create the bondwire material"
   ]
  },
  {
   "cell_type": "code",
   "execution_count": null,
   "id": "a6fcb3c2",
   "metadata": {},
   "outputs": [],
   "source": [
    "gold_mat = MaterialDef.create(db,\"gold\")\n",
    "gold_mat.set_property(MaterialProperty.CONDUCTIVITY, 41000000)\n",
    "gold_mat.set_property(MaterialProperty.PERMITTIVITY, 1)\n",
    "gold_mat.set_property(MaterialProperty.PERMEABILITY, 0.99996)\n",
    "gold_mat.set_property(MaterialProperty.DIELECTRIC_LOSS_TANGENT, 0)"
   ]
  },
  {
   "cell_type": "markdown",
   "id": "8cd85901",
   "metadata": {},
   "source": [
    "## Create the bondwire"
   ]
  },
  {
   "cell_type": "code",
   "execution_count": null,
   "id": "be281446",
   "metadata": {},
   "outputs": [],
   "source": [
    "# Bondwire\n",
    "bondwire = Bondwire.create(\n",
    "    layout=layout,\n",
    "    bondwire_type=BondwireType.APD,\n",
    "    definition_name=\"Wire_0\",\n",
    "    placement_layer=signal_lyr.name,\n",
    "    width=mm(0.01),\n",
    "    material=\"gold\",\n",
    "    start_context=cis,\n",
    "    start_layer_name=start_signal_lyr.name,\n",
    "    start_x=mm(0.15),\n",
    "    start_y=mm(0.15),\n",
    "    end_context=cie,\n",
    "    end_layer_name=end_signal_lyr.name,\n",
    "    end_x=mm(0.55),\n",
    "    end_y=mm(0.15),\n",
    "    net=net,\n",
    ")\n",
    "bondwire.cross_section_type = BondwireCrossSectionType.RECTANGLE\n",
    "bondwire.cross_section_height = mm(0.01)\n",
    "bondwire.set_traj(mm(0.15), mm(0.15), mm(0.70), mm(0.15))"
   ]
  },
  {
   "cell_type": "code",
   "execution_count": null,
   "id": "21e1c810",
   "metadata": {},
   "outputs": [],
   "source": [
    "%run helpers/example_teardown.ipynb"
   ]
  }
 ],
 "metadata": {},
 "nbformat": 4,
 "nbformat_minor": 5
}