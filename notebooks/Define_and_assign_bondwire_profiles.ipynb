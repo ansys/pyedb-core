{
 "cells": [
  {
   "cell_type": "markdown",
   "id": "4828f0a8",
   "metadata": {},
   "source": [
    "# Define and assign bondwire profiles"
   ]
  },
  {
   "cell_type": "markdown",
   "id": "f03bd675",
   "metadata": {},
   "source": [
    "## Imports"
   ]
  },
  {
   "cell_type": "code",
   "execution_count": 1,
   "id": "cd7e721c",
   "metadata": {},
   "outputs": [],
   "source": [
    "import os\n",
    "from ansys.edb.database import Database\n",
    "from ansys.edb.layout.cell import Cell, CellType\n",
    "from ansys.edb.hierarchy.via_group import ViaGroup\n",
    "from ansys.edb.layer import LayerType, StackupLayer, ViaLayer\n",
    "from ansys.edb.layer.layer_collection import LayerCollection, LayerCollectionMode\n",
    "from ansys.edb.net import Net\n",
    "from ansys.edb.session import launch_session\n",
    "from ansys.edb.hierarchy import CellInstance\n",
    "from ansys.edb.definition import ApdBondwireDef\n",
    "from ansys.edb.primitive import Bondwire, BondwireType, Rectangle, RectangleRepresentationType, BondwireCrossSectionType"
   ]
  },
  {
   "cell_type": "markdown",
   "id": "636d0b78",
   "metadata": {},
   "source": [
    "## Configs"
   ]
  },
  {
   "cell_type": "code",
   "execution_count": 2,
   "id": "a09c729b",
   "metadata": {},
   "outputs": [],
   "source": [
    "# RPC_SERVER = None if separate server is already running, Root dir of server executable otherwise.\n",
    "RPC_SERVER = None\n",
    "ROOT = os.getcwd()\n",
    "EDB_FILE = os.path.join(ROOT, \"define_and_assign_bondwire_profiles.aedb\")"
   ]
  },
  {
   "cell_type": "markdown",
   "id": "0bc8909b",
   "metadata": {},
   "source": [
    "## Launch a session"
   ]
  },
  {
   "cell_type": "code",
   "execution_count": 3,
   "id": "87bc6dac",
   "metadata": {
    "scrolled": false
   },
   "outputs": [],
   "source": [
    "# Make sure old one has been disconnected prior to starting a new one, if any\n",
    "session = launch_session(RPC_SERVER, 50051)"
   ]
  },
  {
   "cell_type": "markdown",
   "id": "588e7a7d",
   "metadata": {},
   "source": [
    "## Basic setup of empty EDB"
   ]
  },
  {
   "cell_type": "code",
   "execution_count": 4,
   "id": "f060f9f4",
   "metadata": {},
   "outputs": [
    {
     "name": "stdout",
     "output_type": "stream",
     "text": [
      "id: 32\n",
      "\n"
     ]
    }
   ],
   "source": [
    "\"\"\"Create Database, Cell, Layout, Net\"\"\"\n",
    "db = Database.create(EDB_FILE)\n",
    "cell = Cell.create(db, CellType.CIRCUIT_CELL, \"EMDesign1\")\n",
    "layout = cell.layout\n",
    "\n",
    "# Cell to create the cell instances\n",
    "cell1 = Cell.create(db, CellType.CIRCUIT_CELL, \"EMDesign2\")\n",
    "cell2 = Cell.create(db, CellType.CIRCUIT_CELL, \"EMDesign3\")\n",
    "\n",
    "# Layouts for the additional cells\n",
    "layout_start = cell1.layout\n",
    "layout_end = cell2.layout\n",
    "\n",
    "# Net\n",
    "net = Net.create(layout, 'GND')\n",
    "nets = Net.create(layout_start, 'GND')\n",
    "nete = Net.create(layout_end, 'GND')"
   ]
  },
  {
   "cell_type": "markdown",
   "id": "23608a1b",
   "metadata": {},
   "source": [
    "## Setup Layers for the different cells"
   ]
  },
  {
   "cell_type": "code",
   "execution_count": 5,
   "id": "abd5a80d",
   "metadata": {},
   "outputs": [
    {
     "name": "stdout",
     "output_type": "stream",
     "text": [
      "LC ['Layer2', 'Layer1', 'Ground']\n",
      "LCS ['Layer1']\n",
      "LCE ['Layer2']\n"
     ]
    }
   ],
   "source": [
    "\"\"\"Create layers, add them to layer collection and retrieve them again.\"\"\"\n",
    "\n",
    "# Layers in layout's layer collection\n",
    "layer_gnd = StackupLayer.create('Ground', LayerType.SIGNAL_LAYER, 0.0001, 0, \"copper\")\n",
    "layer_1 = StackupLayer.create('Layer1', LayerType.SIGNAL_LAYER, 0.0001, 0.0001, \"copper\")\n",
    "layer_2 = StackupLayer.create('Layer2', LayerType.SIGNAL_LAYER, 0.0001, 0.0002, \"copper\")\n",
    "lc = layout.layer_collection\n",
    "lc.add_layers([layer_gnd, layer_1, layer_2])\n",
    "\n",
    "# Layers for additional cells\n",
    "lcs = layout_start.layer_collection\n",
    "lcs.add_layers([layer_1])\n",
    "lce = layout_end.layer_collection\n",
    "lce.add_layers([layer_2])\n",
    "\n",
    "# Retrieve layers collection and layers\n",
    "layout.layer_collection = lc\n",
    "layer_gnd = lc.find_by_name('Ground')\n",
    "layout_start.layer_collection = lcs\n",
    "layer_1 = lcs.find_by_name('Layer1')\n",
    "layout_end.layer_collection = lce\n",
    "layer_2 = lce.find_by_name('Layer2')\n",
    "\n",
    "# Priint layers created for lc\n",
    "print(\"LC\", [(l.name) for l in lc.get_layers() ])\n",
    "# Priint layers created for lcs\n",
    "print(\"LCS\", [(l.name) for l in lcs.get_layers() ])\n",
    "# Priint layers created for lcs\n",
    "print(\"LCE\", [(l.name) for l in lce.get_layers() ])"
   ]
  },
  {
   "cell_type": "markdown",
   "id": "7ac41043",
   "metadata": {},
   "source": [
    "## Create geometry"
   ]
  },
  {
   "cell_type": "code",
   "execution_count": 6,
   "id": "ea0dd4f6",
   "metadata": {},
   "outputs": [
    {
     "name": "stdout",
     "output_type": "stream",
     "text": [
      "[('RECTANGLE', 'Ground'), ('RECTANGLE', 'Ground')]\n"
     ]
    }
   ],
   "source": [
    "\"\"\"Create Primitive objects\"\"\"\n",
    "\n",
    "# Rectangles\n",
    "um = lambda val : val * 1e-6\n",
    "rect = Rectangle.create(layout=layout,\n",
    "                        layer=layer_gnd,\n",
    "                        net=net,\n",
    "                        rep_type=RectangleRepresentationType.LOWER_LEFT_UPPER_RIGHT,\n",
    "                        param1=um(10),\n",
    "                        param2=um(10),\n",
    "                        param3=um(20),\n",
    "                        param4=um(20),\n",
    "                        corner_rad=0.0,\n",
    "                        rotation=0.0\n",
    "                        )\n",
    "\n",
    "rect_2 = Rectangle.create(layout=layout,\n",
    "                          layer=layer_gnd,\n",
    "                          net=net,\n",
    "                          rep_type=RectangleRepresentationType.LOWER_LEFT_UPPER_RIGHT,\n",
    "                          param1=um(0.0),\n",
    "                          param2=um(0.0),\n",
    "                          param3=um(30),\n",
    "                          param4=um(30),\n",
    "                          corner_rad=0.0,\n",
    "                          rotation=0.0\n",
    "                          )\n",
    "#Retrieve the primitives\n",
    "primitives_created = layout.primitives\n",
    "\n",
    "# Print primitives created and their layers\n",
    "print([(p.primitive_type.name, p.layer.name) for p in primitives_created ])"
   ]
  },
  {
   "cell_type": "markdown",
   "id": "f4781296",
   "metadata": {},
   "source": [
    "## Create the cell instances"
   ]
  },
  {
   "cell_type": "code",
   "execution_count": 7,
   "id": "8af667ab",
   "metadata": {},
   "outputs": [],
   "source": [
    "cis = CellInstance.create(layout, 'CellInstanceStart', layout_start)\n",
    "cie = CellInstance.create(layout, 'CellInstanceEnd', layout_end)"
   ]
  },
  {
   "cell_type": "markdown",
   "id": "5fb86ee9",
   "metadata": {},
   "source": [
    "## Create the bondwire definition"
   ]
  },
  {
   "cell_type": "code",
   "execution_count": 8,
   "id": "924e29ed",
   "metadata": {},
   "outputs": [],
   "source": [
    "# Create an APD Bondwire Definition\n",
    "wire_0 = ApdBondwireDef.create(db, 'Wire_0')\n",
    "\n",
    "# Bondwire Parameters name (nm) diameter(dia) and material(mat) should be set as strings(quoted)\n",
    "parameters_str = \"bwd(nm=\\'Wire_0\\', ven=true, for=true, dia=\\'2.54e-05\\', mat=\\'GOLD\\', col=0, vis=true, dih=0, nfc=6, seg(ht=0, hv=0, vt=0, vv=0.000254, ht=1, hv=0.125, vt=0, vv=0))\"\n",
    "\n",
    "# Set parameters\n",
    "wire_0.set_parameters(parameters_str)"
   ]
  },
  {
   "cell_type": "markdown",
   "id": "8cd85901",
   "metadata": {},
   "source": [
    "## Create the bondwire"
   ]
  },
  {
   "cell_type": "code",
   "execution_count": 9,
   "id": "be281446",
   "metadata": {},
   "outputs": [],
   "source": [
    "# Bondwire\n",
    "bondwire = Bondwire.create(\n",
    "    layout=layout,\n",
    "    bondwire_type=BondwireType.APD,\n",
    "    definition_name='Wire_0',\n",
    "    placement_layer=layer_gnd.name,\n",
    "    width=1e-3,\n",
    "    material='GOLD',\n",
    "    start_context=cis,\n",
    "    start_layer_name=layer_1.name,\n",
    "    start_x=0.0,\n",
    "    start_y=0.0,\n",
    "    end_context=cie,\n",
    "    end_layer_name=layer_2.name,\n",
    "    end_x=1.2,\n",
    "    end_y=3.5,\n",
    "    net=net,\n",
    ")\n",
    "bondwire.cross_section_type = BondwireCrossSectionType.RECTANGLE\n",
    "bondwire.cross_section_height = 0.1\n",
    "bondwire.set_traj(0.1, 0.2, 0.3, 0.4)"
   ]
  },
  {
   "cell_type": "markdown",
   "id": "95397908",
   "metadata": {},
   "source": [
    "# Save database"
   ]
  },
  {
   "cell_type": "code",
   "execution_count": 10,
   "id": "3290a8f6",
   "metadata": {},
   "outputs": [],
   "source": [
    "\"\"\"Save database if you wish.\"\"\"\n",
    "\n",
    "db.save()"
   ]
  },
  {
   "cell_type": "markdown",
   "id": "a3920809",
   "metadata": {},
   "source": [
    "# Disconnect from database"
   ]
  },
  {
   "cell_type": "code",
   "execution_count": 11,
   "id": "21e1c810",
   "metadata": {},
   "outputs": [],
   "source": [
    "\"\"\"Don't forget to disconnect it!\"\"\"\n",
    "\n",
    "session.disconnect()"
   ]
  }
 ],
 "metadata": {
 },
 "nbformat": 4,
 "nbformat_minor": 5
}
