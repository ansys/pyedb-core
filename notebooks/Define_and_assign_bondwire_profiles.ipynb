{
 "cells": [
  {
   "cell_type": "markdown",
   "id": "4828f0a8",
   "metadata": {},
   "source": [
    "# Define and assign bondwire profiles"
   ]
  },
  {
   "cell_type": "markdown",
   "id": "f03bd675",
   "metadata": {},
   "source": [
    "## Imports"
   ]
  },
  {
   "cell_type": "code",
   "execution_count": 1,
   "id": "cd7e721c",
   "metadata": {},
   "outputs": [],
   "source": [
    "import os\n",
    "from ansys.edb.database import Database\n",
    "from ansys.edb.layout.cell import Cell, CellType\n",
    "from ansys.edb.layer import LayerType, StackupLayer\n",
    "from ansys.edb.net import Net\n",
    "from ansys.edb.hierarchy import CellInstance\n",
    "from ansys.edb.definition import ApdBondwireDef\n",
    "from ansys.edb.primitive import Bondwire, BondwireType, Rectangle, RectangleRepresentationType, BondwireCrossSectionType\n",
    "from ansys.edb.session import launch_session"
   ]
  },
  {
   "cell_type": "markdown",
   "id": "636d0b78",
   "metadata": {},
   "source": [
    "## Configs"
   ]
  },
  {
   "cell_type": "code",
   "execution_count": 2,
   "id": "a09c729b",
   "metadata": {},
   "outputs": [],
   "source": [
    "# RPC_SERVER = None if separate server is already running, Root dir of server executable otherwise.\n",
    "RPC_SERVER = \"C:\\\\ansysDev\\\\view1\\\\build_output\\\\64Release\"\n",
    "ROOT = os.getcwd()\n",
    "EDB_FILE = os.path.join(ROOT, \"define_and_assign_bondwire_profiles.aedb\")"
   ]
  },
  {
   "cell_type": "markdown",
   "id": "0bc8909b",
   "metadata": {},
   "source": [
    "## Launch a session"
   ]
  },
  {
   "cell_type": "code",
   "execution_count": 3,
   "id": "87bc6dac",
   "metadata": {
    "scrolled": true
   },
   "outputs": [],
   "source": [
    "# Make sure old one has been disconnected prior to starting a new one, if any\n",
    "session = launch_session(RPC_SERVER, 50051)"
   ]
  },
  {
   "cell_type": "markdown",
   "id": "588e7a7d",
   "metadata": {},
   "source": [
    "## Basic setup of empty EDB"
   ]
  },
  {
   "cell_type": "code",
   "execution_count": 4,
   "id": "f060f9f4",
   "metadata": {},
   "outputs": [
    {
     "name": "stdout",
     "output_type": "stream",
     "text": [
      "id: 1\n",
      "\n"
     ]
    }
   ],
   "source": [
    "\"\"\"Create Database, Cell, Layout, Net\"\"\"\n",
    "db = Database.create(EDB_FILE)\n",
    "\n",
    "#cells\n",
    "cell = Cell.create(db, CellType.CIRCUIT_CELL, \"Design\")\n",
    "cell_start = Cell.create(db, CellType.CIRCUIT_CELL, \"Left_Rect\")\n",
    "cell_end = Cell.create(db, CellType.CIRCUIT_CELL, \"Right_Rect\")\n",
    "\n",
    "# Layouts \n",
    "layout = cell.layout\n",
    "layout_start = cell_start.layout\n",
    "layout_end = cell_end.layout\n",
    "\n",
    "# Net\n",
    "net = Net.create(layout, 'GND')\n",
    "net_start = Net.create(layout_start, 'GNDs')\n",
    "net_end = Net.create(layout_end, 'GNDe')"
   ]
  },
  {
   "cell_type": "markdown",
   "id": "23608a1b",
   "metadata": {},
   "source": [
    "## Setup Layers for the different cells"
   ]
  },
  {
   "cell_type": "code",
   "execution_count": 5,
   "id": "abd5a80d",
   "metadata": {},
   "outputs": [
    {
     "name": "stdout",
     "output_type": "stream",
     "text": [
      "LC ['Layer2', 'Layer1', 'Ground']\n",
      "LCS ['Start']\n",
      "LCE ['End']\n",
      "Start End\n"
     ]
    }
   ],
   "source": [
    "\"\"\"Create layers, add them to layer collection and retrieve them again.\"\"\"\n",
    "\n",
    "# Layers in layout's layer collection\n",
    "layer_gnd = StackupLayer.create('Ground', LayerType.SIGNAL_LAYER, 0.0001, 0, \"copper\")\n",
    "layer_start = StackupLayer.create('Layer1', LayerType.SIGNAL_LAYER, 0.003, 0.0001, \"copper\")\n",
    "layer_end = StackupLayer.create('Layer2', LayerType.SIGNAL_LAYER, 0.003, 0.0031, \"copper\")\n",
    "lc = layout.layer_collection\n",
    "lc.add_layers([layer_gnd, layer_start, layer_end])\n",
    "\n",
    "# Layers for additional cells\n",
    "layer_inner_start = StackupLayer.create('Start', LayerType.SIGNAL_LAYER, 0.0001, 0, \"copper\")\n",
    "layer_inner_end = StackupLayer.create('End', LayerType.SIGNAL_LAYER, 0.0001, 0, \"copper\")\n",
    "lcs = layout_start.layer_collection\n",
    "lcs.add_layers([layer_inner_start])\n",
    "lce = layout_end.layer_collection\n",
    "lce.add_layers([layer_inner_end])\n",
    "\n",
    "# Retrieve layers collection and layers\n",
    "layer_gnd = lc.find_by_name('Ground')\n",
    "layer_start = lc.find_by_name('Layer1')\n",
    "layer_end = lc.find_by_name('Layer2')\n",
    "layer_inner_start = lcs.find_by_name('Start')\n",
    "layer_inner_end = lce.find_by_name('End')\n",
    "\n",
    "# Priint layers created for lc\n",
    "print(\"LC\", [(l.name) for l in lc.get_layers() ])\n",
    "# Priint layers created for lcs\n",
    "print(\"LCS\", [(l.name) for l in lcs.get_layers() ])\n",
    "# Priint layers created for lcs\n",
    "print(\"LCE\", [(l.name) for l in lce.get_layers() ])\n",
    "\n",
    "\n",
    "print(layer_inner_start.name,layer_inner_end.name)\n"
   ]
  },
  {
   "cell_type": "markdown",
   "id": "7ac41043",
   "metadata": {},
   "source": [
    "## Create geometry"
   ]
  },
  {
   "cell_type": "code",
   "execution_count": 6,
   "id": "ea0dd4f6",
   "metadata": {},
   "outputs": [
    {
     "name": "stdout",
     "output_type": "stream",
     "text": [
      "[('RECTANGLE', 'Start'), ('RECTANGLE', 'End')]\n"
     ]
    }
   ],
   "source": [
    "\"\"\"Create Primitive objects\"\"\"\n",
    "\n",
    "# Rectangles\n",
    "um = lambda val : val * 1e-6\n",
    "rect = Rectangle.create(layout=layout_start,\n",
    "                        layer=layer_inner_start,\n",
    "                        net=net_start,\n",
    "                        rep_type=RectangleRepresentationType.LOWER_LEFT_UPPER_RIGHT,\n",
    "                        param1=um(0.0),\n",
    "                        param2=um(0.0),\n",
    "                        param3=um(30),\n",
    "                        param4=um(30),\n",
    "                        corner_rad=0.0,\n",
    "                        rotation=0.0\n",
    "                        )\n",
    "\n",
    "rect_2 = Rectangle.create(layout=layout_end,\n",
    "                          layer=layer_inner_end,\n",
    "                          net=net_end,\n",
    "                          rep_type=RectangleRepresentationType.LOWER_LEFT_UPPER_RIGHT,\n",
    "                          param1=um(0.0),\n",
    "                          param2=um(0.0),\n",
    "                          param3=um(20),\n",
    "                          param4=um(20),\n",
    "                          corner_rad=0.0,\n",
    "                          rotation=0.0\n",
    "                          )\n",
    "#Retrieve the primitives\n",
    "primitives_created = layout_start.primitives + layout_end.primitives\n",
    "\n",
    "# Print primitives created and their layers\n",
    "print([(p.primitive_type.name, p.layer.name) for p in primitives_created ])"
   ]
  },
  {
   "cell_type": "markdown",
   "id": "f4781296",
   "metadata": {},
   "source": [
    "## Create the cell instances"
   ]
  },
  {
   "cell_type": "code",
   "execution_count": 7,
   "id": "8af667ab",
   "metadata": {},
   "outputs": [],
   "source": [
    "cis = CellInstance.create(layout, 'CellInstanceStart', layout_start)\n",
    "cie = CellInstance.create(layout, 'CellInstanceEnd', layout_end)\n",
    "cie.location=(um(60),um(10))"
   ]
  },
  {
   "cell_type": "markdown",
   "id": "5fb86ee9",
   "metadata": {},
   "source": [
    "## Create the bondwire definition"
   ]
  },
  {
   "cell_type": "code",
   "execution_count": 8,
   "id": "924e29ed",
   "metadata": {},
   "outputs": [],
   "source": [
    "# Create an APD Bondwire Definition\n",
    "wire_0 = ApdBondwireDef.create(db, 'Wire_0')\n",
    "\n",
    "# Bondwire Parameters name (nm) diameter(dia) and material(mat) should be set as strings(quoted)\n",
    "parameters_str = \"bwd(nm=\\'Wire_0\\', ven=true, for=true, dia=\\'2.54e-05\\', mat=\\'gold\\',\\\n",
    "col=0, vis=true, dih=0, nfc=6, seg(ht=0, hv=0, vt=0, vv=0, ht=0, hv=0, vt=0, vv=0))\"\n",
    "\n",
    "# Set parameters\n",
    "wire_0.set_parameters(parameters_str)"
   ]
  },
  {
   "cell_type": "markdown",
   "id": "8cd85901",
   "metadata": {},
   "source": [
    "## Create the bondwire"
   ]
  },
  {
   "cell_type": "code",
   "execution_count": 9,
   "id": "be281446",
   "metadata": {},
   "outputs": [],
   "source": [
    "# Bondwire\n",
    "bondwire = Bondwire.create(\n",
    "    layout=layout,\n",
    "    bondwire_type=BondwireType.APD,\n",
    "    definition_name='Wire_0',\n",
    "    placement_layer=layer_gnd.name,\n",
    "    width=um(5),\n",
    "    material='gold',\n",
    "    start_context=cis,\n",
    "    start_layer_name=layer_inner_start.name,\n",
    "    start_x=um(15),\n",
    "    start_y=um(15),\n",
    "    end_context=cie,\n",
    "    end_layer_name=layer_inner_end.name,\n",
    "    end_x=um(55),\n",
    "    end_y=um(15),\n",
    "    net=net,\n",
    ")\n",
    "bondwire.cross_section_type = BondwireCrossSectionType.RECTANGLE\n",
    "bondwire.cross_section_height = um(5)\n",
    "bondwire.set_traj(um(15), um(15), um(70), um(15))"
   ]
  },
  {
   "cell_type": "markdown",
   "id": "95397908",
   "metadata": {},
   "source": [
    "# Save database"
   ]
  },
  {
   "cell_type": "code",
   "execution_count": 10,
   "id": "3290a8f6",
   "metadata": {},
   "outputs": [],
   "source": [
    "\"\"\"Save database if you wish.\"\"\"\n",
    "\n",
    "db.save()"
   ]
  },
  {
   "cell_type": "markdown",
   "id": "a3920809",
   "metadata": {},
   "source": [
    "# Disconnect from database"
   ]
  },
  {
   "cell_type": "code",
   "execution_count": 11,
   "id": "21e1c810",
   "metadata": {},
   "outputs": [],
   "source": [
    "\"\"\"Don't forget to disconnect it!\"\"\"\n",
    "\n",
    "session.disconnect()"
   ]
  }
 ],
 "metadata": {
 },
 "nbformat": 4,
 "nbformat_minor": 5
}
