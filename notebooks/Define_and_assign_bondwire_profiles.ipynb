{
 "cells": [
  {
   "cell_type": "markdown",
   "id": "4828f0a8",
   "metadata": {},
   "source": [
    "# Define and assign bondwire profiles"
   ]
  },
  {
   "cell_type": "markdown",
   "id": "f03bd675",
   "metadata": {},
   "source": [
    "## Imports"
   ]
  },
  {
   "cell_type": "code",
   "execution_count": 1,
   "id": "cd7e721c",
   "metadata": {},
   "outputs": [],
   "source": [
    "import os\n",
    "\n",
    "from ansys.edb.database import Database\n",
    "from ansys.edb.definition import ApdBondwireDef\n",
    "from ansys.edb.hierarchy import CellInstance\n",
    "from ansys.edb.layer import LayerType, StackupLayer\n",
    "from ansys.edb.layout.cell import Cell, CellType\n",
    "from ansys.edb.net import Net\n",
    "from ansys.edb.primitive import (\n",
    "    Bondwire,\n",
    "    BondwireCrossSectionType,\n",
    "    BondwireType,\n",
    "    Rectangle,\n",
    "    RectangleRepresentationType,\n",
    ")\n",
    "from ansys.edb.session import launch_session"
   ]
  },
  {
   "cell_type": "markdown",
   "id": "636d0b78",
   "metadata": {},
   "source": [
    "## Configs"
   ]
  },
  {
   "cell_type": "code",
   "execution_count": 2,
   "id": "a09c729b",
   "metadata": {},
   "outputs": [],
   "source": [
    "# RPC_SERVER = None if separate server is already running, Root dir of server executable otherwise.\n",
    "RPC_SERVER = None\n",
    "ROOT = os.getcwd()\n",
    "EDB_FILE = os.path.join(ROOT, \"define_and_assign_bondwire_profiles.aedb\")"
   ]
  },
  {
   "cell_type": "markdown",
   "id": "0bc8909b",
   "metadata": {},
   "source": [
    "## Launch a session"
   ]
  },
  {
   "cell_type": "code",
   "execution_count": 3,
   "id": "87bc6dac",
   "metadata": {
    "scrolled": true
   },
   "outputs": [],
   "source": [
    "# Make sure old one has been disconnected prior to starting a new one, if any\n",
    "session = launch_session(RPC_SERVER, 50051)"
   ]
  },
  {
   "cell_type": "markdown",
   "id": "588e7a7d",
   "metadata": {},
   "source": [
    "## Basic setup of empty EDB"
   ]
  },
  {
   "cell_type": "code",
   "execution_count": 4,
   "id": "f060f9f4",
   "metadata": {},
   "outputs": [
    {
     "name": "stdout",
     "output_type": "stream",
     "text": [
      "id: 26\n",
      "\n"
     ]
    }
   ],
   "source": [
    "\"\"\"Create Database, Cell, Layout, Net\"\"\"\n",
    "\n",
    "db = Database.create(EDB_FILE)\n",
    "\n",
    "# cells\n",
    "cell = Cell.create(db, CellType.CIRCUIT_CELL, \"Design\")\n",
    "cell_start = Cell.create(db, CellType.CIRCUIT_CELL, \"Start\")\n",
    "cell_start.is_blackbox = True\n",
    "cell_end = Cell.create(db, CellType.CIRCUIT_CELL, \"End\")\n",
    "cell_end.is_blackbox = True\n",
    "\n",
    "# Layouts\n",
    "layout = cell.layout\n",
    "layout_start = cell_start.layout\n",
    "layout_end = cell_end.layout\n",
    "\n",
    "# Net\n",
    "net = Net.create(layout, \"signal\")\n",
    "net_start = Net.create(layout_start, \"start_signal\")\n",
    "net_end = Net.create(layout_end, \"end_signal\")"
   ]
  },
  {
   "cell_type": "markdown",
   "id": "23608a1b",
   "metadata": {},
   "source": [
    "## Setup Layers for the different cells"
   ]
  },
  {
   "cell_type": "code",
   "execution_count": 5,
   "id": "abd5a80d",
   "metadata": {},
   "outputs": [
    {
     "name": "stdout",
     "output_type": "stream",
     "text": [
      "LC ['signal']\n",
      "LCS ['start_signal']\n",
      "LCE ['end_signal']\n"
     ]
    }
   ],
   "source": [
    "\"\"\"Create layers, add them to layer collection and retrieve them again.\"\"\"\n",
    "\n",
    "# Layers in layout's layer collection\n",
    "lc = layout.layer_collection\n",
    "layout.layer_collection.add_layer_top(\n",
    "    StackupLayer.create(\"signal\", LayerType.SIGNAL_LAYER, 0.0001, 0, \"copper\")\n",
    ")\n",
    "\n",
    "# Layers for additional cells\n",
    "lcs = layout_start.layer_collection\n",
    "lcs.add_layer_top(\n",
    "    StackupLayer.create(\"start_signal\", LayerType.SIGNAL_LAYER, 0.0001, 0, \"copper\")\n",
    ")\n",
    "lce = layout_end.layer_collection\n",
    "lce.add_layer_top(\n",
    "    StackupLayer.create(\"end_signal\", LayerType.SIGNAL_LAYER, 0.0001, 0, \"copper\")\n",
    ")\n",
    "\n",
    "# Retrieve layers collection and layers\n",
    "signal_lyr = lc.find_by_name(\"signal\")\n",
    "start_signal_lyr = lcs.find_by_name(\"start_signal\")\n",
    "end_signal_lyr = lce.find_by_name(\"end_signal\")\n",
    "\n",
    "# Print layers created for lc\n",
    "print(\"LC\", [l.name for l in layout.layer_collection.get_layers()])\n",
    "# Print layers created for lcs\n",
    "print(\"LCS\", [l.name for l in layout_start.layer_collection.get_layers()])\n",
    "# Print layers created for lce\n",
    "print(\"LCE\", [l.name for l in layout_end.layer_collection.get_layers()])"
   ]
  },
  {
   "cell_type": "markdown",
   "id": "7ac41043",
   "metadata": {},
   "source": [
    "## Create geometry"
   ]
  },
  {
   "cell_type": "code",
   "execution_count": 6,
   "id": "ea0dd4f6",
   "metadata": {},
   "outputs": [
    {
     "name": "stdout",
     "output_type": "stream",
     "text": [
      "[('RECTANGLE', 'start_signal'), ('RECTANGLE', 'end_signal')]\n"
     ]
    }
   ],
   "source": [
    "\"\"\"Create Primitive objects\"\"\"\n",
    "\n",
    "# Rectangles\n",
    "def mm(val):\n",
    "    return val * 1e-3\n",
    "\n",
    "Rectangle.create(\n",
    "    layout=layout_start,\n",
    "    layer=start_signal_lyr,\n",
    "    net=net_start,\n",
    "    rep_type=RectangleRepresentationType.LOWER_LEFT_UPPER_RIGHT,\n",
    "    param1=mm(0.0),\n",
    "    param2=mm(0.0),\n",
    "    param3=mm(0.30),\n",
    "    param4=mm(0.30),\n",
    "    corner_rad=0.0,\n",
    "    rotation=0.0,\n",
    ")\n",
    "\n",
    "Rectangle.create(\n",
    "    layout=layout_end,\n",
    "    layer=end_signal_lyr,\n",
    "    net=net_end,\n",
    "    rep_type=RectangleRepresentationType.LOWER_LEFT_UPPER_RIGHT,\n",
    "    param1=mm(0.0),\n",
    "    param2=mm(0.0),\n",
    "    param3=mm(0.20),\n",
    "    param4=mm(0.20),\n",
    "    corner_rad=0.0,\n",
    "    rotation=0.0,\n",
    ")\n",
    "\n",
    "# Retrieve the primitives\n",
    "primitives_created = layout_start.primitives + layout_end.primitives\n",
    "\n",
    "# Print primitives created and their layers\n",
    "print([(p.primitive_type.name, p.layer.name) for p in primitives_created])"
   ]
  },
  {
   "cell_type": "markdown",
   "id": "f4781296",
   "metadata": {},
   "source": [
    "## Create the cell instances"
   ]
  },
  {
   "cell_type": "code",
   "execution_count": 7,
   "id": "8af667ab",
   "metadata": {},
   "outputs": [],
   "source": [
    "cis = CellInstance.create(layout, 'CellInstanceStart', layout_start)\n",
    "cie = CellInstance.create(layout, 'CellInstanceEnd', layout_end)\n",
    "cie.location = mm(0.60), mm(0.05)"
   ]
  },
  {
   "cell_type": "markdown",
   "id": "5fb86ee9",
   "metadata": {},
   "source": [
    "## Create the bondwire definition"
   ]
  },
  {
   "cell_type": "code",
   "execution_count": 8,
   "id": "924e29ed",
   "metadata": {},
   "outputs": [],
   "source": [
    "# Create an APD Bondwire Definition\n",
    "wire_0 = ApdBondwireDef.create(db, \"Wire_0\")\n",
    "\n",
    "# Bondwire Parameters name (nm) diameter(dia) and material(mat) should be set as strings(quoted)\n",
    "parameters_str = \"bwd(nm='Wire_0', ven=true, for=true, dia='2.54e-05', mat='gold',\\\n",
    "col=0, vis=true, dih=0, nfc=6, seg(ht=0, hv=0, vt=0, vv=0.0001))\"\n",
    "\n",
    "# Set parameters\n",
    "wire_0.set_parameters(parameters_str)"
   ]
  },
  {
   "cell_type": "markdown",
   "id": "8cd85901",
   "metadata": {},
   "source": [
    "## Create the bondwire"
   ]
  },
  {
   "cell_type": "code",
   "execution_count": 9,
   "id": "be281446",
   "metadata": {},
   "outputs": [],
   "source": [
    "# Bondwire\n",
    "bondwire = Bondwire.create(\n",
    "    layout=layout,\n",
    "    bondwire_type=BondwireType.APD,\n",
    "    definition_name=\"Wire_0\",\n",
    "    placement_layer=signal_lyr.name,\n",
    "    width=mm(0.01),\n",
    "    material=\"gold\",\n",
    "    start_context=cis,\n",
    "    start_layer_name=start_signal_lyr.name,\n",
    "    start_x=mm(0.15),\n",
    "    start_y=mm(0.15),\n",
    "    end_context=cie,\n",
    "    end_layer_name=end_signal_lyr.name,\n",
    "    end_x=mm(0.55),\n",
    "    end_y=mm(0.15),\n",
    "    net=net,\n",
    ")\n",
    "bondwire.cross_section_type = BondwireCrossSectionType.RECTANGLE\n",
    "bondwire.cross_section_height = mm(0.01)\n",
    "bondwire.set_traj(mm(0.15), mm(0.15), mm(0.70), mm(0.15))"
   ]
  },
  {
   "cell_type": "markdown",
   "id": "95397908",
   "metadata": {},
   "source": [
    "# Save database"
   ]
  },
  {
   "cell_type": "code",
   "execution_count": 10,
   "id": "3290a8f6",
   "metadata": {},
   "outputs": [],
   "source": [
    "\"\"\"Save database if you wish.\"\"\"\n",
    "\n",
    "db.save()"
   ]
  },
  {
   "cell_type": "markdown",
   "id": "a3920809",
   "metadata": {},
   "source": [
    "# Disconnect from database"
   ]
  },
  {
   "cell_type": "code",
   "execution_count": 11,
   "id": "21e1c810",
   "metadata": {},
   "outputs": [],
   "source": [
    "\"\"\"Don't forget to disconnect it!\"\"\"\n",
    "\n",
    "session.disconnect()"
   ]
  }
 ],
 "metadata": {
 },
 "nbformat": 4,
 "nbformat_minor": 5
}
