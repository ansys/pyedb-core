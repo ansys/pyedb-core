{
 "cells": [
  {
   "cell_type": "markdown",
   "id": "4828f0a8",
   "metadata": {},
   "source": [
    "# Move geometry from existing layer to new layer"
   ]
  },
  {
   "cell_type": "code",
   "execution_count": null,
   "id": "87bc6dac",
   "metadata": {},
   "outputs": [],
   "source": [
    "%run helpers/example_setup.ipynb"
   ]
  },
  {
   "cell_type": "markdown",
   "id": "23608a1b",
   "metadata": {},
   "source": [
    "## Setup Layers for cell"
   ]
  },
  {
   "cell_type": "code",
   "execution_count": null,
   "id": "abd5a80d",
   "metadata": {},
   "outputs": [],
   "source": [
    "\"\"\"Create layers, add them to layer collection and retrieve them again.\"\"\"\n",
    "\n",
    "# Layers in layer collection\n",
    "layer_gnd = StackupLayer.create('Ground', layer_type=LayerType.SIGNAL_LAYER, thickness=0.0001, elevation=0, material=\"copper\")\n",
    "layer_1 = StackupLayer.create('NewLayer', LayerType.SIGNAL_LAYER, thickness=0.0001, elevation=0.0001, material=\"copper\")\n",
    "\n",
    "# Layer Collection Setup\n",
    "lc = layout.layer_collection\n",
    "lc.add_layers([layer_gnd, layer_1])\n",
    "\n",
    "# Retrieve layer collection and layers\n",
    "layer_gnd = lc.find_by_name('Ground')\n",
    "layer_1 = lc.find_by_name('NewLayer')\n",
    "\n",
    "# Priint layers created\n",
    "print([(l.name) for l in lc.get_layers() ])"
   ]
  },
  {
   "cell_type": "markdown",
   "id": "7ac41043",
   "metadata": {},
   "source": [
    "## Create geometry"
   ]
  },
  {
   "cell_type": "code",
   "execution_count": null,
   "id": "ea0dd4f6",
   "metadata": {},
   "outputs": [],
   "source": [
    "\"\"\"Create Primitive objects in different layers\"\"\"\n",
    "\n",
    "# Multiply each value with a resolution\n",
    "um = lambda val : val * 1e-6\n",
    "\n",
    "text = Text.create(layout=layout,layer=layer_gnd, center_x=um(0.0), center_y=um(0.0), text=\"my Text\")\n",
    "\n",
    "rect = Rectangle.create(layout=layout,\n",
    "                        layer=layer_gnd,\n",
    "                        net=gnd_net,\n",
    "                        rep_type=RectangleRepresentationType.LOWER_LEFT_UPPER_RIGHT,\n",
    "                        param1=um(10),\n",
    "                        param2=um(10),\n",
    "                        param3=um(20),\n",
    "                        param4=um(20),\n",
    "                        corner_rad=0.0,\n",
    "                        rotation=0.0\n",
    "                        )\n",
    "\n",
    "rect_2 = Rectangle.create(layout=layout,\n",
    "                          layer=layer_gnd,\n",
    "                          net=gnd_net,\n",
    "                          rep_type=RectangleRepresentationType.LOWER_LEFT_UPPER_RIGHT,\n",
    "                          param1=um(0.0),\n",
    "                          param2=um(0.0),\n",
    "                          param3=um(30),\n",
    "                          param4=um(30),\n",
    "                          corner_rad=0.0,\n",
    "                          rotation=0.0\n",
    "                          )\n",
    "\n",
    "circle = Circle.create(layout=layout,layer=layer_gnd,net=gnd_net, center_x=um(0.0), center_y=um(0.0), radius=um(34.0))\n",
    "\n",
    "#Retrieve the primitives\n",
    "primitives_created = layout.primitives\n",
    "\n",
    "# Print primitives created and their layers\n",
    "print([(p.primitive_type.name, p.layer.name) for p in primitives_created ])"
   ]
  },
  {
   "cell_type": "markdown",
   "id": "f4781296",
   "metadata": {},
   "source": [
    "## Move Primitive objects to a new layer"
   ]
  },
  {
   "cell_type": "code",
   "execution_count": null,
   "id": "8af667ab",
   "metadata": {},
   "outputs": [],
   "source": [
    "\"\"\"Move Primitive objects to NewLayer\"\"\"\n",
    "\n",
    "for primitive in primitives_created:\n",
    "    primitive.layer = layer_1\n",
    "\n",
    "# Print primitives and their layers\n",
    "print([(p.primitive_type.name, p.layer.name) for p in primitives_created ])"
   ]
  },
  {
   "cell_type": "code",
   "execution_count": null,
   "id": "21e1c810",
   "metadata": {},
   "outputs": [],
   "source": [
    "%run helpers/example_teardown.ipynb"
   ]
  }
 ],
 "metadata": {
  "kernelspec": {
   "display_name": "Python 3 (ipykernel)",
   "language": "python",
   "name": "python3"
  },
  "language_info": {
   "codemirror_mode": {
    "name": "ipython",
    "version": 3
   },
   "file_extension": ".py",
   "mimetype": "text/x-python",
   "name": "python",
   "nbconvert_exporter": "python",
   "pygments_lexer": "ipython3",
   "version": "3.7.0"
  }
 },
 "nbformat": 4,
 "nbformat_minor": 5
}