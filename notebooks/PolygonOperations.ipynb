{
 "cells": [
  {
   "cell_type": "code",
   "execution_count": null,
   "id": "cd7e721c",
   "metadata": {},
   "outputs": [],
   "source": [
    "%run helpers/example_setup.ipynb"
   ]
  },
  {
   "cell_type": "code",
   "execution_count": null,
   "id": "abd5a80d",
   "metadata": {},
   "outputs": [],
   "source": [
    "p0 = PolygonData([(0,0), (2,0), (2,2), (0,2)])\n",
    "p1 = PolygonData([(1,1), (3,1), (3,3), (1,3)])\n",
    "\n",
    "pi = PolygonData.intersect(p0,p1)\n",
    "pu = PolygonData.unite([p0,p1])\n",
    "ps = PolygonData.subtract(p0,p1)\n",
    "px = PolygonData.xor(p0,p1)\n",
    "pc = PolygonData.convex_hull([p0, p1])\n",
    "pe = pu[0].expand(1, True, 1)\n",
    "bbox1 = pu[0].bbox()\n",
    "bbox2 = PolygonData.bbox_of_polygons([p0, p1])"
   ]
  },
  {
   "cell_type": "code",
   "execution_count": null,
   "id": "1e2791d8",
   "metadata": {},
   "outputs": [],
   "source": [
    "%run helpers/plot.ipynb\n",
    "\n",
    "plt.figure()\n",
    "fig, axs = plt.subplots(3,3, constrained_layout=True)\n",
    "plt.setp(axs, xlim=(-1.5,4.5), ylim=(-1.5,4.5))\n",
    "\n",
    "plot_polys(axs[0][0], [p0, p1], \"Raw polygons\")\n",
    "plot_polys(axs[0][1], pu, \"Union\")\n",
    "plot_polys(axs[0][2], pi, \"Intersection\")\n",
    "plot_polys(axs[1][0], ps, \"Subtraction\")\n",
    "plot_polys(axs[1][1], px, \"XOR\")\n",
    "plot_polys(axs[1][2], [pc], \"Convex Hull\")\n",
    "plot_polys(axs[2][0], pe, \"Expansion\")\n",
    "plot_polys(axs[2][1], [PolygonData(lower_left=bbox1[0], upper_right=bbox1[1])], \"Bounding Box 1\")\n",
    "plot_polys(axs[2][2], [PolygonData(lower_left=bbox2[0], upper_right=bbox2[1])], \"Bounding Box 2\")\n",
    "\n",
    "plt.show()"
   ]
  },
  {
   "cell_type": "code",
   "execution_count": null,
   "id": "5dd1ca9c",
   "metadata": {},
   "outputs": [],
   "source": [
    "lcc = layout.layer_collection\n",
    "lcc.add_layer_top(StackupLayer.create('layer', LayerType.SIGNAL_LAYER, \"2mm\", 0, \"copper\"))\n",
    "\n",
    "for p in [p for polys in [[p0, p1, pc], pu, pi, ps, px, pe] for p in polys]:\n",
    "    Polygon.create(layout, 'layer', gnd_net, p)"
   ]
  },
  {
   "cell_type": "code",
   "execution_count": null,
   "id": "3290a8f6",
   "metadata": {},
   "outputs": [],
   "source": [
    "%run helpers/example_teardown.ipynb"
   ]
  }
 ],
 "metadata": {
  "kernelspec": {
   "display_name": "Python 3 (ipykernel)",
   "language": "python",
   "name": "python3"
  },
  "language_info": {
   "codemirror_mode": {
    "name": "ipython",
    "version": 3
   },
   "file_extension": ".py",
   "mimetype": "text/x-python",
   "name": "python",
   "nbconvert_exporter": "python",
   "pygments_lexer": "ipython3",
   "version": "3.7.0"
  }
 },
 "nbformat": 4,
 "nbformat_minor": 5
}