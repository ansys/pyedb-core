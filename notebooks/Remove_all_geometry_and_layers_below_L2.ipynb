{
 "cells": [
  {
   "cell_type": "markdown",
   "id": "4828f0a8",
   "metadata": {},
   "source": [
    "# Remove all geometry and layers below L2"
   ]
  },
  {
   "cell_type": "markdown",
   "id": "f03bd675",
   "metadata": {},
   "source": [
    "## Imports"
   ]
  },
  {
   "cell_type": "code",
   "execution_count": 1,
   "id": "cd7e721c",
   "metadata": {},
   "outputs": [],
   "source": [
    "import os\n",
    "from ansys.edb.database import Database\n",
    "from ansys.edb.layer import StackupLayer, LayerType, LayerCollectionMode, LayerCollection\n",
    "from ansys.edb.layout import Cell, CellType\n",
    "from ansys.edb.net import Net\n",
    "from ansys.edb.primitive import Rectangle, RectangleRepresentationType, Circle, Text\n",
    "from ansys.edb.session import session, launch_session"
   ]
  },
  {
   "cell_type": "markdown",
   "id": "636d0b78",
   "metadata": {},
   "source": [
    "## Configs"
   ]
  },
  {
   "cell_type": "code",
   "execution_count": 2,
   "id": "a09c729b",
   "metadata": {},
   "outputs": [],
   "source": [
    "# RPC_SERVER = None if separate server is already running, Root dir of server executable otherwise.\n",
    "RPC_SERVER = None\n",
    "ROOT = os.getcwd()\n",
    "EDB_FILE = os.path.join(ROOT, \"remove_all_geometry_and_layers_below_L2.aedb\")"
   ]
  },
  {
   "cell_type": "markdown",
   "id": "0bc8909b",
   "metadata": {},
   "source": [
    "## Launch a session"
   ]
  },
  {
   "cell_type": "code",
   "execution_count": 3,
   "id": "87bc6dac",
   "metadata": {
    "scrolled": true
   },
   "outputs": [],
   "source": [
    "# Make sure old one has been disconnected prior to starting a new one, if any\n",
    "session = launch_session(RPC_SERVER, 50051)"
   ]
  },
  {
   "cell_type": "markdown",
   "id": "588e7a7d",
   "metadata": {},
   "source": [
    "## Basic setup of empty EDB"
   ]
  },
  {
   "cell_type": "code",
   "execution_count": 4,
   "id": "f060f9f4",
   "metadata": {},
   "outputs": [
    {
     "name": "stdout",
     "output_type": "stream",
     "text": [
      "id: 1\n",
      "\n"
     ]
    }
   ],
   "source": [
    "\"\"\"Create Database, Cell, Layout, Net\"\"\"\n",
    "db = Database.create(EDB_FILE)\n",
    "cell = Cell.create(db, CellType.CIRCUIT_CELL, \"EMDesign1\")\n",
    "layout = cell.layout\n",
    "net = Net.create(layout, 'GND')"
   ]
  },
  {
   "cell_type": "markdown",
   "id": "23608a1b",
   "metadata": {},
   "source": [
    "## Setup Layers for cell"
   ]
  },
  {
   "cell_type": "code",
   "execution_count": 5,
   "id": "abd5a80d",
   "metadata": {},
   "outputs": [
    {
     "name": "stdout",
     "output_type": "stream",
     "text": [
      "['L3', 'S3', 'L2', 'S2', 'L1', 'S1', 'Ground']\n"
     ]
    }
   ],
   "source": [
    "\"\"\"Create layers, add them to layer collection and retrieve them again.\"\"\"\n",
    "\n",
    "# Layers in layer collection\n",
    "layer_gnd = StackupLayer.create('Ground', LayerType.SIGNAL_LAYER, 0.0001, 0, \"copper\")\n",
    "insulator_layer_1 = StackupLayer.create('S1', LayerType.DIELECTRIC_LAYER, 0.0002, 0.0002, \"FR4-Epoxy\")\n",
    "layer_1 = StackupLayer.create('L1', LayerType.SIGNAL_LAYER, 0.0001, 0.0003, \"copper\")\n",
    "insulator_layer_2 = StackupLayer.create('S2', LayerType.DIELECTRIC_LAYER, 0.0001, 0.0004, \"FR4-Epoxy\")\n",
    "layer_2 = StackupLayer.create('L2', LayerType.SIGNAL_LAYER, 0.0001, 0.0005, \"copper\")\n",
    "insulator_layer_3 = StackupLayer.create('S3', LayerType.DIELECTRIC_LAYER, 0.0001, 0.0005, \"FR4-Epoxy\")\n",
    "layer_3 = StackupLayer.create('L3', LayerType.SIGNAL_LAYER, 0.0001, 0.0007, \"copper\")\n",
    "\n",
    "# Layer Collection Setup\n",
    "lc = layout.layer_collection\n",
    "lc.mode = LayerCollectionMode.OVERLAPPING\n",
    "lc.add_layers([layer_gnd, insulator_layer_1, layer_1, insulator_layer_2, layer_2, insulator_layer_3, layer_3])\n",
    "\n",
    "# Retrieve layer collection and layers\n",
    "layout.layer_collection = lc\n",
    "insulator_layer_1 = lc.find_by_name('S1')\n",
    "layer_1 = lc.find_by_name('L1')\n",
    "insulator_layer_2 = lc.find_by_name('S2')\n",
    "layer_2 = lc.find_by_name('L2')\n",
    "insulator_layer_3 = lc.find_by_name('S3')\n",
    "layer_3 = lc.find_by_name('L3')\n",
    "lc = layout.layer_collection\n",
    "\n",
    "# Priint layers created\n",
    "print([(l.name) for l in lc.get_layers() ])"
   ]
  },
  {
   "cell_type": "markdown",
   "id": "7ac41043",
   "metadata": {},
   "source": [
    "## Create geometry"
   ]
  },
  {
   "cell_type": "code",
   "execution_count": 6,
   "id": "ea0dd4f6",
   "metadata": {},
   "outputs": [
    {
     "name": "stdout",
     "output_type": "stream",
     "text": [
      "[('RECTANGLE', 'S1'), ('RECTANGLE', 'L1'), ('TEXT', 'S2'), ('RECTANGLE', 'L2'), ('TEXT', 'S3'), ('CIRCLE', 'L3')]\n"
     ]
    }
   ],
   "source": [
    "\"\"\"Create Primitive objects in different layers\"\"\"\n",
    "\n",
    "# Multiply each value with a resolution\n",
    "um = lambda val : val * 1e-6\n",
    "\n",
    "rect = Rectangle.create(layout=layout,\n",
    "                        layer=insulator_layer_1,\n",
    "                        net=net,\n",
    "                        rep_type=RectangleRepresentationType.LOWER_LEFT_UPPER_RIGHT,\n",
    "                        param1=um(10),\n",
    "                        param2=um(10),\n",
    "                        param3=um(20),\n",
    "                        param4=um(20),\n",
    "                        corner_rad=0.0,\n",
    "                        rotation=0.0\n",
    "                        )\n",
    "\n",
    "rect_2 = Rectangle.create(layout=layout,\n",
    "                          layer=layer_1,\n",
    "                          net=net,\n",
    "                          rep_type=RectangleRepresentationType.LOWER_LEFT_UPPER_RIGHT,\n",
    "                          param1=um(0.0),\n",
    "                          param2=um(0.0),\n",
    "                          param3=um(30),\n",
    "                          param4=um(30),\n",
    "                          corner_rad=0.0,\n",
    "                          rotation=0.0\n",
    "                          )\n",
    "\n",
    "text = Text.create(layout=layout, layer=insulator_layer_2, center_x=um(0.0), center_y=um(0.0), text=\"my Text\")\n",
    "\n",
    "rect_3 = Rectangle.create(layout=layout,\n",
    "                          layer=layer_2,\n",
    "                          net=net,\n",
    "                          rep_type=RectangleRepresentationType.LOWER_LEFT_UPPER_RIGHT,\n",
    "                          param1=um(15),\n",
    "                          param2=um(15),\n",
    "                          param3=um(25),\n",
    "                          param4=um(25),\n",
    "                          corner_rad=0.0,\n",
    "                          rotation=0.0\n",
    "                          )\n",
    "\n",
    "text = Text.create(layout=layout, layer=insulator_layer_3, center_x=um(3.0), center_y=um(3.0), text=\"my Text 2\")\n",
    "\n",
    "circle = Circle.create(layout=layout, layer=layer_3, net=net, center_x=um(0.0), center_y=um(0.0), radius=um(34.0))\n",
    "\n",
    "#Retrieve the primitives\n",
    "primitives_created = layout.primitives\n",
    "\n",
    "# Print primitives created\n",
    "print([(p.primitive_type.name, p.layer.name) for p in primitives_created ])"
   ]
  },
  {
   "cell_type": "markdown",
   "id": "f4781296",
   "metadata": {},
   "source": [
    "## Identify layers above L2"
   ]
  },
  {
   "cell_type": "code",
   "execution_count": 7,
   "id": "8af667ab",
   "metadata": {},
   "outputs": [
    {
     "name": "stdout",
     "output_type": "stream",
     "text": [
      "['L3', 'S3', 'L2']\n"
     ]
    }
   ],
   "source": [
    "\"\"\"Create a list of layers to be kept\"\"\"\n",
    "\n",
    "l2 = layout.layer_collection.find_by_name('L2')\n",
    "layers_to_keep = []\n",
    "for layer in lc.get_layers():\n",
    "    if not layer.lower_elevation < l2.lower_elevation:\n",
    "        layers_to_keep.append(layer)\n",
    "        \n",
    "# Print layers\n",
    "print([(l.name) for l in layers_to_keep])"
   ]
  },
  {
   "cell_type": "markdown",
   "id": "ed0d5f34",
   "metadata": {},
   "source": [
    "## Delete geometry of Layers which will be deleted"
   ]
  },
  {
   "cell_type": "code",
   "execution_count": 8,
   "id": "966ddbe2",
   "metadata": {},
   "outputs": [
    {
     "name": "stdout",
     "output_type": "stream",
     "text": [
      "[('RECTANGLE', 'L2'), ('TEXT', 'S3'), ('CIRCLE', 'L3')]\n"
     ]
    }
   ],
   "source": [
    "\"\"\"Delete geometry of Layers under L2\"\"\"\n",
    "for primitive in primitives_created:\n",
    "    if not(primitive.layer.id in [l.id for l in layers_to_keep]):\n",
    "        primitive.delete()\n",
    "\n",
    "#Retrieve the primitives again\n",
    "primitives_kept = layout.primitives\n",
    "\n",
    "# Print primitives kept\n",
    "print([(p.primitive_type.name, p.layer.name) for p in primitives_kept])"
   ]
  },
  {
   "cell_type": "markdown",
   "id": "e2f98ae1",
   "metadata": {},
   "source": [
    "## Create and Set the new layer collection"
   ]
  },
  {
   "cell_type": "code",
   "execution_count": 9,
   "id": "f433ecd7",
   "metadata": {},
   "outputs": [],
   "source": [
    "\"\"\"Assign the new layer collection to the layout\"\"\"\n",
    "\n",
    "new_lc = LayerCollection.create(layout.layer_collection.mode)\n",
    "new_lc.add_layers(layers_to_keep)\n",
    "layout.layer_collection = new_lc"
   ]
  },
  {
   "cell_type": "markdown",
   "id": "95397908",
   "metadata": {},
   "source": [
    "# Save database"
   ]
  },
  {
   "cell_type": "code",
   "execution_count": 10,
   "id": "3290a8f6",
   "metadata": {},
   "outputs": [],
   "source": [
    "\"\"\"Save database if you wish.\"\"\"\n",
    "\n",
    "db.save()"
   ]
  },
  {
   "cell_type": "markdown",
   "id": "a3920809",
   "metadata": {},
   "source": [
    "# Disconnect from database"
   ]
  },
  {
   "cell_type": "code",
   "execution_count": 11,
   "id": "21e1c810",
   "metadata": {},
   "outputs": [],
   "source": [
    "\"\"\"Don't forget to disconnect it!\"\"\"\n",
    "\n",
    "session.disconnect()"
   ]
  }
 ],
 "metadata": {
  "kernelspec": {
   "display_name": "Python 3.10.9 64-bit",
   "language": "python",
   "name": "python3"
  },
  "language_info": {
   "name": "python",
   "version": "3.10.9"
  },
  "vscode": {
   "interpreter": {
    "hash": "26de051ba29f2982a8de78e945f0abaf191376122a1563185a90213a26c5da77"
   }
  }
 },
 "nbformat": 4,
 "nbformat_minor": 5
}
