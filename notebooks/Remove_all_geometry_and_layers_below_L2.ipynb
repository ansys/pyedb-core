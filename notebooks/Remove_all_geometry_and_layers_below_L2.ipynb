{
 "cells": [
  {
   "cell_type": "markdown",
   "id": "4828f0a8",
   "metadata": {},
   "source": [
    "# Remove all geometry and layers below L2"
   ]
  },
  {
   "cell_type": "code",
   "execution_count": 1,
   "id": "87bc6dac",
   "metadata": {},
   "outputs": [
    {
     "name": "stdout",
     "output_type": "stream",
     "text": [
      "id: 1\n",
      "\n",
      "clean design created with default db, cell, layout, gnd_net variables.\n"
     ]
    }
   ],
   "source": [
    "%run helpers/example_setup.ipynb"
   ]
  },
  {
   "cell_type": "markdown",
   "id": "23608a1b",
   "metadata": {},
   "source": [
    "## Setup Layers for cell"
   ]
  },
  {
   "cell_type": "code",
   "execution_count": 2,
   "id": "abd5a80d",
   "metadata": {},
   "outputs": [
    {
     "name": "stdout",
     "output_type": "stream",
     "text": [
      "['L3', 'S3', 'L2', 'S2', 'L1', 'S1', 'Ground']\n"
     ]
    }
   ],
   "source": [
    "\"\"\"Create layers, add them to layer collection and retrieve them again.\"\"\"\n",
    "\n",
    "# Layers in layer collection\n",
    "layer_gnd = StackupLayer.create('Ground', LayerType.SIGNAL_LAYER, 0.0001, 0, \"copper\")\n",
    "insulator_layer_1 = StackupLayer.create('S1', LayerType.DIELECTRIC_LAYER, 0.0002, 0.0002, \"FR4-Epoxy\")\n",
    "layer_1 = StackupLayer.create('L1', LayerType.SIGNAL_LAYER, 0.0001, 0.0003, \"copper\")\n",
    "insulator_layer_2 = StackupLayer.create('S2', LayerType.DIELECTRIC_LAYER, 0.0001, 0.0004, \"FR4-Epoxy\")\n",
    "layer_2 = StackupLayer.create('L2', LayerType.SIGNAL_LAYER, 0.0001, 0.0005, \"copper\")\n",
    "insulator_layer_3 = StackupLayer.create('S3', LayerType.DIELECTRIC_LAYER, 0.0001, 0.0005, \"FR4-Epoxy\")\n",
    "layer_3 = StackupLayer.create('L3', LayerType.SIGNAL_LAYER, 0.0001, 0.0007, \"copper\")\n",
    "\n",
    "# Layer Collection Setup\n",
    "lc = layout.layer_collection\n",
    "lc.mode = LayerCollectionMode.OVERLAPPING\n",
    "lc.add_layers([layer_gnd, insulator_layer_1, layer_1, insulator_layer_2, layer_2, insulator_layer_3, layer_3])\n",
    "\n",
    "# Retrieve layer collection and layers\n",
    "layout.layer_collection = lc\n",
    "insulator_layer_1 = lc.find_by_name('S1')\n",
    "layer_1 = lc.find_by_name('L1')\n",
    "insulator_layer_2 = lc.find_by_name('S2')\n",
    "layer_2 = lc.find_by_name('L2')\n",
    "insulator_layer_3 = lc.find_by_name('S3')\n",
    "layer_3 = lc.find_by_name('L3')\n",
    "lc = layout.layer_collection\n",
    "\n",
    "# Priint layers created\n",
    "print([(l.name) for l in lc.get_layers() ])"
   ]
  },
  {
   "cell_type": "markdown",
   "id": "7ac41043",
   "metadata": {},
   "source": [
    "## Create geometry"
   ]
  },
  {
   "cell_type": "code",
   "execution_count": 3,
   "id": "ea0dd4f6",
   "metadata": {},
   "outputs": [
    {
     "name": "stdout",
     "output_type": "stream",
     "text": [
      "[('RECTANGLE', 'S1'), ('RECTANGLE', 'L1'), ('TEXT', 'S2'), ('RECTANGLE', 'L2'), ('TEXT', 'S3'), ('CIRCLE', 'L3')]\n"
     ]
    }
   ],
   "source": [
    "\"\"\"Create Primitive objects in different layers\"\"\"\n",
    "\n",
    "# Multiply each value with a resolution\n",
    "um = lambda val : val * 1e-6\n",
    "\n",
    "rect = Rectangle.create(layout=layout,\n",
    "                        layer=insulator_layer_1,\n",
    "                        net=gnd_net,\n",
    "                        rep_type=RectangleRepresentationType.LOWER_LEFT_UPPER_RIGHT,\n",
    "                        param1=um(10),\n",
    "                        param2=um(10),\n",
    "                        param3=um(20),\n",
    "                        param4=um(20),\n",
    "                        corner_rad=0.0,\n",
    "                        rotation=0.0\n",
    "                        )\n",
    "\n",
    "rect_2 = Rectangle.create(layout=layout,\n",
    "                          layer=layer_1,\n",
    "                          net=gnd_net,\n",
    "                          rep_type=RectangleRepresentationType.LOWER_LEFT_UPPER_RIGHT,\n",
    "                          param1=um(0.0),\n",
    "                          param2=um(0.0),\n",
    "                          param3=um(30),\n",
    "                          param4=um(30),\n",
    "                          corner_rad=0.0,\n",
    "                          rotation=0.0\n",
    "                          )\n",
    "\n",
    "text = Text.create(layout=layout, layer=insulator_layer_2, center_x=um(0.0), center_y=um(0.0), text=\"my Text\")\n",
    "\n",
    "rect_3 = Rectangle.create(layout=layout,\n",
    "                          layer=layer_2,\n",
    "                          net=gnd_net,\n",
    "                          rep_type=RectangleRepresentationType.LOWER_LEFT_UPPER_RIGHT,\n",
    "                          param1=um(15),\n",
    "                          param2=um(15),\n",
    "                          param3=um(25),\n",
    "                          param4=um(25),\n",
    "                          corner_rad=0.0,\n",
    "                          rotation=0.0\n",
    "                          )\n",
    "\n",
    "text = Text.create(layout=layout, layer=insulator_layer_3, center_x=um(3.0), center_y=um(3.0), text=\"my Text 2\")\n",
    "\n",
    "circle = Circle.create(layout=layout, layer=layer_3, net=gnd_net, center_x=um(0.0), center_y=um(0.0), radius=um(34.0))\n",
    "\n",
    "#Retrieve the primitives\n",
    "primitives_created = layout.primitives\n",
    "\n",
    "# Print primitives created\n",
    "print([(p.primitive_type.name, p.layer.name) for p in primitives_created ])"
   ]
  },
  {
   "cell_type": "markdown",
   "id": "f4781296",
   "metadata": {},
   "source": [
    "## Identify layers above L2"
   ]
  },
  {
   "cell_type": "code",
   "execution_count": 4,
   "id": "8af667ab",
   "metadata": {},
   "outputs": [
    {
     "name": "stdout",
     "output_type": "stream",
     "text": [
      "['L3', 'S3', 'L2']\n"
     ]
    }
   ],
   "source": [
    "\"\"\"Create a list of layers to be kept\"\"\"\n",
    "\n",
    "l2 = layout.layer_collection.find_by_name('L2')\n",
    "layers_to_keep = []\n",
    "for layer in lc.get_layers():\n",
    "    if not layer.lower_elevation < l2.lower_elevation:\n",
    "        layers_to_keep.append(layer)\n",
    "        \n",
    "# Print layers\n",
    "print([(l.name) for l in layers_to_keep])"
   ]
  },
  {
   "cell_type": "markdown",
   "id": "ed0d5f34",
   "metadata": {},
   "source": [
    "## Delete geometry of Layers which will be deleted"
   ]
  },
  {
   "cell_type": "code",
   "execution_count": 5,
   "id": "966ddbe2",
   "metadata": {},
   "outputs": [
    {
     "name": "stdout",
     "output_type": "stream",
     "text": [
      "[('RECTANGLE', 'L2'), ('TEXT', 'S3'), ('CIRCLE', 'L3')]\n"
     ]
    }
   ],
   "source": [
    "\"\"\"Delete geometry of Layers under L2\"\"\"\n",
    "for primitive in primitives_created:\n",
    "    if not(primitive.layer.id in [l.id for l in layers_to_keep]):\n",
    "        primitive.delete()\n",
    "\n",
    "#Retrieve the primitives again\n",
    "primitives_kept = layout.primitives\n",
    "\n",
    "# Print primitives kept\n",
    "print([(p.primitive_type.name, p.layer.name) for p in primitives_kept])"
   ]
  },
  {
   "cell_type": "markdown",
   "id": "e2f98ae1",
   "metadata": {},
   "source": [
    "## Create and Set the new layer collection"
   ]
  },
  {
   "cell_type": "code",
   "execution_count": 6,
   "id": "f433ecd7",
   "metadata": {},
   "outputs": [],
   "source": [
    "\"\"\"Assign the new layer collection to the layout\"\"\"\n",
    "\n",
    "new_lc = LayerCollection.create(layout.layer_collection.mode)\n",
    "new_lc.add_layers(layers_to_keep)\n",
    "layout.layer_collection = new_lc"
   ]
  },
  {
   "cell_type": "code",
   "execution_count": 7,
   "id": "21e1c810",
   "metadata": {},
   "outputs": [],
   "source": [
    "%run helpers/example_teardown.ipynb"
   ]
  }
 ],
 "metadata": {},
 "nbformat": 4,
 "nbformat_minor": 5
}