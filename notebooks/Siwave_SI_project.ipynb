{
 "cells": [
  {
   "cell_type": "code",
   "execution_count": null,
   "id": "2a420ed8-baa6-48cf-94d6-0db405763fa7",
   "metadata": {},
   "outputs": [],
   "source": [
    "import os\n",
    "import shutil\n",
    "import datetime\n",
    "from ansys.edb.database import Database\n",
    "from ansys.edb.geometry import ExtentType\n",
    "from ansys.edb.session import launch_session\n",
    "from ansys.edb.hierarchy.pin_group import PinGroup\n",
    "from ansys.edb.terminal.terminals import PinGroupTerminal\n",
    "from ansys.edb.terminal.terminals import BoundaryType"
   ]
  },
  {
   "cell_type": "code",
   "execution_count": null,
   "id": "5b159b70-6def-4381-bb94-1226de25988c",
   "metadata": {},
   "outputs": [],
   "source": [
    "\"\"\"EDB_RPC_SERVEUR.EXE path\"\"\"\n",
    "\n",
    "RPC_SERVER = r\"C:\\Program Files\\AnsysEM\\v232\\Win64\""
   ]
  },
  {
   "cell_type": "code",
   "execution_count": null,
   "id": "931e6a6e-2d84-4d25-b843-242a4ae0515b",
   "metadata": {},
   "outputs": [],
   "source": [
    "\"\"\"Copying local edb file\"\"\"\n",
    "\n",
    "ROOT = os.getcwd()\n",
    "session = launch_session(RPC_SERVER, 50051)\n",
    "source_path = os.path.join(ROOT, \"data\", \"edb\", \"Galileo_edb.aedb\")\n",
    "target_path = os.path.join(ROOT, \"test_{}.aedb\".format(str(datetime.datetime.now().date())))\n",
    "shutil.copytree(source_path, target_path)"
   ]
  },
  {
   "cell_type": "code",
   "execution_count": null,
   "id": "f34451ba-3dae-4617-a791-1b2e1aaf9c9a",
   "metadata": {},
   "outputs": [],
   "source": [
    "\"\"\"Open EDB\"\"\"\n",
    "\n",
    "edb = Database.open(target_path, False)"
   ]
  },
  {
   "cell_type": "code",
   "execution_count": null,
   "id": "6283b641-883f-4d75-a617-15ff646bd599",
   "metadata": {},
   "outputs": [],
   "source": [
    "\"\"\"EDB Layout \"\"\"\n",
    "\n",
    "layout = edb.circuit_cells[0].layout"
   ]
  },
  {
   "cell_type": "code",
   "execution_count": null,
   "id": "d8e02fa3-e51b-4021-a46e-5fe74fe03a1b",
   "metadata": {},
   "outputs": [],
   "source": [
    "\"\"\"Component list to be included for the simulation\"\"\"\n",
    "\n",
    "edb_components = [cmp for cmp in edb.circuit_cells[0].layout.groups if cmp.name in [\"U2A5\", \"U1B5\"]]"
   ]
  },
  {
   "cell_type": "code",
   "execution_count": null,
   "id": "6c0e7de4-567c-4de6-9eb7-31e14baed837",
   "metadata": {},
   "outputs": [],
   "source": [
    "\"\"\"Signal nets to be included\"\"\"\n",
    "\n",
    "signal_nets = [\"M_DQ<0>\", \"M_DQ<1>\", \"M_DQ<2>\", \"M_DQ<3>\", \"M_DQ<4>\", \"M_DQ<5>\", \"M_DQ<6>\", \"M_DQ<7>\"]"
   ]
  },
  {
   "cell_type": "code",
   "execution_count": null,
   "id": "b28a9fbe-676a-47b8-bd01-94524a0b2fa3",
   "metadata": {},
   "outputs": [],
   "source": [
    "\"\"\"Reference nets, will be used to defined reference pin group terminals\"\"\"\n",
    "\n",
    "reference_net = [\"GND\"]"
   ]
  },
  {
   "cell_type": "code",
   "execution_count": null,
   "id": "a2965afd-2b2e-4f80-b0e5-b1f3494b138b",
   "metadata": {},
   "outputs": [],
   "source": [
    "\"\"\"Creating pingroup terminals on each component based on net selection\"\"\"\n",
    "\n",
    "for cmp in edb_components:\n",
    "    ref_pins = [pin for pin in cmp.members if pin.net.name in reference_net]\n",
    "    if ref_pins:\n",
    "        ref_pin_group = PinGroup.create(layout, \"{}_{}_ref\".format(cmp.name, reference_net[0]), ref_pins)\n",
    "        ref_pin_group_term = PinGroupTerminal.create(layout, \"{}_{}_ref\".format(cmp.name, reference_net[0]),\n",
    "                                                         ref_pin_group, reference_net[0], False)\n",
    "        ref_pin_group_term.is_circuit_port = True\n",
    "        ref_pin_group_term.boundary_type = BoundaryType.PORT\n",
    "        for signal_net in signal_nets:\n",
    "            pins = [pin for pin in cmp.members if pin.net.name == signal_net]\n",
    "            if pins:\n",
    "                pin_group = PinGroup.create(layout, \"{}_{}\".format(cmp.name, signal_net), pins)\n",
    "                if pin_group:\n",
    "                    pin_group_term = PinGroupTerminal.create(layout, \"{}_{}\".format(cmp.name, signal_net), pin_group,\n",
    "                                                            signal_net, False)\n",
    "                    pin_group_term.is_circuit_port = True\n",
    "                    pin_group_term.boundary_type = BoundaryType.PORT\n",
    "                    pin_group_term.reference_terminal = ref_pin_group_term"
   ]
  },
  {
   "cell_type": "code",
   "execution_count": null,
   "id": "95c8d54a-692b-4764-9c09-5002d6bc08bf",
   "metadata": {},
   "outputs": [],
   "source": [
    "\"\"\"Computing conformal extend based on net selection\"\"\"\n",
    "\n",
    "included_nets = [net for net in layout.nets if net.name in signal_nets]\n",
    "clipped_net = [net for net in layout.nets if net.name in reference_net]\n",
    "expanded_extent = layout.expanded_extent(\n",
    "    nets=included_nets,\n",
    "    extent=ExtentType.CONFORMING,\n",
    "    expansion_factor=0.01,\n",
    "    expansion_unitless=False,\n",
    "    use_round_corner=True,\n",
    "    num_increments=1,\n",
    ")"
   ]
  },
  {
   "cell_type": "code",
   "execution_count": null,
   "id": "3cd41161-2de9-4b6b-8da5-2849e5f02067",
   "metadata": {},
   "outputs": [],
   "source": [
    "\"\"\"Clipping design\"\"\"\n",
    "\n",
    "cutout_cell = layout.cell.cutout(\n",
    "    included_nets=included_nets,\n",
    "    clipped_nets=clipped_net,\n",
    "    clipping_polygon=expanded_extent,\n",
    "    clean_clipping=True,\n",
    ")"
   ]
  },
  {
   "cell_type": "code",
   "execution_count": null,
   "id": "679726c5-c4f6-4384-a43c-fa33bb3a0a38",
   "metadata": {},
   "outputs": [],
   "source": [
    "\"\"\"Deleting initial cell after clipping\"\"\"\n",
    "\n",
    "edb.circuit_cells[0].delete()"
   ]
  },
  {
   "cell_type": "code",
   "execution_count": null,
   "id": "40e43f8d-1929-409b-b2e7-7e66c8f44b9d",
   "metadata": {},
   "outputs": [],
   "source": [
    "\"\"\"Save, close EDB and grpc session \"\"\"\n",
    "\n",
    "edb.save()\n",
    "edb.close()\n",
    "session.disconnect()"
   ]
  }
 ],
 "metadata": {
  "kernelspec": {
   "display_name": "Python 3 (ipykernel)",
   "language": "python",
   "name": "python3"
  },
  "language_info": {
   "codemirror_mode": {
    "name": "ipython",
    "version": 3
   },
   "file_extension": ".py",
   "mimetype": "text/x-python",
   "name": "python",
   "nbconvert_exporter": "python",
   "pygments_lexer": "ipython3",
   "version": "3.9.4"
  }
 },
 "nbformat": 4,
 "nbformat_minor": 5
}
