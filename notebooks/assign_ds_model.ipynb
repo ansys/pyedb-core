{
 "cells": [
  {
   "cell_type": "code",
   "execution_count": 23,
   "id": "de19eb7d",
   "metadata": {},
   "outputs": [],
   "source": [
    "\"\"\"imports\"\"\"\n",
    "import os\n",
    "from ansys.edb.database import Database\n",
    "from ansys.edb.session import launch_session\n",
    "import ansys.edb as edb\n",
    "from ansys.edb.definition.djordjecvic_sarkar_model import DjordjecvicSarkarModel\n",
    "import json\n",
    "import psutil"
   ]
  },
  {
   "cell_type": "code",
   "execution_count": 24,
   "id": "67bf7709",
   "metadata": {},
   "outputs": [],
   "source": [
    "\"\"\"configs\"\"\"\n",
    "ROOT = os.getcwd()\n",
    "EXE_ROOT = os.environ['ANSYSEM_ROOT232']\n",
    "ROOT = os.getcwd()\n",
    "EDB_FILE = os.path.join(ROOT,'data','meshed_ground.aedb')\n",
    "out = os.path.join(ROOT,'data','assign_ds_model.aedb')"
   ]
  },
  {
   "cell_type": "code",
   "execution_count": 25,
   "id": "bac4d383",
   "metadata": {},
   "outputs": [],
   "source": [
    "\"\"\"launch session\"\"\"\n",
    "PROCNAME = \"EDB_RPC_Server.exe\"\n",
    "try:\n",
    "    for proc in psutil.process_iter():\n",
    "        if proc.name() == PROCNAME:\n",
    "            proc.kill()\n",
    "except:\n",
    "    pass\n",
    "session = launch_session(EXE_ROOT, 50051)"
   ]
  },
  {
   "cell_type": "code",
   "execution_count": 26,
   "id": "f88b342f",
   "metadata": {},
   "outputs": [],
   "source": [
    "\"\"\"Open DB\"\"\"\n",
    "db = Database.open(EDB_FILE,False)\n",
    "cell = db.circuit_cells[0]\n",
    "layout = cell.layout\n",
    "layerStats = []\n",
    "lc = layout.layer_collection\n",
    "layers = lc.get_layers()\n",
    "layer_names = [i.name for i in layers]"
   ]
  },
  {
   "cell_type": "code",
   "execution_count": 27,
   "id": "4313b4ed",
   "metadata": {},
   "outputs": [],
   "source": [
    "\"\"\"Assigning DS model\"\"\"\n",
    "layer_info = []\n",
    "for i in layers:\n",
    "    if i.is_stackup_layer:\n",
    "        name = i.name\n",
    "        layer_type = i.type.name\n",
    "        material = i.get_material().value\n",
    "        thickness = i.thickness.value\n",
    "        lower_elevation = i.lower_elevation.value\n",
    "        full_material = i.get_fill_material().value\n",
    "        \n",
    "        if 'DIELECTRIC_LAYER' in str(layer_type):\n",
    "            matmodel = edb.definition.material_def.MaterialDef.find_by_name(db,i.get_material().value)\n",
    "            ds = DjordjecvicSarkarModel.create()\n",
    "            matmodel.dielectric_material_model=ds            \n",
    "        \n",
    "db.save_as(out)"
   ]
  },
  {
   "cell_type": "code",
   "execution_count": 28,
   "id": "f0750fb4",
   "metadata": {},
   "outputs": [],
   "source": [
    "\"\"\"End of the session\"\"\"\n",
    "session.disconnect()"
   ]
  },
  {
   "cell_type": "markdown",
   "id": "c302735a",
   "metadata": {},
   "source": []
  }
 ],
 "metadata": {
  "kernelspec": {
   "display_name": "Python 3.10.9 64-bit",
   "language": "python",
   "name": "python3"
  },
  "language_info": {
   "codemirror_mode": {
    "name": "ipython",
    "version": 3
   },
   "file_extension": ".py",
   "mimetype": "text/x-python",
   "name": "python",
   "nbconvert_exporter": "python",
   "pygments_lexer": "ipython3",
   "version": "3.10.9"
  },
  "vscode": {
   "interpreter": {
    "hash": "26de051ba29f2982a8de78e945f0abaf191376122a1563185a90213a26c5da77"
   }
  }
 },
 "nbformat": 4,
 "nbformat_minor": 5
}
