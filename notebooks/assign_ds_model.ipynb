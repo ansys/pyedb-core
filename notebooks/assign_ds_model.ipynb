{
 "cells": [
  {
   "cell_type": "markdown",
   "id": "b1739e04",
   "metadata": {},
   "source": [
    "# Assign DS model"
   ]
  },
  {
   "cell_type": "markdown",
   "id": "d2cd7146",
   "metadata": {},
   "source": [
    "## Set up example environment"
   ]
  },
  {
   "cell_type": "code",
   "execution_count": 1,
   "id": "67bf7709",
   "metadata": {},
   "outputs": [
    {
     "name": "stdout",
     "output_type": "stream",
     "text": [
      "db, cell, layout variables set to the default from edb design.\n"
     ]
    }
   ],
   "source": [
    "%run helpers/example_setup.ipynb"
   ]
  },
  {
   "cell_type": "markdown",
   "id": "43737363",
   "metadata": {},
   "source": [
    "## Get Layers"
   ]
  },
  {
   "cell_type": "code",
   "execution_count": 2,
   "id": "f88b342f",
   "metadata": {},
   "outputs": [
    {
     "name": "stdout",
     "output_type": "stream",
     "text": [
      "Layer 's1', type 'SIGNAL_LAYER', material 'copper'\n",
      "Layer 'd1', type 'DIELECTRIC_LAYER', material 'FR4_epoxy'\n",
      "Layer 's2', type 'SIGNAL_LAYER', material 'copper'\n",
      "Layer 'd2', type 'DIELECTRIC_LAYER', material 'FR4_epoxy'\n",
      "Layer 's3', type 'SIGNAL_LAYER', material 'copper'\n"
     ]
    }
   ],
   "source": [
    "lc = layout.layer_collection\n",
    "layers = lc.get_layers()\n",
    "for i in layers:\n",
    "    if i.is_stackup_layer:\n",
    "        name = i.name\n",
    "        layer_type = i.type.name\n",
    "        material = i.get_material()\n",
    "        print(f\"Layer '{name}', type '{layer_type}', material '{i.get_material()}'\")"
   ]
  },
  {
   "cell_type": "markdown",
   "id": "0797b4d0",
   "metadata": {},
   "source": [
    "## Assign DS model to dielectric layers"
   ]
  },
  {
   "cell_type": "code",
   "execution_count": 3,
   "id": "4313b4ed",
   "metadata": {},
   "outputs": [
    {
     "name": "stdout",
     "output_type": "stream",
     "text": [
      "Assigned DS model to Layer 'd1'\n",
      "Assigned DS model to Layer 'd2'\n"
     ]
    }
   ],
   "source": [
    "for i in layers:\n",
    "    if i.is_stackup_layer:\n",
    "        name = i.name\n",
    "        layer_type = i.type.name\n",
    "        material = i.get_material()\n",
    "       \n",
    "        if 'DIELECTRIC_LAYER' in str(layer_type):\n",
    "            matmodel = MaterialDef.find_by_name(db,material)\n",
    "            matmodel.dielectric_material_model= DjordjecvicSarkarModel.create()\n",
    "            print(f\"Assigned DS model to Layer '{name}'\")"
   ]
  },
  {
   "cell_type": "markdown",
   "id": "96bda3f2",
   "metadata": {},
   "source": [
    "## Tear down example environment"
   ]
  },
  {
   "cell_type": "code",
   "execution_count": 4,
   "id": "f0750fb4",
   "metadata": {},
   "outputs": [],
   "source": [
    "%run helpers/example_teardown.ipynb"
   ]
  },
  {
   "cell_type": "code",
   "execution_count": 5,
   "id": "cd20b8a1-1089-44fe-ac38-38df183eb981",
   "metadata": {},
   "outputs": [],
   "source": []
  }
 ],
 "metadata": {},
 "nbformat": 4,
 "nbformat_minor": 5
}