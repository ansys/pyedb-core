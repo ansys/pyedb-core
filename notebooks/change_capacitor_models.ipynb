{
 "cells": [
  {
   "cell_type": "markdown",
   "metadata": {},
   "source": [
    "# Change capacitor models"
   ]
  },
  {
   "cell_type": "code",
   "execution_count": null,
   "metadata": {},
   "outputs": [
    {
     "name": "stdout",
     "output_type": "stream",
     "text": [
      "db, cell, layout variables set to the default from edb design.\n"
     ]
    }
   ],
   "source": [
    "%run helpers/example_setup.ipynb"
   ]
  },
  {
   "cell_type": "markdown",
   "metadata": {},
   "source": [
    "## Import needed classes"
   ]
  },
  {
   "cell_type": "code",
   "execution_count": null,
   "metadata": {},
   "outputs": [],
   "source": [
    "from ansys.edb.definition import RLCComponentProperty\n",
    "from ansys.edb.hierarchy import ComponentGroup, PinPairModel\n",
    "from ansys.edb.utility import Rlc"
   ]
  },
  {
   "cell_type": "markdown",
   "metadata": {},
   "source": [
    "## Get all the components with certain part name"
   ]
  },
  {
   "cell_type": "code",
   "execution_count": null,
   "metadata": {},
   "outputs": [
    {
     "name": "stdout",
     "output_type": "stream",
     "text": [
      "There are 5000 components with component definition 'DTC_CAP_PARTIAL'\n"
     ]
    }
   ],
   "source": [
    "comp_def_name = \"DTC_CAP_PARTIAL\"\n",
    "components = ComponentGroup.find_by_def(layout=layout, comp_def_name=comp_def_name)\n",
    "print(f\"There are {len(components)} components with component definition '{comp_def_name}'\")"
   ]
  },
  {
   "cell_type": "markdown",
   "metadata": {},
   "source": [
    "## Change all instances to an RC model"
   ]
  },
  {
   "cell_type": "code",
   "execution_count": null,
   "metadata": {},
   "outputs": [],
   "source": [
    "rlc = Rlc(r=1, r_enabled=True, l_enabled=False, c=1e-9, c_enabled=True, is_parallel=False)\n",
    "for component in components:\n",
    "    pin_pair = (component.members[0].name, component.members[1].name)\n",
    "    rlc_model = PinPairModel.create()\n",
    "    rlc_model.set_rlc(pin_pair=pin_pair, rlc=rlc)\n",
    "    rlc_component_property = RLCComponentProperty.create()\n",
    "    rlc_component_property.model = rlc_model\n",
    "    component.component_property = rlc_component_property"
   ]
  },
  {
   "cell_type": "markdown",
   "metadata": {},
   "source": [
    "## Display the new RLC values"
   ]
  },
  {
   "cell_type": "code",
   "execution_count": null,
   "metadata": {},
   "outputs": [
    {
     "ename": "AttributeError",
     "evalue": "model_type",
     "output_type": "error",
     "traceback": [
      "\u001b[1;31m---------------------------------------------------------------------------\u001b[0m",
      "\u001b[1;31mAttributeError\u001b[0m                            Traceback (most recent call last)",
      "Cell \u001b[1;32mIn[5], line 4\u001b[0m\n\u001b[0;32m      2\u001b[0m component \u001b[38;5;241m=\u001b[39m components[i]\n\u001b[0;32m      3\u001b[0m pin_pair \u001b[38;5;241m=\u001b[39m (component\u001b[38;5;241m.\u001b[39mmembers[\u001b[38;5;241m0\u001b[39m]\u001b[38;5;241m.\u001b[39mname, component\u001b[38;5;241m.\u001b[39mmembers[\u001b[38;5;241m1\u001b[39m]\u001b[38;5;241m.\u001b[39mname)\n\u001b[1;32m----> 4\u001b[0m rlc \u001b[38;5;241m=\u001b[39m \u001b[43mcomponent\u001b[49m\u001b[38;5;241;43m.\u001b[39;49m\u001b[43mcomponent_property\u001b[49m\u001b[38;5;241;43m.\u001b[39;49m\u001b[43mmodel\u001b[49m\u001b[38;5;241m.\u001b[39mrlc(pin_pair)\n\u001b[0;32m      5\u001b[0m \u001b[38;5;28mprint\u001b[39m(\u001b[38;5;124mf\u001b[39m\u001b[38;5;124m\"\u001b[39m\u001b[38;5;124mComponent \u001b[39m\u001b[38;5;124m'\u001b[39m\u001b[38;5;132;01m{\u001b[39;00mcomponent\u001b[38;5;241m.\u001b[39mname\u001b[38;5;132;01m}\u001b[39;00m\u001b[38;5;124m'\u001b[39m\u001b[38;5;124m has \u001b[39m\u001b[38;5;132;01m{\u001b[39;00m\u001b[38;5;124m'\u001b[39m\u001b[38;5;124mparallel\u001b[39m\u001b[38;5;124m'\u001b[39m \u001b[38;5;28;01mif\u001b[39;00m rlc\u001b[38;5;241m.\u001b[39mis_parallel \u001b[38;5;28;01melse\u001b[39;00m \u001b[38;5;124m'\u001b[39m\u001b[38;5;124mseries\u001b[39m\u001b[38;5;124m'\u001b[39m\u001b[38;5;132;01m}\u001b[39;00m\u001b[38;5;124m RLC values r=\u001b[39m\u001b[38;5;132;01m{\u001b[39;00mrlc\u001b[38;5;241m.\u001b[39mr\u001b[38;5;132;01m}\u001b[39;00m\u001b[38;5;124mohm (enabled=\u001b[39m\u001b[38;5;132;01m{\u001b[39;00mrlc\u001b[38;5;241m.\u001b[39mr_enabled\u001b[38;5;132;01m}\u001b[39;00m\u001b[38;5;124m), l=\u001b[39m\u001b[38;5;132;01m{\u001b[39;00mrlc\u001b[38;5;241m.\u001b[39ml\u001b[38;5;241m*\u001b[39m\u001b[38;5;241m1e9\u001b[39m\u001b[38;5;132;01m}\u001b[39;00m\u001b[38;5;124mnH (enabled=\u001b[39m\u001b[38;5;132;01m{\u001b[39;00mrlc\u001b[38;5;241m.\u001b[39ml_enabled\u001b[38;5;132;01m}\u001b[39;00m\u001b[38;5;124m), r=\u001b[39m\u001b[38;5;132;01m{\u001b[39;00mrlc\u001b[38;5;241m.\u001b[39mc\u001b[38;5;241m*\u001b[39m\u001b[38;5;241m1e-9\u001b[39m\u001b[38;5;132;01m}\u001b[39;00m\u001b[38;5;124mnF (enabled=\u001b[39m\u001b[38;5;132;01m{\u001b[39;00mrlc\u001b[38;5;241m.\u001b[39mc_enabled\u001b[38;5;132;01m}\u001b[39;00m\u001b[38;5;124m)\u001b[39m\u001b[38;5;124m\"\u001b[39m)\n",
      "File \u001b[1;32mC:\\git\\Ansys\\pyedb\\src\\ansys\\edb\\definition\\component_property.py:71\u001b[0m, in \u001b[0;36mComponentProperty.model\u001b[1;34m(self)\u001b[0m\n\u001b[0;32m     68\u001b[0m     \u001b[38;5;28;01melse\u001b[39;00m:\n\u001b[0;32m     69\u001b[0m         \u001b[38;5;28;01mraise\u001b[39;00m \u001b[38;5;167;01mTypeError\u001b[39;00m(\u001b[38;5;124m\"\u001b[39m\u001b[38;5;124mUnsupported model type.\u001b[39m\u001b[38;5;124m\"\u001b[39m)\n\u001b[1;32m---> 71\u001b[0m \u001b[38;5;28;01mreturn\u001b[39;00m \u001b[43mget_model_obj_type\u001b[49m\u001b[43m(\u001b[49m\u001b[43m)\u001b[49m(comp_model_msg\u001b[38;5;241m.\u001b[39mmodel)\n",
      "File \u001b[1;32mC:\\git\\Ansys\\pyedb\\src\\ansys\\edb\\definition\\component_property.py:60\u001b[0m, in \u001b[0;36mComponentProperty.model.<locals>.get_model_obj_type\u001b[1;34m()\u001b[0m\n\u001b[0;32m     57\u001b[0m \u001b[38;5;28;01mdef\u001b[39;00m \u001b[38;5;21mget_model_obj_type\u001b[39m():\n\u001b[0;32m     58\u001b[0m     \u001b[38;5;28;01mfrom\u001b[39;00m \u001b[38;5;21;01mansys\u001b[39;00m\u001b[38;5;21;01m.\u001b[39;00m\u001b[38;5;21;01medb\u001b[39;00m\u001b[38;5;21;01m.\u001b[39;00m\u001b[38;5;21;01mhierarchy\u001b[39;00m \u001b[38;5;28;01mimport\u001b[39;00m NetlistModel, PinPairModel, SParameterModel, SPICEModel\n\u001b[1;32m---> 60\u001b[0m     \u001b[38;5;28;01mif\u001b[39;00m \u001b[43mcomp_model_msg\u001b[49m\u001b[38;5;241;43m.\u001b[39;49m\u001b[43mmodel_type\u001b[49m \u001b[38;5;241m==\u001b[39m model_pb2\u001b[38;5;241m.\u001b[39mSPICE_MODEL_TYPE:\n\u001b[0;32m     61\u001b[0m         \u001b[38;5;28;01mreturn\u001b[39;00m SPICEModel\n\u001b[0;32m     62\u001b[0m     \u001b[38;5;28;01melif\u001b[39;00m comp_model_msg\u001b[38;5;241m.\u001b[39mmodel_type \u001b[38;5;241m==\u001b[39m model_pb2\u001b[38;5;241m.\u001b[39mS_PARAM_MODEL_TYPE:\n",
      "\u001b[1;31mAttributeError\u001b[0m: model_type"
     ]
    }
   ],
   "source": [
    "for i in range(10):\n",
    "    component = components[i]\n",
    "    pin_pair = (component.members[0].name, component.members[1].name)\n",
    "    rlc = component.component_property.model.rlc(pin_pair)\n",
    "    print(f\"Component '{component.name}' has {'parallel' if rlc.is_parallel else 'series'} RLC values r={rlc.r}ohm (enabled={rlc.r_enabled}), l={rlc.l*1e9}nH (enabled={rlc.l_enabled}), r={rlc.c*1e-9}nF (enabled={rlc.c_enabled})\")"
   ]
  },
  {
   "cell_type": "code",
   "execution_count": null,
   "metadata": {},
   "outputs": [],
   "source": [
    "%run helpers/example_teardown.ipynb"
   ]
  }
 ],
 "metadata": {},
 "nbformat": 4,
 "nbformat_minor": 4
}