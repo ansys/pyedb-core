{
 "cells": [
  {
   "cell_type": "markdown",
   "metadata": {},
   "source": [
    "# Change capacitor models"
   ]
  },
  {
   "cell_type": "markdown",
   "metadata": {},
   "source": [
    "## Set up example environment"
   ]
  },
  {
   "cell_type": "code",
   "execution_count": 1,
   "metadata": {},
   "outputs": [
    {
     "name": "stdout",
     "output_type": "stream",
     "text": [
      "db, cell, layout variables set to the default from edb design.\n"
     ]
    }
   ],
   "source": [
    "%run helpers/example_setup.ipynb"
   ]
  },
  {
   "cell_type": "markdown",
   "metadata": {},
   "source": [
    "## Get all the components with certain part name"
   ]
  },
  {
   "cell_type": "code",
   "execution_count": 2,
   "metadata": {},
   "outputs": [
    {
     "name": "stdout",
     "output_type": "stream",
     "text": [
      "There are 5000 components with component definition 'DTC_CAP_PARTIAL'\n"
     ]
    }
   ],
   "source": [
    "comp_def_name = \"DTC_CAP_PARTIAL\"\n",
    "components = ComponentGroup.find_by_def(layout=layout, comp_def_name=comp_def_name)\n",
    "print(f\"There are {len(components)} components with component definition '{comp_def_name}'\")"
   ]
  },
  {
   "cell_type": "markdown",
   "metadata": {},
   "source": [
    "## Change all instances to an RC model"
   ]
  },
  {
   "cell_type": "code",
   "execution_count": 3,
   "metadata": {},
   "outputs": [],
   "source": [
    "rlc = Rlc(r=1, r_enabled=True, l_enabled=False, c=1e-9, c_enabled=True, is_parallel=False)\n",
    "for component in components:\n",
    "    pin_pair = (component.members[0].name, component.members[1].name)\n",
    "    rlc_model = PinPairModel.create()\n",
    "    rlc_model.set_rlc(pin_pair=pin_pair, rlc=rlc)\n",
    "    rlc_component_property = RLCComponentProperty.create()\n",
    "    rlc_component_property.model = rlc_model\n",
    "    component.component_property = rlc_component_property"
   ]
  },
  {
   "cell_type": "markdown",
   "metadata": {},
   "source": [
    "## Display the new RLC values"
   ]
  },
  {
   "cell_type": "code",
   "execution_count": 4,
   "metadata": {},
   "outputs": [
    {
     "name": "stdout",
     "output_type": "stream",
     "text": [
      "Component 'sky130_anss_xx_hd__dtc12_0_DTC_CAP_0_0' has series RLC values r=1.0ohm (enabled=True), l=0.0nH (enabled=False), c=1.0nF (enabled=True)\n",
      "Component 'sky130_anss_xx_hd__dtc12_0_DTC_CAP_1_1' has series RLC values r=1.0ohm (enabled=True), l=0.0nH (enabled=False), c=1.0nF (enabled=True)\n",
      "Component 'sky130_anss_xx_hd__dtc12_1_DTC_CAP_0_0' has series RLC values r=1.0ohm (enabled=True), l=0.0nH (enabled=False), c=1.0nF (enabled=True)\n",
      "Component 'sky130_anss_xx_hd__dtc12_1_DTC_CAP_1_1' has series RLC values r=1.0ohm (enabled=True), l=0.0nH (enabled=False), c=1.0nF (enabled=True)\n",
      "Component 'sky130_anss_xx_hd__dtc12_2_DTC_CAP_0_0' has series RLC values r=1.0ohm (enabled=True), l=0.0nH (enabled=False), c=1.0nF (enabled=True)\n",
      "Component 'sky130_anss_xx_hd__dtc12_2_DTC_CAP_1_1' has series RLC values r=1.0ohm (enabled=True), l=0.0nH (enabled=False), c=1.0nF (enabled=True)\n",
      "Component 'sky130_anss_xx_hd__dtc12_3_DTC_CAP_0_0' has series RLC values r=1.0ohm (enabled=True), l=0.0nH (enabled=False), c=1.0nF (enabled=True)\n",
      "Component 'sky130_anss_xx_hd__dtc12_3_DTC_CAP_1_1' has series RLC values r=1.0ohm (enabled=True), l=0.0nH (enabled=False), c=1.0nF (enabled=True)\n",
      "Component 'sky130_anss_xx_hd__dtc12_4_DTC_CAP_0_0' has series RLC values r=1.0ohm (enabled=True), l=0.0nH (enabled=False), c=1.0nF (enabled=True)\n",
      "Component 'sky130_anss_xx_hd__dtc12_4_DTC_CAP_1_1' has series RLC values r=1.0ohm (enabled=True), l=0.0nH (enabled=False), c=1.0nF (enabled=True)\n"
     ]
    }
   ],
   "source": [
    "for i in range(10):\n",
    "    component = components[i]\n",
    "    pin_pair = (component.members[0].name, component.members[1].name)\n",
    "    rlc = component.component_property.model.rlc(pin_pair)\n",
    "    print(f\"Component '{component.name}' has {'parallel' if rlc.is_parallel else 'series'} RLC values r={rlc.r}ohm (enabled={rlc.r_enabled}), l={rlc.l*1e9}nH (enabled={rlc.l_enabled}), c={rlc.c*1e9}nF (enabled={rlc.c_enabled})\")"
   ]
  },
  {
   "cell_type": "markdown",
   "metadata": {},
   "source": [
    "## Tear down example environment"
   ]
  },
  {
   "cell_type": "code",
   "execution_count": 5,
   "metadata": {},
   "outputs": [],
   "source": [
    "%run helpers/example_teardown.ipynb"
   ]
  }
 ],
 "metadata": {},
 "nbformat": 4,
 "nbformat_minor": 4
}