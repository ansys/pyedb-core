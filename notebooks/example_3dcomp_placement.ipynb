{
 "cells": [
  {
   "cell_type": "code",
   "execution_count": 1,
   "id": "a45905c0",
   "metadata": {},
   "outputs": [],
   "source": [
    "\"\"\"Imports\"\"\"\n",
    "\n",
    "import os\n",
    "\n",
    "from ansys.edb.database import Database\n",
    "from ansys.edb.layout.cell import Cell, CellType\n",
    "from ansys.edb.layer import LayerType, StackupLayer\n",
    "from ansys.edb.session import launch_session\n",
    "from ansys.edb.utility import Transform3D\n",
    "from ansys.edb.geometry import Point3DData"
   ]
  },
  {
   "cell_type": "code",
   "execution_count": 2,
   "id": "a09c729b",
   "metadata": {},
   "outputs": [],
   "source": [
    "\"\"\"Configs\"\"\"\n",
    "\n",
    "# RPC_SERVER = None if separate server is already running, Root dir of server executable otherwise.\n",
    "RPC_SERVER = None\n",
    "ROOT = os.getcwd()\n",
    "COMP_FILE = os.path.join(ROOT, \"data\", \"example_3DComp_placement\", \"example_3DComp_placement.a3dcomp\")\n",
    "EDB_FILE = os.path.join(ROOT, \"example_3DComp_placement.aedb\")"
   ]
  },
  {
   "cell_type": "code",
   "execution_count": 3,
   "id": "87bc6dac",
   "metadata": {},
   "outputs": [],
   "source": [
    "\"\"\"Launch a session. Make sure old one has been disconnected prior to starting a new one, if any\"\"\"\n",
    "\n",
    "session = launch_session(RPC_SERVER, 50051)"
   ]
  },
  {
   "cell_type": "code",
   "execution_count": 4,
   "id": "f060f9f4",
   "metadata": {},
   "outputs": [
    {
     "name": "stdout",
     "output_type": "stream",
     "text": [
      "id: 1\n",
      "\n"
     ]
    }
   ],
   "source": [
    "\"\"\"Basic setup of empty EDB.\"\"\"\n",
    "\n",
    "db = Database.create(EDB_FILE)\n",
    "main_cell = Cell.create(db, CellType.CIRCUIT_CELL, \"3DComp_placement_cell\")\n",
    "main_lyt = main_cell.layout"
   ]
  },
  {
   "cell_type": "code",
   "execution_count": 5,
   "id": "abd5a80d",
   "metadata": {},
   "outputs": [
    {
     "data": {
      "text/plain": [
       "<ansys.edb.layer.stackup_layer.StackupLayer at 0x151e86f6a60>"
      ]
     },
     "execution_count": 5,
     "metadata": {},
     "output_type": "execute_result"
    }
   ],
   "source": [
    "\"\"\"Add to Layer Collection\"\"\"\n",
    "\n",
    "lcc = main_lyt.layer_collection\n",
    "lcc.add_layer_top(StackupLayer.create(\"TOP\", LayerType.SIGNAL_LAYER, \"2mm\", 0, \"copper\"))"
   ]
  },
  {
   "cell_type": "code",
   "execution_count": 6,
   "id": "9cd95cc0",
   "metadata": {},
   "outputs": [],
   "source": [
    "\"\"\"Create & 3D place the 3D component\"\"\"\n",
    "\n",
    "empty = Point3DData(0, 0, 0)\n",
    "component = main_lyt.create_3d_comp(COMP_FILE)\n",
    "component.cell_instance.placement_layer = lcc.find_by_name(\"TOP\")\n",
    "component.cell_instance.placement_3d = True"
   ]
  },
  {
   "cell_type": "code",
   "execution_count": 7,
   "id": "e7a98b64",
   "metadata": {},
   "outputs": [
    {
     "name": "stdout",
     "output_type": "stream",
     "text": [
      "Design 3DComp_placement_cell contains 1 3D component named: v1_example_3DComp_placement\n"
     ]
    }
   ],
   "source": [
    "\"\"\"Verify\"\"\"\n",
    "\n",
    "print(\"Design {} contains {} 3D component named: {}\".format(main_cell.name, len(main_lyt.cell_instances), main_lyt.cell_instances[0].name))"
   ]
  },
  {
   "cell_type": "code",
   "execution_count": 8,
   "id": "3290a8f6",
   "metadata": {},
   "outputs": [],
   "source": [
    "\"\"\"Save the database.\"\"\"\n",
    "\n",
    "db.save()"
   ]
  },
  {
   "cell_type": "code",
   "execution_count": 9,
   "id": "21e1c810",
   "metadata": {},
   "outputs": [],
   "source": [
    "\"\"\"Disconnect the session\"\"\"\n",
    "\n",
    "session.disconnect()"
   ]
  }
 ],
 "metadata": {
  "kernelspec": {
   "display_name": "Python 3.10.9 64-bit",
   "language": "python",
   "name": "python3"
  },
  "language_info": {
   "name": "python",
   "version": "3.10.9"
  },
  "vscode": {
   "interpreter": {
    "hash": "26de051ba29f2982a8de78e945f0abaf191376122a1563185a90213a26c5da77"
   }
  }
 },
 "nbformat": 4,
 "nbformat_minor": 5
}
