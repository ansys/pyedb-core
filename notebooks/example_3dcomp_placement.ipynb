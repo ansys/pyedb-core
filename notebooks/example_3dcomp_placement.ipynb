{
 "cells": [
  {
   "cell_type": "code",
   "execution_count": null,
   "id": "a45905c0",
   "metadata": {},
   "outputs": [],
   "source": [
    "\"\"\"Imports\"\"\"\n",
    "\n",
    "import os\n",
    "\n",
    "from ansys.edb.database import Database\n",
    "from ansys.edb.layout.cell import Cell, CellType\n",
    "from ansys.edb.layer import LayerType, StackupLayer\n",
    "from ansys.edb.session import launch_session\n",
    "from ansys.edb.utility import Transform3D\n",
    "from ansys.edb.geometry import Point3DData"
   ]
  },
  {
   "cell_type": "code",
   "execution_count": null,
   "id": "a09c729b",
   "metadata": {},
   "outputs": [],
   "source": [
    "\"\"\"Configs\"\"\"\n",
    "\n",
    "# RPC_SERVER = None if separate server is already running\n",
    "#, Root dir of server executable otherwise.\n",
    "RPC_SERVER = 'C:\\ansysDev\\view2\\build_output\\64Debug\\EDB_RPC_Server.exe'\n",
    "ROOT = os.getcwd()\n",
    "COMP_FILE = os.path.join(ROOT, \"data\", \"example_3DComp_placement\", \"example_3DComp_placement.a3dcomp\")\n",
    "EDB_FILE = os.path.join(ROOT, \"example_3DComp_placement.aedb\")"
   ]
  },
  {
   "cell_type": "code",
   "execution_count": null,
   "id": "87bc6dac",
   "metadata": {},
   "outputs": [],
   "source": [
    "\"\"\"Launch a session. Make sure old one has been disconnected prior to starting a new one, if any\"\"\"\n",
    "\n",
    "session = launch_session(RPC_SERVER, 50051)"
   ]
  },
  {
   "cell_type": "code",
   "execution_count": 18,
   "id": "f060f9f4",
   "metadata": {},
   "outputs": [
    {
     "ename": "AttributeError",
     "evalue": "'NoneType' object has no attribute 'Create'",
     "output_type": "error",
     "traceback": [
      "\u001b[1;31m---------------------------------------------------------------------------\u001b[0m",
      "\u001b[1;31mAttributeError\u001b[0m                            Traceback (most recent call last)",
      "Cell \u001b[1;32mIn[18], line 3\u001b[0m\n\u001b[0;32m      1\u001b[0m \u001b[38;5;124;03m\"\"\"Basic setup of empty EDB.\"\"\"\u001b[39;00m\n\u001b[1;32m----> 3\u001b[0m db \u001b[38;5;241m=\u001b[39m \u001b[43mDatabase\u001b[49m\u001b[38;5;241;43m.\u001b[39;49m\u001b[43mcreate\u001b[49m\u001b[43m(\u001b[49m\u001b[43mEDB_FILE\u001b[49m\u001b[43m)\u001b[49m\n\u001b[0;32m      4\u001b[0m main_cell \u001b[38;5;241m=\u001b[39m Cell\u001b[38;5;241m.\u001b[39mcreate(db, CellType\u001b[38;5;241m.\u001b[39mCIRCUIT_CELL, \u001b[38;5;124m\"\u001b[39m\u001b[38;5;124m3DComp_placement_cell\u001b[39m\u001b[38;5;124m\"\u001b[39m)\n\u001b[0;32m      5\u001b[0m main_lyt \u001b[38;5;241m=\u001b[39m main_cell\u001b[38;5;241m.\u001b[39mlayout\n",
      "File \u001b[1;32mC:\\ansysDev\\view1\\pyedb-core\\src\\ansys\\edb\\database.py:80\u001b[0m, in \u001b[0;36mDatabase.create\u001b[1;34m(cls, db_path)\u001b[0m\n\u001b[0;32m     67\u001b[0m \u001b[38;5;129m@classmethod\u001b[39m\n\u001b[0;32m     68\u001b[0m \u001b[38;5;28;01mdef\u001b[39;00m \u001b[38;5;21mcreate\u001b[39m(\u001b[38;5;28mcls\u001b[39m, db_path):\n\u001b[0;32m     69\u001b[0m     \u001b[38;5;124;03m\"\"\"Create a Database at the specified file location.\u001b[39;00m\n\u001b[0;32m     70\u001b[0m \n\u001b[0;32m     71\u001b[0m \u001b[38;5;124;03m    Parameters\u001b[39;00m\n\u001b[1;32m   (...)\u001b[0m\n\u001b[0;32m     78\u001b[0m \u001b[38;5;124;03m    Database\u001b[39;00m\n\u001b[0;32m     79\u001b[0m \u001b[38;5;124;03m    \"\"\"\u001b[39;00m\n\u001b[1;32m---> 80\u001b[0m     msg \u001b[38;5;241m=\u001b[39m \u001b[38;5;28;43mcls\u001b[39;49m\u001b[38;5;241;43m.\u001b[39;49m\u001b[43m__stub\u001b[49m\u001b[38;5;241;43m.\u001b[39;49m\u001b[43mCreate\u001b[49m(proto_wrappers\u001b[38;5;241m.\u001b[39mStringValue(value\u001b[38;5;241m=\u001b[39mdb_path))\n\u001b[0;32m     81\u001b[0m     \u001b[38;5;28mprint\u001b[39m(msg)\n\u001b[0;32m     82\u001b[0m     \u001b[38;5;28;01mreturn\u001b[39;00m Database(msg)\n",
      "\u001b[1;31mAttributeError\u001b[0m: 'NoneType' object has no attribute 'Create'"
     ]
    }
   ],
   "source": [
    "\"\"\"Basic setup of empty EDB.\"\"\"\n",
    "\n",
    "db = Database.create(EDB_FILE)\n",
    "main_cell = Cell.create(db, CellType.CIRCUIT_CELL, \"3DComp_placement_cell\")\n",
    "main_lyt = main_cell.layout"
   ]
  },
  {
   "cell_type": "code",
   "execution_count": null,
   "id": "abd5a80d",
   "metadata": {},
   "outputs": [],
   "source": [
    "\"\"\"Add to Layer Collection\"\"\"\n",
    "\n",
    "lcc = main_lyt.layer_collection\n",
    "lcc.add_layer_top(StackupLayer.create(\"TOP\", LayerType.SIGNAL_LAYER, \"2mm\", 0, \"copper\"))"
   ]
  },
  {
   "cell_type": "code",
   "execution_count": null,
   "id": "9cd95cc0",
   "metadata": {},
   "outputs": [],
   "source": [
    "\"\"\"Create & 3D place the 3D component\"\"\"\n",
    "\n",
    "empty = Point3DData(0, 0, 0)\n",
    "component = main_lyt.create_3d_comp(COMP_FILE)\n",
    "component.cell_instance.placement_layer = lcc.find_by_name(\"TOP\")\n",
    "component.cell_instance.placement_3d = True"
   ]
  },
  {
   "cell_type": "code",
   "execution_count": null,
   "id": "e7a98b64",
   "metadata": {},
   "outputs": [],
   "source": [
    "\"\"\"Verify\"\"\"\n",
    "\n",
    "print(\"Design {} contains {} 3D component named: {}\".format(main_cell.name, len(main_lyt.cell_instances), main_lyt.cell_instances[0].name))"
   ]
  },
  {
   "cell_type": "code",
   "execution_count": null,
   "id": "3290a8f6",
   "metadata": {},
   "outputs": [],
   "source": [
    "\"\"\"Save the database.\"\"\"\n",
    "\n",
    "db.save()"
   ]
  },
  {
   "cell_type": "code",
   "execution_count": null,
   "id": "21e1c810",
   "metadata": {},
   "outputs": [],
   "source": [
    "\"\"\"Disconnect the session\"\"\"\n",
    "\n",
    "session.disconnect()"
   ]
  }
 ],
 "metadata": {
  "kernelspec": {
   "display_name": "Python 3 (ipykernel)",
   "language": "python",
   "name": "python3"
  },
  "language_info": {
   "codemirror_mode": {
    "name": "ipython",
    "version": 3
   },
   "file_extension": ".py",
   "mimetype": "text/x-python",
   "name": "python",
   "nbconvert_exporter": "python",
   "pygments_lexer": "ipython3",
   "version": "3.8.6"
  }
 },
 "nbformat": 4,
 "nbformat_minor": 5
}
