{
 "cells": [
  {
   "cell_type": "code",
   "execution_count": null,
   "id": "cd7e721c",
   "metadata": {},
   "outputs": [],
   "source": [
    "\"\"\"Imports\"\"\"\n",
    "\n",
    "import os\n",
    "\n",
    "from ansys.edb.database import Database\n",
    "from ansys.edb.layout.cell import Cell, CellType\n",
    "from ansys.edb.hierarchy.via_group import ViaGroup\n",
    "from ansys.edb.layer import LayerType, StackupLayer, ViaLayer\n",
    "from ansys.edb.layer.layer_collection import LayerCollection, LayerCollectionMode\n",
    "from ansys.edb.net import Net\n",
    "from ansys.edb.session import launch_session\n",
    "from ansys.edb.hierarchy import CellInstance\n",
    "from ansys.edb.definition import ApdBondwireDef\n",
    "from ansys.edb.primitive import Bondwire, BondwireType, Rectangle, RectangleRepresentationType, BondwireCrossSectionType"
   ]
  },
  {
   "cell_type": "code",
   "execution_count": null,
   "id": "a09c729b",
   "metadata": {},
   "outputs": [],
   "source": [
    "\"\"\"Configs\"\"\"\n",
    "\n",
    "# RPC_SERVER = None if separate server is already running, Root dir of server executable otherwise.\n",
    "RPC_SERVER = None\n",
    "ROOT = os.getcwd()\n",
    "EDB_FILE = os.path.join(ROOT, \"example_Define_and_assign_bondwire_profiles.aedb\")"
   ]
  },
  {
   "cell_type": "code",
   "execution_count": null,
   "id": "87bc6dac",
   "metadata": {
    "scrolled": true
   },
   "outputs": [],
   "source": [
    "\"\"\"Launch a session. Make sure old one has been disconnected prior to starting a new one, if any\"\"\"\n",
    "session = launch_session(RPC_SERVER, 50051)"
   ]
  },
  {
   "cell_type": "code",
   "execution_count": null,
   "id": "f060f9f4",
   "metadata": {},
   "outputs": [],
   "source": [
    "\"\"\"Basic setup of empty EDB.\"\"\"\n",
    "db = Database.create(EDB_FILE)\n",
    "cell = Cell.create(db, CellType.CIRCUIT_CELL, \"EMDesign1\")\n",
    "layout = cell.layout\n",
    "\n",
    "# Cell to create the cell instances\n",
    "cell1 = Cell.create(db, CellType.CIRCUIT_CELL, \"EMDesign2\")\n",
    "cell2 = Cell.create(db, CellType.CIRCUIT_CELL, \"EMDesign3\")\n",
    "\n",
    "# Layouts for the additional cells\n",
    "layout_start = cell1.layout\n",
    "layout_end = cell2.layout"
   ]
  },
  {
   "cell_type": "code",
   "execution_count": null,
   "id": "abd5a80d",
   "metadata": {},
   "outputs": [],
   "source": [
    "\"\"\"Setup Layers for the different cells\"\"\"\n",
    "\n",
    "# Layers in layout's layer collection\n",
    "layer_gnd = StackupLayer.create('Ground', LayerType.SIGNAL_LAYER, 0.0001, 0, \"copper\")\n",
    "layer_1 = StackupLayer.create('Layer1', LayerType.SIGNAL_LAYER, 0.0001, 0.0001, \"copper\")\n",
    "layer_2 = StackupLayer.create('Layer2', LayerType.SIGNAL_LAYER, 0.0001, 0.0002, \"copper\")\n",
    "lc = layout.layer_collection\n",
    "lc.add_layers([layer_gnd, layer_1, layer_2])\n",
    "\n",
    "# Layers for additional cells\n",
    "lcs = layout_start.layer_collection\n",
    "lcs.add_layers([layer_1])\n",
    "lce = layout_end.layer_collection\n",
    "lce.add_layers([layer_2])\n",
    "\n",
    "# Retrieve layers collection and layers\n",
    "layout.layer_collection = lc\n",
    "layer_gnd = lc.find_by_name('Ground')\n",
    "layout_start.layer_collection = lcs\n",
    "layer_1 = lcs.find_by_name('Layer1')\n",
    "layout_end.layer_collection = lce\n",
    "layer_2 = lce.find_by_name('Layer2')"
   ]
  },
  {
   "cell_type": "code",
   "execution_count": null,
   "id": "ea0dd4f6",
   "metadata": {},
   "outputs": [],
   "source": [
    "\"\"\"Nets for the different cells and create the primitives\"\"\"\n",
    "# Net\n",
    "net = Net.create(layout, 'GND')\n",
    "nets = Net.create(layout_start, 'GND')\n",
    "nete = Net.create(layout_end, 'GND')\n",
    "\n",
    "# Rectangles\n",
    "um = lambda val : val * 1e-6\n",
        "rect = Rectangle.create(layout=layout,\n",
    "                        layer=layer_gnd,\n",
    "                        net=net,\n",
    "                        rep_type=RectangleRepresentationType.LOWER_LEFT_UPPER_RIGHT,\n",
    "                        param1=um(10),\n",
    "                        param2=um(10),\n",
    "                        param3=um(20),\n",
    "                        param4=um(20),\n",
    "                        corner_rad=0.0,\n",
    "                        rotation=0.0\n",
    "                        )\n",
    "\n",
    "rect_2 = Rectangle.create(layout=layout,\n",
    "                          layer=layer_gnd,\n",
    "                          net=net,\n",
    "                          rep_type=RectangleRepresentationType.LOWER_LEFT_UPPER_RIGHT,\n",
    "                          param1=um(0.0),\n",
    "                          param2=um(0.0),\n",
    "                          param3=um(30),\n",
    "                          param4=um(30),\n",
    "                          corner_rad=0.0,\n",
    "                          rotation=0.0\n",
    "                          )\n",
    "\n",
   ]
  },
  {
   "cell_type": "code",
   "execution_count": null,
   "id": "8af667ab",
   "metadata": {},
   "outputs": [],
   "source": [
    "\"\"\"Create the cell instances\"\"\"\n",
    "\n",
    "# Cell instances\n",
    "cis = CellInstance.create(layout, 'CellInstanceStart', layout_start)\n",
    "cie = CellInstance.create(layout, 'CellInstanceEnd', layout_end)"
   ]
  },
  {
   "cell_type": "code",
   "execution_count": null,
   "id": "376b9fed",
   "metadata": {},
   "outputs": [],
   "source": [
    "\"\"\"Create the Bondwire Definition\"\"\"\n",
    "\n",
    "# Create an APD Bondwire Definition\n",
    "wire_0 = ApdBondwireDef.create(db, 'Wire_0')\n",
    "\n",
    "# Bondwire Parameters name (nm) diameter(dia) and material(mat) should be set as strings(quoted)\n",
    "parameters_str = \"bwd(nm=\\'Wire_0\\', ven=true, for=true, dia=\\'2.54e-05\\', mat=\\'GOLD\\', col=0, vis=true, dih=0, nfc=6, seg(ht=0, hv=0, vt=0, vv=0.000254, ht=1, hv=0.125, vt=0, vv=0))\"\n",
    "\n",
    "# Set parameters\n",
    "wire_0.set_parameters(parameters_str)\n"
   ]
  },
  {
   "cell_type": "code",
   "execution_count": null,
   "id": "04a2a6b9",
   "metadata": {},
   "outputs": [],
   "source": [
    "\"\"\"Create the Bondwire\"\"\"\n",
    "\n",
    "# Bondwire\n",
    "bondwire = Bondwire.create(\n",
    "    layout,\n",
    "    BondwireType.APD,\n",
    "    'Wire_0',\n",
    "    layer_gnd.name,\n",
    "    1e-3,\n",
    "    'copper',\n",
    "    cis,\n",
    "    layer_1.name,\n",
    "    0.0,\n",
    "    0.0,\n",
    "    cie,\n",
    "    layer_2.name,\n",
    "    1.2,\n",
    "    3.5,\n",
    "    net\n",
    ")\n",
    "bondwire.set_material(\"copper\")\n",
    "bondwire.cross_section_type = BondwireCrossSectionType.RECTANGLE\n",
    "bondwire.cross_section_height = 0.1\n",
    "bondwire.set_traj(0.1, 0.2, 0.3, 0.4)\n"
   ]
  },
  {
   "cell_type": "code",
   "execution_count": null,
   "id": "3290a8f6",
   "metadata": {},
   "outputs": [],
   "source": [
    "\"\"\"Save database if you wish.\"\"\"\n",
    "db.save()"
   ]
  },
  {
   "cell_type": "code",
   "execution_count": null,
   "id": "21e1c810",
   "metadata": {},
   "outputs": [],
   "source": [
    "\"\"\"Don't forget to disconnect it!\"\"\"\n",
    "session.disconnect()"
   ]
  }
 ],
 "metadata": {
  "kernelspec": {
   "display_name": "Python 3 (ipykernel)",
   "language": "python",
   "name": "python3"
  },
  "language_info": {
   "codemirror_mode": {
    "name": "ipython",
    "version": 3
   },
   "file_extension": ".py",
   "mimetype": "text/x-python",
   "name": "python",
   "nbconvert_exporter": "python",
   "pygments_lexer": "ipython3",
   "version": "3.8.6"
  }
 },
 "nbformat": 4,
 "nbformat_minor": 5
}
