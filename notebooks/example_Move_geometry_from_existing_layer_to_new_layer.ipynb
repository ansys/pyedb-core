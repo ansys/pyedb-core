{
 "cells": [
  {
   "cell_type": "code",
   "execution_count": 1,
   "id": "cd7e721c",
   "metadata": {},
   "outputs": [],
   "source": [
    "\"\"\"Imports\"\"\"\n",
    "\n",
    "import os\n",
    "from ansys.edb.database import Database\n",
    "from ansys.edb.layer import StackupLayer, LayerType\n",
    "from ansys.edb.layout import Cell, CellType\n",
    "from ansys.edb.net import Net\n",
    "from ansys.edb.primitive import Circle, Text, Rectangle, RectangleRepresentationType"
   ]
  },
  {
   "cell_type": "code",
   "execution_count": 2,
   "id": "a09c729b",
   "metadata": {},
   "outputs": [],
   "source": [
    "\"\"\"Configs\"\"\"\n",
    "\n",
    "# RPC_SERVER = None if separate server is already running, Root dir of server executable otherwise.\n",
    "RPC_SERVER = None\n",
    "ROOT = os.getcwd()\n",
    "EDB_FILE = os.path.join(ROOT, \"example_Define_and_assign_bondwire_profiles.aedb\")"
   ]
  },
  {
   "cell_type": "code",
   "execution_count": null,
   "id": "87bc6dac",
   "metadata": {
    "scrolled": true
   },
   "outputs": [],
   "source": [
    "\"\"\"Launch a session. Make sure old one has been disconnected prior to starting a new one, if any\"\"\"\n",
    "\n",
    "session = launch_session(RPC_SERVER, 50051)"
   ]
  },
  {
   "cell_type": "code",
   "execution_count": null,
   "id": "f060f9f4",
   "metadata": {},
   "outputs": [],
   "source": [
    "\"\"\"Basic setup of empty EDB.\"\"\"\n",
    "\n",
    "db = Database.create(EDB_FILE)\n",
    "cell = Cell.create(db, CellType.CIRCUIT_CELL, \"EMDesign1\")\n",
    "layout = cell.layout\n",
    "\n",
    "\"\"\"Nets for the different cells and create the primitives\"\"\"\n",
    "\n",
    "net = Net.create(layout, 'GND')"
   ]
  },
  {
   "cell_type": "code",
   "execution_count": null,
   "id": "abd5a80d",
   "metadata": {},
   "outputs": [],
   "source": [
    "\"\"\"Setup Layers for cell\"\"\"\n",
    "\n",
    "# Layers in layout's layer collection\n",
    "layer_gnd = StackupLayer.create('Ground', layer_type=LayerType.SIGNAL_LAYER, thickness=0.0001, elevation=0, material=\"copper\")\n",
    "layer_1 = StackupLayer.create('NewLayer', LayerType.SIGNAL_LAYER, thickness=0.0001, elevation=0.0001, material=\"copper\")\n",
    "lc = layout.layer_collection\n",
    "lc.add_layers([layer_gnd, layer_1])\n",
    "\n",
    "# Retrieve layers collection and layers\n",
    "layout.layer_collection = lc\n",
    "layer_gnd = lc.find_by_name('Ground')\n",
    "layer_1 = lc.find_by_name('NewLayer')"
   ]
  },
  {
   "cell_type": "code",
   "execution_count": null,
   "id": "ea0dd4f6",
   "metadata": {},
   "outputs": [],
   "source": [
    "\"\"\"Create Primitive objects in ground layer\"\"\"\n",
    "\n",
    "um = lambda val : val * 1e-6\n",
    "\n",
    "text = Text.create(layout=layout,layer=layer_gnd, center_x=um(0.0), center_y=um(0.0), text=\"my Text\")\n",
    "\n",
    "rect = Rectangle.create(layout=layout,\n",
    "                        layer=layer_gnd,\n",
    "                        net=net,\n",
    "                        rep_type=RectangleRepresentationType.LOWER_LEFT_UPPER_RIGHT,\n",
    "                        param1=um(10),\n",
    "                        param2=um(10),\n",
    "                        param3=um(20),\n",
    "                        param4=um(20),\n",
    "                        corner_rad=0.0,\n",
    "                        rotation=0.0\n",
    "                        )\n",
    "\n",
    "rect_2 = Rectangle.create(layout=layout,\n",
    "                          layer=layer_gnd,\n",
    "                          net=net,\n",
    "                          rep_type=RectangleRepresentationType.LOWER_LEFT_UPPER_RIGHT,\n",
    "                          param1=um(0.0),\n",
    "                          param2=um(0.0),\n",
    "                          param3=um(30),\n",
    "                          param4=um(30),\n",
    "                          corner_rad=0.0,\n",
    "                          rotation=0.0\n",
    "                          )\n",
    "\n",
    "circle = Circle.create(layout=layout,layer=layer_gnd,net=net, center_x=um(0.0), center_y=um(0.0), radius=um(34.0))\n",
    "\n",
    "# Add primitives to a list\n",
    "primitives_created = [text, rect, rect_2, circle]"
   ]
  },
  {
   "cell_type": "code",
   "execution_count": null,
   "id": "8af667ab",
   "metadata": {},
   "outputs": [],
   "source": [
    "\"\"\"Move Primitive objects to NewLayer\"\"\"\n",
    "\n",
    "for primitive in primitives_created:\n",
    "    primitive.layer = layer_1"
   ]
  },
  {
   "cell_type": "code",
   "execution_count": null,
   "id": "3290a8f6",
   "metadata": {},
   "outputs": [],
   "source": [
    "\"\"\"Save database if you wish.\"\"\"\n",
    "\n",
    "db.save()"
   ]
  },
  {
   "cell_type": "code",
   "execution_count": null,
   "id": "21e1c810",
   "metadata": {},
   "outputs": [],
   "source": [
    "\"\"\"Don't forget to disconnect it!\"\"\"\n",
    "\n",
    "session.disconnect()"
   ]
  }
 ],
 "metadata": {},
 "nbformat": 4,
 "nbformat_minor": 5
}
