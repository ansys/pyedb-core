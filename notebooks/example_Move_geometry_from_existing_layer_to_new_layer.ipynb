{
 "cells": [
  {
   "cell_type": "code",
   "execution_count": null,
   "id": "cd7e721c",
   "metadata": {},
   "outputs": [],
   "source": [
    "\"\"\"Imports\"\"\"\n",
    "\n",
    "import os\n",
    "from ansys.edb.database import Database\n",
    "from ansys.edb.layer import StackupLayer, LayerType\n",
    "from ansys.edb.layout import Cell, CellType\n",
    "from ansys.edb.net import Net\n",
    "from ansys.edb.primitive import Circle, Text, Rectangle, RectangleRepresentationType"
   ]
  },
  {
   "cell_type": "code",
   "execution_count": null,
   "id": "a09c729b",
   "metadata": {},
   "outputs": [],
   "source": [
    "\"\"\"Configs\"\"\"\n",
    "\n",
    "# RPC_SERVER = None if separate server is already running, Root dir of server executable otherwise.\n",
    "RPC_SERVER = None\n",
    "ROOT = os.getcwd()\n",
    "EDB_FILE = os.path.join(ROOT, \"example_Define_and_assign_bondwire_profiles.aedb\")"
   ]
  },
  {
   "cell_type": "code",
   "execution_count": null,
   "id": "87bc6dac",
   "metadata": {
    "scrolled": true
   },
   "outputs": [],
   "source": [
    "\"\"\"Launch a session. Make sure old one has been disconnected prior to starting a new one, if any\"\"\"\n",
    "session = launch_session(RPC_SERVER, 50051)"
   ]
  },
  {
   "cell_type": "code",
   "execution_count": null,
   "id": "f060f9f4",
   "metadata": {},
   "outputs": [],
   "source": [
    "\"\"\"Basic setup of empty EDB.\"\"\"\n",
    "db = Database.create(EDB_FILE)\n",
    "cell = Cell.create(db, CellType.CIRCUIT_CELL, \"EMDesign1\")\n",
    "layout = cell.layout\n",
    "\n",
    "\"\"\"Nets for the different cells and create the primitives\"\"\"\n",
    "net = Net.create(layout, 'GND')"
   ]
  },
  {
   "cell_type": "code",
   "execution_count": null,
   "id": "abd5a80d",
   "metadata": {},
   "outputs": [],
   "source": [
    "\"\"\"Setup Layers for cell\"\"\"\n",
    "# Layers in layout's layer collection\n",
    "layer_gnd = StackupLayer.create('Ground', LayerType.SIGNAL_LAYER, 0.0001, 0, \"copper\")\n",
    "layer_1 = StackupLayer.create('NewLayer', LayerType.SIGNAL_LAYER, 0.0001, 0.0001, \"copper\")\n",
    "lc = layout.layer_collection\n",
    "lc.add_layers([layer_gnd, layer_1])\n",
    "\n",
    "# Retrieve layers collection and layers\n",
    "layout.layer_collection = lc\n",
    "layer_gnd = lc.find_by_name('Ground')\n",
    "layer_1 = lc.find_by_name('NewLayer')"
   ]
  },
  {
   "cell_type": "code",
   "execution_count": null,
   "id": "ea0dd4f6",
   "metadata": {},
   "outputs": [],
   "source": [
    "\"\"\"Create Primitive objects in ground layer\"\"\"\n",
    "um = lambda val : val * 1e-6\n",
    "\n",
    "text = Text.create(layout, layer_gnd, um(0.0), um(0.0), \"my Text\")\n",
    "\n",
    "rect = Rectangle.create(layout,\n",
    "                        layer_gnd,\n",
    "                        net,\n",
    "                        RectangleRepresentationType.LOWER_LEFT_UPPER_RIGHT,\n",
    "                        um(10), um(10), um(20), um(20), 0.0, 0.0\n",
    "                        )\n",
    "\n",
    "rect_2 = Rectangle.create(layout,\n",
    "                          layer_gnd,\n",
    "                          net,\n",
    "                          RectangleRepresentationType.LOWER_LEFT_UPPER_RIGHT,\n",
    "                          um(0.0), um(0.0), um(30), um(30), 0.0, 0.0\n",
    "                          )\n",
    "\n",
    "circle = Circle.create(layout, layer_gnd, net, um(0.0), um(0.0), um(34.0))\n",
    "\n",
    "# Add primitives to a list\n",
    "primitives_created = [text, rect, rect_2, circle]"
   ]
  },
  {
   "cell_type": "code",
   "execution_count": null,
   "id": "8af667ab",
   "metadata": {},
   "outputs": [],
   "source": [
    "\"\"\"Move Primitive objects to NewLayer\"\"\"\n",
    "for primitive in primitives_created:\n",
    "    primitive.layer = layer_1"
   ]
  },
  {
   "cell_type": "code",
   "execution_count": null,
   "id": "3290a8f6",
   "metadata": {},
   "outputs": [],
   "source": [
    "\"\"\"Save database if you wish.\"\"\"\n",
    "db.save()"
   ]
  },
  {
   "cell_type": "code",
   "execution_count": null,
   "id": "21e1c810",
   "metadata": {},
   "outputs": [],
   "source": [
    "\"\"\"Don't forget to disconnect it!\"\"\"\n",
    "session.disconnect()"
   ]
  }
 ],
 "metadata": {
  "kernelspec": {
   "display_name": "Python 3 (ipykernel)",
   "language": "python",
   "name": "python3"
  },
  "language_info": {
   "codemirror_mode": {
    "name": "ipython",
    "version": 3
   },
   "file_extension": ".py",
   "mimetype": "text/x-python",
   "name": "python",
   "nbconvert_exporter": "python",
   "pygments_lexer": "ipython3",
   "version": "3.8.6"
  }
 },
 "nbformat": 4,
 "nbformat_minor": 5
}
