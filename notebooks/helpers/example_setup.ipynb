{
 "cells": [
  {
   "cell_type": "code",
   "execution_count": null,
   "id": "69eb8c3c",
   "metadata": {},
   "outputs": [],
   "source": [
    "import os, inspect, sys, pathlib, ipynbname, glob, shutil\n",
    "import ansys.edb\n",
    "\n",
    "from ansys.edb.database import *\n",
    "from ansys.edb.definition import *\n",
    "from ansys.edb.geometry import *\n",
    "from ansys.edb.hierarchy import *\n",
    "from ansys.edb.layer import *\n",
    "from ansys.edb.layout import *\n",
    "from ansys.edb.layout_instance import *\n",
    "from ansys.edb.net import *\n",
    "from ansys.edb.primitive import *\n",
    "from ansys.edb.simulation_setup import *\n",
    "from ansys.edb.terminal import *\n",
    "from ansys.edb.database import Database\n",
    "from ansys.edb.session import launch_session"
   ]
  },
  {
   "cell_type": "code",
   "execution_count": null,
   "id": "93241630",
   "metadata": {},
   "outputs": [],
   "source": [
    "def get_fixture_file(filename):\n",
    "    example_name = ipynbname.name()\n",
    "    return os.path.join(os.getcwd(), 'fixtures', example_name, filename)\n",
    "    \n",
    "def get_input_filename():\n",
    "    example_name = ipynbname.name()\n",
    "    return os.path.join(os.getcwd(), f'{example_name}.aedb')\n",
    "    \n",
    "def get_output_filename():\n",
    "    example_name = ipynbname.name()\n",
    "    return os.path.join(get_output_dir(), f'{example_name}.aedb')\n",
    "\n",
    "def get_output_files():\n",
    "    example_name = ipynbname.name()\n",
    "    return os.path.join(get_output_dir(), f'{example_name}.*')\n",
    "\n",
    "def get_output_dir():\n",
    "    return os.path.join(os.getcwd(), \"results\")\n"
   ]
  },
  {
   "cell_type": "code",
   "execution_count": null,
   "id": "909456f7",
   "metadata": {},
   "outputs": [],
   "source": [
    "%run helpers/example_teardown.ipynb\n",
    "\n",
    "RPC_SERVER = None\n",
    "session = launch_session(RPC_SERVER, 50051)"
   ]
  },
  {
   "cell_type": "code",
   "execution_count": null,
   "id": "218cba22",
   "metadata": {},
   "outputs": [],
   "source": [
    "if not pathlib.Path(get_output_dir()).is_dir():\n",
    "    os.makedirs(get_output_dir())\n",
    "\n",
    "for f in glob.glob(get_output_files()):\n",
    "    if pathlib.Path(f).is_dir():\n",
    "        shutil.rmtree(f)\n",
    "    else:\n",
    "        os.remove(f)\n",
    "    \n",
    "if pathlib.Path(get_input_filename()).is_file():\n",
    "    db = Database.open(get_input_filename())\n",
    "    cell = db.cells()[0]\n",
    "else:\n",
    "    db = Database.create(get_output_filename())\n",
    "    cell = Cell.create(db, CellType.CIRCUIT_CELL, \"Example\")\n",
    "\n",
    "layout = cell.layout\n",
    "gnd_net = Net.create(layout, 'GND')\n",
    "\n",
    "print('defined db, cell, layout, gnd_net variables.')"
   ]
  }
 ],
 "metadata": {
  "kernelspec": {
   "display_name": "Python 3 (ipykernel)",
   "language": "python",
   "name": "python3"
  },
  "language_info": {
   "codemirror_mode": {
    "name": "ipython",
    "version": 3
   },
   "file_extension": ".py",
   "mimetype": "text/x-python",
   "name": "python",
   "nbconvert_exporter": "python",
   "pygments_lexer": "ipython3",
   "version": "3.7.0"
  }
 },
 "nbformat": 4,
 "nbformat_minor": 5
}
