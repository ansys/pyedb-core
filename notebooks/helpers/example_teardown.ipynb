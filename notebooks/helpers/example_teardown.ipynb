{
 "cells": [
  {
   "cell_type": "code",
   "execution_count": null,
   "id": "c1f09522",
   "metadata": {},
   "outputs": [],
   "source": [
    "# make sure example_setup is loaded in the caller script."
   ]
  },
  {
   "cell_type": "code",
   "execution_count": null,
   "id": "8232ddfe",
   "metadata": {},
   "outputs": [],
   "source": [
    "try:\n",
    "    if os.path.exists(get_input_filename()):\n",
    "        db.save_as(get_output_filename())\n",
    "    else:\n",
    "        db.save()\n",
    "except:\n",
    "    pass\n",
    "\n",
    "try:\n",
    "    session.disconnect()\n",
    "except:\n",
    "    pass"
   ]
  }
 ],
 "metadata": {
  "kernelspec": {
   "display_name": "Python 3 (ipykernel)",
   "language": "python",
   "name": "python3"
  },
  "language_info": {
   "codemirror_mode": {
    "name": "ipython",
    "version": 3
   },
   "file_extension": ".py",
   "mimetype": "text/x-python",
   "name": "python",
   "nbconvert_exporter": "python",
   "pygments_lexer": "ipython3",
   "version": "3.7.0"
  }
 },
 "nbformat": 4,
 "nbformat_minor": 5
}
