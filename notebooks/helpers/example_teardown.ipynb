{
 "cells": [
  {
   "cell_type": "code",
   "execution_count": null,
   "id": "c1f09522",
   "metadata": {},
   "outputs": [],
   "source": [
    "# make sure example_setup is loaded in the caller script."
   ]
  },
  {
   "cell_type": "code",
   "execution_count": null,
   "id": "8232ddfe",
   "metadata": {},
   "outputs": [],
   "source": [
    "try:\n",
    "    if os.path.exists(get_input_filename()):\n",
    "        # we don't want to override input files. save into output dir.\n",
    "        db.save_as(get_output_filename())\n",
    "    else:\n",
    "        db.save()\n",
    "    db.close()\n",
    "except:\n",
    "    pass\n",
    "\n",
    "try:\n",
    "    session.disconnect()\n",
    "except:\n",
    "    pass"
   ]
  }
 ],
 "metadata": {},
 "nbformat": 4,
 "nbformat_minor": 5
}