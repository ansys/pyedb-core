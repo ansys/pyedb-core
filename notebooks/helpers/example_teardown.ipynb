{
 "cells": [
  {
   "cell_type": "code",
   "execution_count": null,
   "id": "c1f09522",
   "metadata": {},
   "outputs": [],
   "source": [
    "# make sure example_setup is loaded in the caller script."
   ]
  },
  {
   "cell_type": "code",
   "execution_count": null,
   "id": "8232ddfe",
   "metadata": {},
   "outputs": [],
   "source": [
    "try:\n",
    "    db.save()\n",
    "    db.close()\n",
    "except:\n",
    "    pass\n",
    "\n",
    "try:\n",
    "    session.disconnect()\n",
    "except:\n",
    "    pass"
   ]
  }
 ],
 "metadata": {},
 "nbformat": 4,
 "nbformat_minor": 5
}