{
 "cells": [
  {
   "cell_type": "code",
   "execution_count": null,
   "id": "0b3acb27",
   "metadata": {},
   "outputs": [],
   "source": [
    "import matplotlib.pyplot as plt\n",
    "import matplotlib.patches as mpatches\n",
    "import math"
   ]
  },
  {
   "cell_type": "code",
   "execution_count": null,
   "id": "d5996953",
   "metadata": {},
   "outputs": [],
   "source": [
    "def plot_poly(ax, p, color):\n",
    "    pts = p.points\n",
    "    if len(pts) == 0:\n",
    "        return\n",
    "\n",
    "    xss = []\n",
    "    yss = []\n",
    "    arcs = []\n",
    "    xs = [pts[0].x.double]\n",
    "    ys = [pts[0].y.double]\n",
    "\n",
    "    i = 1\n",
    "    while i < len(pts):\n",
    "        if pts[i].is_arc:\n",
    "            if len(xs) > 1:\n",
    "                # flush current line segment\n",
    "                xss.append(xs)\n",
    "                yss.append(ys)\n",
    "            xs = []\n",
    "            ys = []\n",
    "\n",
    "            start = pts[i-1]\n",
    "            end = pts[(i+1) % len(pts)]\n",
    "            arc = ArcData(start, end, height=pts[i].arc_height.double)\n",
    "            center = arc.center\n",
    "            center_pt = [center.x.double, center.y.double]\n",
    "            theta1 = math.atan2((start-center).y.double, (start-center).x.double)\n",
    "            theta2 = math.atan2((end-center).y.double, (end-center).x.double)\n",
    "            arcs.append(mpatches.Arc(center_pt, height=arc.radius*2, width=arc.radius*2, theta1=math.degrees(theta1), theta2=math.degrees(theta2), color=color))\n",
    "        else:\n",
    "            xs.append(pts[i].x.double)\n",
    "            ys.append(pts[i].y.double)\n",
    "        i += 1\n",
    "\n",
    "    if not pts[-1].is_arc:\n",
    "        # close the loop\n",
    "        xs.append(pts[0].x.double)\n",
    "        ys.append(pts[0].y.double)\n",
    "\n",
    "    if len(xs) > 0:\n",
    "        xss.append(xs)\n",
    "        yss.append(ys)\n",
    "\n",
    "    for a in arcs:\n",
    "        ax.add_patch(a)\n",
    "\n",
    "    for i in range(0, len(xss)):\n",
    "        ax.plot(xss[i], yss[i], color=color)"
   ]
  },
  {
   "cell_type": "code",
   "execution_count": null,
   "id": "a5cd3b3d",
   "metadata": {},
   "outputs": [],
   "source": [
    "def plot_polys(ax, ps, title):\n",
    "    try:\n",
    "        if len(ps) == 0:\n",
    "            return\n",
    "    except TypeError:\n",
    "        ps = [p]\n",
    "\n",
    "    ax.set_title(title)\n",
    "\n",
    "    # plot contours\n",
    "    for p in ps:\n",
    "        plot_poly(ax, p, color='tab:blue')\n",
    "\n",
    "    # plot holes\n",
    "    holes = [h for p in ps for h in p.holes]\n",
    "    for h in holes:\n",
    "        plot_poly(ax, h, color='tab:orange')"
   ]
  }
 ],
 "metadata": {
  "kernelspec": {
   "display_name": "Python 3 (ipykernel)",
   "language": "python",
   "name": "python3"
  },
  "language_info": {
   "codemirror_mode": {
    "name": "ipython",
    "version": 3
   },
   "file_extension": ".py",
   "mimetype": "text/x-python",
   "name": "python",
   "nbconvert_exporter": "python",
   "pygments_lexer": "ipython3",
   "version": "3.7.0"
  }
 },
 "nbformat": 4,
 "nbformat_minor": 5
}
