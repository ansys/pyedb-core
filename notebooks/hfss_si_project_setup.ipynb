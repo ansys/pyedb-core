{
 "cells": [
  {
   "cell_type": "code",
   "execution_count": null,
   "id": "310be854-1d18-4efb-bd77-ac8bca9cbfa8",
   "metadata": {
    "tags": []
   },
   "outputs": [],
   "source": [
    "import os\n",
    "import shutil\n",
    "import datetime\n",
    "from ansys.edb.database import Database\n",
    "from ansys.edb.definition import DieType, DieOrientation, SolderballShape\n",
    "from ansys.edb.geometry import ExtentType\n",
    "from ansys.edb.session import launch_session\n",
    "from ansys.edb.definition import PadType\n",
    "from ansys.edb.simulation_setup.simulation_setup import SimulationSetupType\n",
    "from ansys.edb.terminal.terminals import PadstackInstanceTerminal"
   ]
  },
  {
   "cell_type": "code",
   "execution_count": null,
   "id": "5f1f4ecc-a520-447b-ae27-a2f458b38867",
   "metadata": {
    "tags": []
   },
   "outputs": [],
   "source": [
    "RPC_SERVER = r\"C:\\Program Files\\AnsysEM\\v231\\Win64\"\n",
    "ROOT = os.getcwd()\n",
    "EDB_FILE = os.path.join(ROOT, \"data\", \"edb\", \"Galileo_edb.aedb\")"
   ]
  },
  {
   "cell_type": "code",
   "execution_count": null,
   "id": "47c75ac4-37b1-421e-953e-f7f1e058a418",
   "metadata": {},
   "outputs": [],
   "source": [
    "\"\"\"Copy original EDB folder into unique one.\"\"\"\n",
    "\n",
    "target_path = os.path.join(ROOT, \"test_{}.aedb\".format(str(datetime.datetime.now().date())))\n",
    "shutil.copytree(EDB_FILE, target_path)"
   ]
  },
  {
   "cell_type": "code",
   "execution_count": null,
   "id": "fe3a1580-41a8-4c86-b5f3-6bfff221455f",
   "metadata": {
    "tags": []
   },
   "outputs": [],
   "source": [
    "\"\"\"Launch a session. Make sure old one has been disconnected prior to starting a new one, if any\"\"\"\n",
    "\n",
    "session = launch_session(RPC_SERVER, 50051)"
   ]
  },
  {
   "cell_type": "code",
   "execution_count": null,
   "id": "a6dd9dbf-7c8f-4a8d-88c6-b75d2da8d289",
   "metadata": {
    "tags": []
   },
   "outputs": [],
   "source": [
    "\"\"\"Open EDB\"\"\"\n",
    "\n",
    "edb = Database.open(target_path, False)"
   ]
  },
  {
   "cell_type": "code",
   "execution_count": null,
   "id": "a0d70717-0894-40da-a159-9e457e645e49",
   "metadata": {
    "tags": []
   },
   "outputs": [],
   "source": [
    "\"\"\"Getting Layout\"\"\"\n",
    "\n",
    "layout = edb.circuit_cells[0].layout"
   ]
  },
  {
   "cell_type": "code",
   "execution_count": null,
   "id": "61863bca-f5b7-4f73-93d5-9041f0bf8f1a",
   "metadata": {
    "tags": []
   },
   "outputs": [],
   "source": [
    "\"\"\"Selecting 2 components from the layout\"\"\"\n",
    "\n",
    "edb_components = [cmp for cmp in edb.circuit_cells[0].layout.groups if cmp.name in [\"U2A5\", \"U1B5\"]]"
   ]
  },
  {
   "cell_type": "code",
   "execution_count": null,
   "id": "26f79dcd-5a18-4c85-b8f3-61bcff664b8f",
   "metadata": {
    "tags": []
   },
   "outputs": [],
   "source": [
    "\"\"\"Selecting the nets to be included for the simulation\"\"\"\n",
    "\n",
    "included_nets = [\"M_DQ<0>\", \"M_DQ<1>\", \"M_DQ<2>\", \"M_DQ<3>\", \"M_DQ<4>\", \"M_DQ<5>\", \"M_DQ<6>\", \"M_DQ<7>\"]"
   ]
  },
  {
   "cell_type": "code",
   "execution_count": null,
   "id": "c2fe6580-10f4-469d-8c5b-5cb7e108dcbe",
   "metadata": {
    "tags": []
   },
   "outputs": [],
   "source": [
    "\"\"\"Create solders balls and coaxial ports on selected components for HFSS 3D layout simulation.\"\"\"\n",
    "\n",
    "for cmp in edb_components:\n",
    "    pins = [pin for pin in cmp.members if pin.net.name in included_nets]\n",
    "    for pin in pins:\n",
    "        try:\n",
    "            port_name = \"{}_{}\".format(cmp.name, pin.net.name)\n",
    "            PadstackInstanceTerminal.create(layout, port_name, pin, cmp.placement_layer, pin.net)\n",
    "        except:\n",
    "            print(\"failed to create port on pin {}\".format(pin.name))\n",
    "\n",
    "    # solder ball property\n",
    "    sold_prop = cmp.component_property.solder_ball_property\n",
    "    sold_prop.shape = SolderballShape.SOLDERBALL_CYLINDER\n",
    "    solderball_diameter = pins[0].padstack_def.data.get_pad_parameters(pins[0].padstack_def.data.layer_names[0],\n",
    "                                                                            PadType.REGULAR_PAD)[1][0].value\n",
    "    sold_prop.set_diameter(solderball_diameter, solderball_diameter)\n",
    "    sold_prop.height = solderball_diameter\n",
    "    # die property\n",
    "    die_prop = cmp.component_property.die_property\n",
    "    die_prop.die_type = DieType.FLIPCHIP\n",
    "    die_prop.die_orientation = DieOrientation.CHIP_DOWN\n",
    "    # port property\n",
    "    port_prop = cmp.component_property.port_property\n",
    "    port_prop.reference_size_auto = True\n",
    "    # setters\n",
    "    component_property = cmp.component_property\n",
    "    component_property.solder_ball_property = sold_prop\n",
    "    component_property.die_property = die_prop\n",
    "    component_property.port_property = port_prop\n",
    "    cmp.component_property = component_property"
   ]
  },
  {
   "cell_type": "code",
   "execution_count": null,
   "id": "7aef9e6f-52ef-4901-a03f-8ad127ea77d6",
   "metadata": {
    "tags": []
   },
   "outputs": [],
   "source": [
    "\"\"\"Getting conformal extend based on net selection to be used for layout clipping.\"\"\"\n",
    "\n",
    "included_nets = [net for net in layout.nets if net.name in included_nets]\n",
    "clipped_net = [net for net in layout.nets if net.name == \"GND\"]\n",
    "expanded_extent = layout.expanded_extent(nets=included_nets, extent=ExtentType.CONFORMING, expansion_factor=0.01, expansion_unitless=False, use_round_corner=True, num_increments=1)"
   ]
  },
  {
   "cell_type": "code",
   "execution_count": null,
   "id": "c19a4da8-f3ad-4462-bf3a-804c08125343",
   "metadata": {
    "tags": []
   },
   "outputs": [],
   "source": [
    "\"\"\"Clipping layout\"\"\"\n",
    "\n",
    "cutout_cell = layout.cell.cutout(included_nets=included_nets + clipped_net, clipped_nets=clipped_net, clipping_polygon=expanded_extent, clean_clipping=True)"
   ]
  },
  {
   "cell_type": "code",
   "execution_count": null,
   "id": "4b1c72c1-5a76-4c94-9b75-e769827478fa",
   "metadata": {
    "tags": []
   },
   "outputs": [],
   "source": [
    "\"\"\"Deleting original Cell\"\"\"\n",
    "\n",
    "edb.circuit_cells[0].delete()"
   ]
  },
  {
   "cell_type": "code",
   "execution_count": null,
   "id": "d15f86e8-f6d8-4f5b-bb46-23d2d06d79a5",
   "metadata": {
    "tags": []
   },
   "outputs": [],
   "source": [
    "\"\"\"Saving EDB\"\"\"\n",
    "\n",
    "edb.save()"
   ]
  },
  {
   "cell_type": "code",
   "execution_count": null,
   "id": "94e14e63-55d1-46f8-94cd-eee115a0954e",
   "metadata": {
    "tags": []
   },
   "outputs": [],
   "source": [
    "\"\"\"Disconnect the session\"\"\"\n",
    "\n",
    "session.disconnect()"
   ]
  },
  {
   "cell_type": "code",
   "execution_count": null,
   "id": "6d54c1ee-16e2-4cf2-9b0e-1ada88592c6c",
   "metadata": {},
   "outputs": [],
   "source": []
  }
 ],
 "metadata": {
  "kernelspec": {
   "display_name": "Python 3 (ipykernel)",
   "language": "python",
   "name": "python3"
  },
  "language_info": {
   "codemirror_mode": {
    "name": "ipython",
    "version": 3
   },
   "file_extension": ".py",
   "mimetype": "text/x-python",
   "name": "python",
   "nbconvert_exporter": "python",
   "pygments_lexer": "ipython3",
   "version": "3.9.4"
  }
 },
 "nbformat": 4,
 "nbformat_minor": 5
}
