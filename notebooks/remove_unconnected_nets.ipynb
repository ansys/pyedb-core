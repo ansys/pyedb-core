{
 "cells": [
  {
   "cell_type": "markdown",
   "id": "659acad1",
   "metadata": {},
   "source": [
    "# Imports"
   ]
  },
  {
   "cell_type": "code",
   "execution_count": null,
   "id": "de19eb7d",
   "metadata": {},
   "outputs": [],
   "source": [
    "import os\n",
    "from ansys.edb.database import Database\n",
    "from ansys.edb.session import launch_session\n",
    "import ansys.edb as edb\n",
    "import json"
   ]
  },
  {
   "cell_type": "markdown",
   "id": "d817c01f",
   "metadata": {},
   "source": [
    "# Configs"
   ]
  },
  {
   "cell_type": "code",
   "execution_count": null,
   "id": "67bf7709",
   "metadata": {},
   "outputs": [],
   "source": [
    "ROOT = os.getcwd()\n",
    "EXE_ROOT = os.environ['ANSYSEM_ROOT232']\n",
    "EDB_FILE = r'D:\\2023\\PYEDB\\Galileo.aedb'"
   ]
  },
  {
   "cell_type": "markdown",
   "id": "6e0aeed6",
   "metadata": {},
   "source": [
    "# Launch session"
   ]
  },
  {
   "cell_type": "code",
   "execution_count": null,
   "id": "bac4d383",
   "metadata": {},
   "outputs": [],
   "source": [
    "session = launch_session(EXE_ROOT, 50051)"
   ]
  },
  {
   "cell_type": "markdown",
   "id": "ae0454f7",
   "metadata": {},
   "source": [
    "# Open DB"
   ]
  },
  {
   "cell_type": "code",
   "execution_count": null,
   "id": "f88b342f",
   "metadata": {},
   "outputs": [],
   "source": [
    "db = Database.open(EDB_FILE,False)\n",
    "cell = db.circuit_cells[0]\n",
    "layout = cell.layout\n",
    "layerStats = []\n",
    "lc = layout.layer_collection\n",
    "layers = lc.get_layers()\n",
    "layer_names = [i.name for i in layers]"
   ]
  },
  {
   "cell_type": "code",
   "execution_count": null,
   "id": "e61f03f8",
   "metadata": {},
   "outputs": [],
   "source": [
    "nets = layout.nets\n",
    "for net in nets:\n",
    "    netName = net.name"
   ]
  },
  {
   "cell_type": "code",
   "execution_count": null,
   "id": "071fbe9a",
   "metadata": {},
   "outputs": [],
   "source": [
    "for net in nets:\n",
    "    padstacks = net.padstack_instances\n",
    "    \n",
    "    if len(padstacks)==0 and net.name:\n",
    "        print(net.name)\n",
    "        # print(dir(net))\n",
    "        net.delete()\n",
    "print(dir(db))  \n",
    "db.save()  "
   ]
  },
  {
   "cell_type": "markdown",
   "id": "0e7751ba",
   "metadata": {},
   "source": [
    "# End the session"
   ]
  },
  {
   "cell_type": "code",
   "execution_count": null,
   "id": "f0750fb4",
   "metadata": {},
   "outputs": [],
   "source": [
    "session.disconnect()"
   ]
  },
  {
   "cell_type": "markdown",
   "id": "c302735a",
   "metadata": {},
   "source": []
  }
 ],
 "metadata": {
  "kernelspec": {
   "display_name": "Python 3.10.9 64-bit",
   "language": "python",
   "name": "python3"
  },
  "language_info": {
   "codemirror_mode": {
    "name": "ipython",
    "version": 3
   },
   "file_extension": ".py",
   "mimetype": "text/x-python",
   "name": "python",
   "nbconvert_exporter": "python",
   "pygments_lexer": "ipython3",
   "version": "3.10.9"
  },
  "vscode": {
   "interpreter": {
    "hash": "26de051ba29f2982a8de78e945f0abaf191376122a1563185a90213a26c5da77"
   }
  }
 },
 "nbformat": 4,
 "nbformat_minor": 5
}
