{
 "cells": [
  {
   "cell_type": "code",
   "execution_count": 1,
   "id": "de19eb7d",
   "metadata": {},
   "outputs": [],
   "source": [
    "\"\"\"Imports\"\"\"\n",
    "import os\n",
    "from ansys.edb.database import Database\n",
    "from ansys.edb.session import launch_session\n",
    "import ansys.edb as edb\n",
    "import json\n",
    "import psutil"
   ]
  },
  {
   "cell_type": "code",
   "execution_count": 2,
   "id": "67bf7709",
   "metadata": {},
   "outputs": [],
   "source": [
    "\"\"\"Configs\"\"\"\n",
    "ROOT = os.getcwd()\n",
    "EXE_ROOT = os.environ['ANSYSEM_ROOT232']\n",
    "ROOT = os.getcwd()\n",
    "EDB_FILE = os.path.join(ROOT,'data','meshed_ground.aedb')\n",
    "out = os.path.join(ROOT,'data','remove_unconnected_nets.aedb')"
   ]
  },
  {
   "cell_type": "code",
   "execution_count": 3,
   "id": "bac4d383",
   "metadata": {},
   "outputs": [],
   "source": [
    "\"\"\"Launch a session.\"\"\"\n",
    "PROCNAME = \"EDB_RPC_Server.exe\"\n",
    "try:\n",
    "    for proc in psutil.process_iter():\n",
    "        if proc.name() == PROCNAME:\n",
    "            proc.kill()\n",
    "except:\n",
    "    pass\n",
    "session = launch_session(EXE_ROOT, 50051)"
   ]
  },
  {
   "cell_type": "code",
   "execution_count": 4,
   "id": "f88b342f",
   "metadata": {},
   "outputs": [],
   "source": [
    "\"\"\"Open DB\"\"\"\n",
    "db = Database.open(EDB_FILE,False)\n",
    "cell = db.circuit_cells[0]\n",
    "layout = cell.layout\n",
    "layerStats = []\n",
    "lc = layout.layer_collection\n",
    "layers = lc.get_layers()\n",
    "layer_names = [i.name for i in layers]"
   ]
  },
  {
   "cell_type": "code",
   "execution_count": 5,
   "id": "e61f03f8",
   "metadata": {},
   "outputs": [],
   "source": [
    "\"\"\"find all the nets\"\"\"\n",
    "nets = layout.nets\n",
    "for net in nets:\n",
    "    netName = net.name"
   ]
  },
  {
   "cell_type": "code",
   "execution_count": 6,
   "id": "071fbe9a",
   "metadata": {},
   "outputs": [],
   "source": [
    "\"\"\"delete unconnected nets\"\"\"\n",
    "for net in nets:\n",
    "    padstacks = net.padstack_instances    \n",
    "    if len(padstacks)==0 and net.name:\n",
    "        net.delete()\n",
    "db.save_as(out) "
   ]
  },
  {
   "cell_type": "code",
   "execution_count": 7,
   "id": "f0750fb4",
   "metadata": {},
   "outputs": [],
   "source": [
    "\"\"\"end the session\"\"\"\n",
    "session.disconnect()"
   ]
  }
 ],
 "metadata": {
  "kernelspec": {
   "display_name": "Python 3.10.9 64-bit",
   "language": "python",
   "name": "python3"
  },
  "language_info": {
   "codemirror_mode": {
    "name": "ipython",
    "version": 3
   },
   "file_extension": ".py",
   "mimetype": "text/x-python",
   "name": "python",
   "nbconvert_exporter": "python",
   "pygments_lexer": "ipython3",
   "version": "3.10.9"
  },
  "vscode": {
   "interpreter": {
    "hash": "26de051ba29f2982a8de78e945f0abaf191376122a1563185a90213a26c5da77"
   }
  }
 },
 "nbformat": 4,
 "nbformat_minor": 5
}
