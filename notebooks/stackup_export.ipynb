{
 "cells": [
  {
   "cell_type": "markdown",
   "id": "659acad1",
   "metadata": {},
   "source": [
    "# Imports"
   ]
  },
  {
   "cell_type": "code",
   "execution_count": null,
   "id": "de19eb7d",
   "metadata": {},
   "outputs": [],
   "source": [
    "import os\n",
    "from ansys.edb.database import Database\n",
    "from ansys.edb.session import launch_session\n",
    "import ansys.edb as edb\n",
    "from ansys.edb.definition.djordjecvic_sarkar_model import DjordjecvicSarkarModel\n",
    "import json"
   ]
  },
  {
   "cell_type": "markdown",
   "id": "d817c01f",
   "metadata": {},
   "source": [
    "# Configs"
   ]
  },
  {
   "cell_type": "code",
   "execution_count": null,
   "id": "67bf7709",
   "metadata": {},
   "outputs": [],
   "source": [
    "ROOT = os.getcwd()\n",
    "EXE_ROOT = os.environ['ANSYSEM_ROOT232']\n",
    "EDB_FILE = r'D:\\2023\\PYEDB\\Galileo.aedb'"
   ]
  },
  {
   "cell_type": "markdown",
   "id": "6e0aeed6",
   "metadata": {},
   "source": [
    "# Launch session"
   ]
  },
  {
   "cell_type": "code",
   "execution_count": null,
   "id": "bac4d383",
   "metadata": {},
   "outputs": [],
   "source": [
    "session = launch_session(EXE_ROOT, 50051)"
   ]
  },
  {
   "cell_type": "markdown",
   "id": "ae0454f7",
   "metadata": {},
   "source": [
    "# Open DB"
   ]
  },
  {
   "cell_type": "code",
   "execution_count": null,
   "id": "f88b342f",
   "metadata": {},
   "outputs": [],
   "source": [
    "db = Database.open(EDB_FILE,False)\n",
    "cell = db.circuit_cells[0]\n",
    "layout = cell.layout\n",
    "layerStats = []\n",
    "lc = layout.layer_collection\n",
    "layers = lc.get_layers()\n",
    "layer_names = [i.name for i in layers]"
   ]
  },
  {
   "cell_type": "markdown",
   "id": "71f27b0e",
   "metadata": {},
   "source": [
    "# Extracting layer by layer information"
   ]
  },
  {
   "cell_type": "code",
   "execution_count": 11,
   "id": "4313b4ed",
   "metadata": {},
   "outputs": [
    {
     "ename": "KeyboardInterrupt",
     "evalue": "",
     "output_type": "error",
     "traceback": [
      "\u001b[1;31m---------------------------------------------------------------------------\u001b[0m",
      "\u001b[1;31mKeyboardInterrupt\u001b[0m                         Traceback (most recent call last)",
      "Cell \u001b[1;32mIn[11], line 22\u001b[0m\n\u001b[0;32m     14\u001b[0m     x \u001b[38;5;241m=\u001b[39m (name,\n\u001b[0;32m     15\u001b[0m     layer_type,\n\u001b[0;32m     16\u001b[0m     material,\n\u001b[1;32m   (...)\u001b[0m\n\u001b[0;32m     19\u001b[0m     lower_elevation,\n\u001b[0;32m     20\u001b[0m     full_material)                \n\u001b[0;32m     21\u001b[0m \u001b[38;5;28;01melif\u001b[39;00m \u001b[38;5;124m'\u001b[39m\u001b[38;5;124mDIELECTRIC_LAYER\u001b[39m\u001b[38;5;124m'\u001b[39m \u001b[38;5;129;01min\u001b[39;00m \u001b[38;5;28mstr\u001b[39m(layer_type):\n\u001b[1;32m---> 22\u001b[0m     matmodel \u001b[38;5;241m=\u001b[39m edb\u001b[38;5;241m.\u001b[39mdefinition\u001b[38;5;241m.\u001b[39mmaterial_def\u001b[38;5;241m.\u001b[39mMaterialDef\u001b[38;5;241m.\u001b[39mfind_by_name(db,\u001b[43mi\u001b[49m\u001b[38;5;241;43m.\u001b[39;49m\u001b[43mget_material\u001b[49m\u001b[43m(\u001b[49m\u001b[43m)\u001b[49m\u001b[38;5;241m.\u001b[39mvalue)\n\u001b[0;32m     23\u001b[0m     Td \u001b[38;5;241m=\u001b[39m matmodel\u001b[38;5;241m.\u001b[39mget_property(edb\u001b[38;5;241m.\u001b[39mdefinition\u001b[38;5;241m.\u001b[39mmaterial_def\u001b[38;5;241m.\u001b[39mMaterialProperty\u001b[38;5;241m.\u001b[39mDIELECTRIC_LOSS_TANGENT)\u001b[38;5;241m.\u001b[39mvalue\n\u001b[0;32m     24\u001b[0m     Er \u001b[38;5;241m=\u001b[39m matmodel\u001b[38;5;241m.\u001b[39mget_property(edb\u001b[38;5;241m.\u001b[39mdefinition\u001b[38;5;241m.\u001b[39mmaterial_def\u001b[38;5;241m.\u001b[39mMaterialProperty\u001b[38;5;241m.\u001b[39mPERMITTIVITY)\u001b[38;5;241m.\u001b[39mvalue\n",
      "File \u001b[1;32mD:\\2023\\PYEDB\\pyedb\\src\\ansys\\edb\\layer\\stackup_layer.py:151\u001b[0m, in \u001b[0;36mStackupLayer.get_material\u001b[1;34m(self, evaluated)\u001b[0m\n\u001b[0;32m    140\u001b[0m \u001b[39mdef\u001b[39;00m \u001b[39mget_material\u001b[39m(\u001b[39mself\u001b[39m, evaluated\u001b[39m=\u001b[39m\u001b[39mTrue\u001b[39;00m):\n\u001b[0;32m    141\u001b[0m \u001b[39m    \u001b[39m\u001b[39m\"\"\"Get the name of the material of the layer.\u001b[39;00m\n\u001b[0;32m    142\u001b[0m \n\u001b[0;32m    143\u001b[0m \u001b[39m    Parameters\u001b[39;00m\n\u001b[1;32m   (...)\u001b[0m\n\u001b[0;32m    149\u001b[0m \u001b[39m    str\u001b[39;00m\n\u001b[0;32m    150\u001b[0m \u001b[39m    \"\"\"\u001b[39;00m\n\u001b[1;32m--> 151\u001b[0m     \u001b[39mreturn\u001b[39;00m get_stackup_layer_stub()\u001b[39m.\u001b[39;49mGetMaterial(\n\u001b[0;32m    152\u001b[0m         _get_layer_material_name_message(\u001b[39mself\u001b[39;49m, evaluated)\n\u001b[0;32m    153\u001b[0m     )\n",
      "File \u001b[1;32mc:\\Program Files\\Python310\\lib\\site-packages\\grpc\\_interceptor.py:216\u001b[0m, in \u001b[0;36m_UnaryUnaryMultiCallable.__call__\u001b[1;34m(self, request, timeout, metadata, credentials, wait_for_ready, compression)\u001b[0m\n\u001b[0;32m    209\u001b[0m \u001b[39mdef\u001b[39;00m \u001b[39m__call__\u001b[39m(\u001b[39mself\u001b[39m,\n\u001b[0;32m    210\u001b[0m              request,\n\u001b[0;32m    211\u001b[0m              timeout\u001b[39m=\u001b[39m\u001b[39mNone\u001b[39;00m,\n\u001b[1;32m   (...)\u001b[0m\n\u001b[0;32m    214\u001b[0m              wait_for_ready\u001b[39m=\u001b[39m\u001b[39mNone\u001b[39;00m,\n\u001b[0;32m    215\u001b[0m              compression\u001b[39m=\u001b[39m\u001b[39mNone\u001b[39;00m):\n\u001b[1;32m--> 216\u001b[0m     response, ignored_call \u001b[39m=\u001b[39m \u001b[39mself\u001b[39;49m\u001b[39m.\u001b[39;49m_with_call(request,\n\u001b[0;32m    217\u001b[0m                                              timeout\u001b[39m=\u001b[39;49mtimeout,\n\u001b[0;32m    218\u001b[0m                                              metadata\u001b[39m=\u001b[39;49mmetadata,\n\u001b[0;32m    219\u001b[0m                                              credentials\u001b[39m=\u001b[39;49mcredentials,\n\u001b[0;32m    220\u001b[0m                                              wait_for_ready\u001b[39m=\u001b[39;49mwait_for_ready,\n\u001b[0;32m    221\u001b[0m                                              compression\u001b[39m=\u001b[39;49mcompression)\n\u001b[0;32m    222\u001b[0m     \u001b[39mreturn\u001b[39;00m response\n",
      "File \u001b[1;32mc:\\Program Files\\Python310\\lib\\site-packages\\grpc\\_interceptor.py:254\u001b[0m, in \u001b[0;36m_UnaryUnaryMultiCallable._with_call\u001b[1;34m(self, request, timeout, metadata, credentials, wait_for_ready, compression)\u001b[0m\n\u001b[0;32m    251\u001b[0m     \u001b[39mexcept\u001b[39;00m \u001b[39mException\u001b[39;00m \u001b[39mas\u001b[39;00m exception:  \u001b[39m# pylint:disable=broad-except\u001b[39;00m\n\u001b[0;32m    252\u001b[0m         \u001b[39mreturn\u001b[39;00m _FailureOutcome(exception, sys\u001b[39m.\u001b[39mexc_info()[\u001b[39m2\u001b[39m])\n\u001b[1;32m--> 254\u001b[0m call \u001b[39m=\u001b[39m \u001b[39mself\u001b[39;49m\u001b[39m.\u001b[39;49m_interceptor\u001b[39m.\u001b[39;49mintercept_unary_unary(continuation,\n\u001b[0;32m    255\u001b[0m                                                client_call_details,\n\u001b[0;32m    256\u001b[0m                                                request)\n\u001b[0;32m    257\u001b[0m \u001b[39mreturn\u001b[39;00m call\u001b[39m.\u001b[39mresult(), call\n",
      "File \u001b[1;32mD:\\2023\\PYEDB\\pyedb\\src\\ansys\\edb\\core\\interceptors.py:25\u001b[0m, in \u001b[0;36mInterceptor.intercept_unary_unary\u001b[1;34m(self, continuation, client_call_details, request)\u001b[0m\n\u001b[0;32m     23\u001b[0m \u001b[39mdef\u001b[39;00m \u001b[39mintercept_unary_unary\u001b[39m(\u001b[39mself\u001b[39m, continuation, client_call_details, request):\n\u001b[0;32m     24\u001b[0m \u001b[39m    \u001b[39m\u001b[39m\"\"\"Intercept a GRPC call.\"\"\"\u001b[39;00m\n\u001b[1;32m---> 25\u001b[0m     response \u001b[39m=\u001b[39m continuation(client_call_details, request)\n\u001b[0;32m     27\u001b[0m     \u001b[39mself\u001b[39m\u001b[39m.\u001b[39m_post_process(response)\n\u001b[0;32m     29\u001b[0m     \u001b[39mreturn\u001b[39;00m response\n",
      "File \u001b[1;32mc:\\Program Files\\Python310\\lib\\site-packages\\grpc\\_interceptor.py:241\u001b[0m, in \u001b[0;36m_UnaryUnaryMultiCallable._with_call.<locals>.continuation\u001b[1;34m(new_details, request)\u001b[0m\n\u001b[0;32m    236\u001b[0m (new_method, new_timeout, new_metadata, new_credentials,\n\u001b[0;32m    237\u001b[0m  new_wait_for_ready,\n\u001b[0;32m    238\u001b[0m  new_compression) \u001b[39m=\u001b[39m (_unwrap_client_call_details(\n\u001b[0;32m    239\u001b[0m      new_details, client_call_details))\n\u001b[0;32m    240\u001b[0m \u001b[39mtry\u001b[39;00m:\n\u001b[1;32m--> 241\u001b[0m     response, call \u001b[39m=\u001b[39m \u001b[39mself\u001b[39;49m\u001b[39m.\u001b[39;49m_thunk(new_method)\u001b[39m.\u001b[39;49mwith_call(\n\u001b[0;32m    242\u001b[0m         request,\n\u001b[0;32m    243\u001b[0m         timeout\u001b[39m=\u001b[39;49mnew_timeout,\n\u001b[0;32m    244\u001b[0m         metadata\u001b[39m=\u001b[39;49mnew_metadata,\n\u001b[0;32m    245\u001b[0m         credentials\u001b[39m=\u001b[39;49mnew_credentials,\n\u001b[0;32m    246\u001b[0m         wait_for_ready\u001b[39m=\u001b[39;49mnew_wait_for_ready,\n\u001b[0;32m    247\u001b[0m         compression\u001b[39m=\u001b[39;49mnew_compression)\n\u001b[0;32m    248\u001b[0m     \u001b[39mreturn\u001b[39;00m _UnaryOutcome(response, call)\n\u001b[0;32m    249\u001b[0m \u001b[39mexcept\u001b[39;00m grpc\u001b[39m.\u001b[39mRpcError \u001b[39mas\u001b[39;00m rpc_error:\n",
      "File \u001b[1;32mc:\\Program Files\\Python310\\lib\\site-packages\\grpc\\_interceptor.py:266\u001b[0m, in \u001b[0;36m_UnaryUnaryMultiCallable.with_call\u001b[1;34m(self, request, timeout, metadata, credentials, wait_for_ready, compression)\u001b[0m\n\u001b[0;32m    259\u001b[0m \u001b[39mdef\u001b[39;00m \u001b[39mwith_call\u001b[39m(\u001b[39mself\u001b[39m,\n\u001b[0;32m    260\u001b[0m               request,\n\u001b[0;32m    261\u001b[0m               timeout\u001b[39m=\u001b[39m\u001b[39mNone\u001b[39;00m,\n\u001b[1;32m   (...)\u001b[0m\n\u001b[0;32m    264\u001b[0m               wait_for_ready\u001b[39m=\u001b[39m\u001b[39mNone\u001b[39;00m,\n\u001b[0;32m    265\u001b[0m               compression\u001b[39m=\u001b[39m\u001b[39mNone\u001b[39;00m):\n\u001b[1;32m--> 266\u001b[0m     \u001b[39mreturn\u001b[39;00m \u001b[39mself\u001b[39;49m\u001b[39m.\u001b[39;49m_with_call(request,\n\u001b[0;32m    267\u001b[0m                            timeout\u001b[39m=\u001b[39;49mtimeout,\n\u001b[0;32m    268\u001b[0m                            metadata\u001b[39m=\u001b[39;49mmetadata,\n\u001b[0;32m    269\u001b[0m                            credentials\u001b[39m=\u001b[39;49mcredentials,\n\u001b[0;32m    270\u001b[0m                            wait_for_ready\u001b[39m=\u001b[39;49mwait_for_ready,\n\u001b[0;32m    271\u001b[0m                            compression\u001b[39m=\u001b[39;49mcompression)\n",
      "File \u001b[1;32mc:\\Program Files\\Python310\\lib\\site-packages\\grpc\\_interceptor.py:254\u001b[0m, in \u001b[0;36m_UnaryUnaryMultiCallable._with_call\u001b[1;34m(self, request, timeout, metadata, credentials, wait_for_ready, compression)\u001b[0m\n\u001b[0;32m    251\u001b[0m     \u001b[39mexcept\u001b[39;00m \u001b[39mException\u001b[39;00m \u001b[39mas\u001b[39;00m exception:  \u001b[39m# pylint:disable=broad-except\u001b[39;00m\n\u001b[0;32m    252\u001b[0m         \u001b[39mreturn\u001b[39;00m _FailureOutcome(exception, sys\u001b[39m.\u001b[39mexc_info()[\u001b[39m2\u001b[39m])\n\u001b[1;32m--> 254\u001b[0m call \u001b[39m=\u001b[39m \u001b[39mself\u001b[39;49m\u001b[39m.\u001b[39;49m_interceptor\u001b[39m.\u001b[39;49mintercept_unary_unary(continuation,\n\u001b[0;32m    255\u001b[0m                                                client_call_details,\n\u001b[0;32m    256\u001b[0m                                                request)\n\u001b[0;32m    257\u001b[0m \u001b[39mreturn\u001b[39;00m call\u001b[39m.\u001b[39mresult(), call\n",
      "File \u001b[1;32mD:\\2023\\PYEDB\\pyedb\\src\\ansys\\edb\\core\\interceptors.py:25\u001b[0m, in \u001b[0;36mInterceptor.intercept_unary_unary\u001b[1;34m(self, continuation, client_call_details, request)\u001b[0m\n\u001b[0;32m     23\u001b[0m \u001b[39mdef\u001b[39;00m \u001b[39mintercept_unary_unary\u001b[39m(\u001b[39mself\u001b[39m, continuation, client_call_details, request):\n\u001b[0;32m     24\u001b[0m \u001b[39m    \u001b[39m\u001b[39m\"\"\"Intercept a GRPC call.\"\"\"\u001b[39;00m\n\u001b[1;32m---> 25\u001b[0m     response \u001b[39m=\u001b[39m continuation(client_call_details, request)\n\u001b[0;32m     27\u001b[0m     \u001b[39mself\u001b[39m\u001b[39m.\u001b[39m_post_process(response)\n\u001b[0;32m     29\u001b[0m     \u001b[39mreturn\u001b[39;00m response\n",
      "File \u001b[1;32mc:\\Program Files\\Python310\\lib\\site-packages\\grpc\\_interceptor.py:241\u001b[0m, in \u001b[0;36m_UnaryUnaryMultiCallable._with_call.<locals>.continuation\u001b[1;34m(new_details, request)\u001b[0m\n\u001b[0;32m    236\u001b[0m (new_method, new_timeout, new_metadata, new_credentials,\n\u001b[0;32m    237\u001b[0m  new_wait_for_ready,\n\u001b[0;32m    238\u001b[0m  new_compression) \u001b[39m=\u001b[39m (_unwrap_client_call_details(\n\u001b[0;32m    239\u001b[0m      new_details, client_call_details))\n\u001b[0;32m    240\u001b[0m \u001b[39mtry\u001b[39;00m:\n\u001b[1;32m--> 241\u001b[0m     response, call \u001b[39m=\u001b[39m \u001b[39mself\u001b[39;49m\u001b[39m.\u001b[39;49m_thunk(new_method)\u001b[39m.\u001b[39;49mwith_call(\n\u001b[0;32m    242\u001b[0m         request,\n\u001b[0;32m    243\u001b[0m         timeout\u001b[39m=\u001b[39;49mnew_timeout,\n\u001b[0;32m    244\u001b[0m         metadata\u001b[39m=\u001b[39;49mnew_metadata,\n\u001b[0;32m    245\u001b[0m         credentials\u001b[39m=\u001b[39;49mnew_credentials,\n\u001b[0;32m    246\u001b[0m         wait_for_ready\u001b[39m=\u001b[39;49mnew_wait_for_ready,\n\u001b[0;32m    247\u001b[0m         compression\u001b[39m=\u001b[39;49mnew_compression)\n\u001b[0;32m    248\u001b[0m     \u001b[39mreturn\u001b[39;00m _UnaryOutcome(response, call)\n\u001b[0;32m    249\u001b[0m \u001b[39mexcept\u001b[39;00m grpc\u001b[39m.\u001b[39mRpcError \u001b[39mas\u001b[39;00m rpc_error:\n",
      "File \u001b[1;32mc:\\Program Files\\Python310\\lib\\site-packages\\grpc\\_channel.py:955\u001b[0m, in \u001b[0;36m_UnaryUnaryMultiCallable.with_call\u001b[1;34m(self, request, timeout, metadata, credentials, wait_for_ready, compression)\u001b[0m\n\u001b[0;32m    948\u001b[0m \u001b[39mdef\u001b[39;00m \u001b[39mwith_call\u001b[39m(\u001b[39mself\u001b[39m,\n\u001b[0;32m    949\u001b[0m               request,\n\u001b[0;32m    950\u001b[0m               timeout\u001b[39m=\u001b[39m\u001b[39mNone\u001b[39;00m,\n\u001b[1;32m   (...)\u001b[0m\n\u001b[0;32m    953\u001b[0m               wait_for_ready\u001b[39m=\u001b[39m\u001b[39mNone\u001b[39;00m,\n\u001b[0;32m    954\u001b[0m               compression\u001b[39m=\u001b[39m\u001b[39mNone\u001b[39;00m):\n\u001b[1;32m--> 955\u001b[0m     state, call, \u001b[39m=\u001b[39m \u001b[39mself\u001b[39;49m\u001b[39m.\u001b[39;49m_blocking(request, timeout, metadata, credentials,\n\u001b[0;32m    956\u001b[0m                                   wait_for_ready, compression)\n\u001b[0;32m    957\u001b[0m     \u001b[39mreturn\u001b[39;00m _end_unary_response_blocking(state, call, \u001b[39mTrue\u001b[39;00m, \u001b[39mNone\u001b[39;00m)\n",
      "File \u001b[1;32mc:\\Program Files\\Python310\\lib\\site-packages\\grpc\\_channel.py:926\u001b[0m, in \u001b[0;36m_UnaryUnaryMultiCallable._blocking\u001b[1;34m(self, request, timeout, metadata, credentials, wait_for_ready, compression)\u001b[0m\n\u001b[0;32m    924\u001b[0m     \u001b[39mraise\u001b[39;00m rendezvous  \u001b[39m# pylint: disable-msg=raising-bad-type\u001b[39;00m\n\u001b[0;32m    925\u001b[0m \u001b[39melse\u001b[39;00m:\n\u001b[1;32m--> 926\u001b[0m     call \u001b[39m=\u001b[39m \u001b[39mself\u001b[39;49m\u001b[39m.\u001b[39;49m_channel\u001b[39m.\u001b[39;49msegregated_call(\n\u001b[0;32m    927\u001b[0m         cygrpc\u001b[39m.\u001b[39;49mPropagationConstants\u001b[39m.\u001b[39;49mGRPC_PROPAGATE_DEFAULTS,\n\u001b[0;32m    928\u001b[0m         \u001b[39mself\u001b[39;49m\u001b[39m.\u001b[39;49m_method, \u001b[39mNone\u001b[39;49;00m, _determine_deadline(deadline), metadata,\n\u001b[0;32m    929\u001b[0m         \u001b[39mNone\u001b[39;49;00m \u001b[39mif\u001b[39;49;00m credentials \u001b[39mis\u001b[39;49;00m \u001b[39mNone\u001b[39;49;00m \u001b[39melse\u001b[39;49;00m credentials\u001b[39m.\u001b[39;49m_credentials, ((\n\u001b[0;32m    930\u001b[0m             operations,\n\u001b[0;32m    931\u001b[0m             \u001b[39mNone\u001b[39;49;00m,\n\u001b[0;32m    932\u001b[0m         ),), \u001b[39mself\u001b[39;49m\u001b[39m.\u001b[39;49m_context)\n\u001b[0;32m    933\u001b[0m     event \u001b[39m=\u001b[39m call\u001b[39m.\u001b[39mnext_event()\n\u001b[0;32m    934\u001b[0m     _handle_event(event, state, \u001b[39mself\u001b[39m\u001b[39m.\u001b[39m_response_deserializer)\n",
      "File \u001b[1;32msrc\\python\\grpcio\\grpc\\_cython\\_cygrpc/channel.pyx.pxi:496\u001b[0m, in \u001b[0;36mgrpc._cython.cygrpc.Channel.segregated_call\u001b[1;34m()\u001b[0m\n",
      "File \u001b[1;32msrc\\python\\grpcio\\grpc\\_cython\\_cygrpc/channel.pyx.pxi:366\u001b[0m, in \u001b[0;36mgrpc._cython.cygrpc._segregated_call\u001b[1;34m()\u001b[0m\n",
      "File \u001b[1;32msrc\\python\\grpcio\\grpc\\_cython\\_cygrpc/channel.pyx.pxi:360\u001b[0m, in \u001b[0;36mgrpc._cython.cygrpc._segregated_call\u001b[1;34m()\u001b[0m\n",
      "File \u001b[1;32msrc\\python\\grpcio\\grpc\\_cython\\_cygrpc/channel.pyx.pxi:218\u001b[0m, in \u001b[0;36mgrpc._cython.cygrpc._call\u001b[1;34m()\u001b[0m\n",
      "File \u001b[1;32mc:\\Program Files\\Python310\\lib\\threading.py:267\u001b[0m, in \u001b[0;36mCondition.__exit__\u001b[1;34m(self, *args)\u001b[0m\n\u001b[0;32m    264\u001b[0m \u001b[39mdef\u001b[39;00m \u001b[39m__enter__\u001b[39m(\u001b[39mself\u001b[39m):\n\u001b[0;32m    265\u001b[0m     \u001b[39mreturn\u001b[39;00m \u001b[39mself\u001b[39m\u001b[39m.\u001b[39m_lock\u001b[39m.\u001b[39m\u001b[39m__enter__\u001b[39m()\n\u001b[1;32m--> 267\u001b[0m \u001b[39mdef\u001b[39;00m \u001b[39m__exit__\u001b[39m(\u001b[39mself\u001b[39m, \u001b[39m*\u001b[39margs):\n\u001b[0;32m    268\u001b[0m     \u001b[39mreturn\u001b[39;00m \u001b[39mself\u001b[39m\u001b[39m.\u001b[39m_lock\u001b[39m.\u001b[39m\u001b[39m__exit__\u001b[39m(\u001b[39m*\u001b[39margs)\n\u001b[0;32m    270\u001b[0m \u001b[39mdef\u001b[39;00m \u001b[39m__repr__\u001b[39m(\u001b[39mself\u001b[39m):\n",
      "File \u001b[1;32m_pydevd_bundle/pydevd_cython.pyx:1457\u001b[0m, in \u001b[0;36m_pydevd_bundle.pydevd_cython.SafeCallWrapper.__call__\u001b[1;34m()\u001b[0m\n",
      "File \u001b[1;32m_pydevd_bundle/pydevd_cython.pyx:1758\u001b[0m, in \u001b[0;36m_pydevd_bundle.pydevd_cython.ThreadTracer.__call__\u001b[1;34m()\u001b[0m\n",
      "File \u001b[1;32mc:\\Program Files\\Python310\\lib\\site-packages\\debugpy\\_vendored\\pydevd\\_pydev_bundle\\pydev_is_thread_alive.py:9\u001b[0m, in \u001b[0;36mis_thread_alive\u001b[1;34m(t)\u001b[0m\n\u001b[0;32m      6\u001b[0m _temp \u001b[39m=\u001b[39m threading\u001b[39m.\u001b[39mThread()\n\u001b[0;32m      7\u001b[0m \u001b[39mif\u001b[39;00m \u001b[39mhasattr\u001b[39m(_temp, \u001b[39m'\u001b[39m\u001b[39m_is_stopped\u001b[39m\u001b[39m'\u001b[39m):  \u001b[39m# Python 3.x has this\u001b[39;00m\n\u001b[1;32m----> 9\u001b[0m     \u001b[39mdef\u001b[39;00m \u001b[39mis_thread_alive\u001b[39m(t):\n\u001b[0;32m     10\u001b[0m         \u001b[39mreturn\u001b[39;00m \u001b[39mnot\u001b[39;00m t\u001b[39m.\u001b[39m_is_stopped\n\u001b[0;32m     12\u001b[0m \u001b[39melif\u001b[39;00m \u001b[39mhasattr\u001b[39m(_temp, \u001b[39m'\u001b[39m\u001b[39m_Thread__stopped\u001b[39m\u001b[39m'\u001b[39m):  \u001b[39m# Python 2.x has this\u001b[39;00m\n",
      "\u001b[1;31mKeyboardInterrupt\u001b[0m: "
     ]
    }
   ],
   "source": [
    "layer_info = []\n",
    "for i in layers:\n",
    "    if i.is_stackup_layer:\n",
    "        name = i.name\n",
    "        layer_type = i.type.name\n",
    "        material = i.get_material().value\n",
    "        thickness = i.thickness.value\n",
    "        lower_elevation = i.lower_elevation.value\n",
    "        full_material = i.get_fill_material().value\n",
    "        \n",
    "        if 'SIGNAL_LAYER' in str(layer_type):\n",
    "            matmodel = edb.definition.material_def.MaterialDef.find_by_name(db,i.get_material().value)\n",
    "            Sigma = matmodel.get_property(edb.definition.material_def.MaterialProperty.CONDUCTIVITY).value\n",
    "            x = (name,\n",
    "            layer_type,\n",
    "            material,\n",
    "            Sigma,\n",
    "            thickness,\n",
    "            lower_elevation,\n",
    "            full_material)                \n",
    "        elif 'DIELECTRIC_LAYER' in str(layer_type):\n",
    "            matmodel = edb.definition.material_def.MaterialDef.find_by_name(db,i.get_material().value)\n",
    "            Td = matmodel.get_property(edb.definition.material_def.MaterialProperty.DIELECTRIC_LOSS_TANGENT).value\n",
    "            Er = matmodel.get_property(edb.definition.material_def.MaterialProperty.PERMITTIVITY).value\n",
    "            x = (name,\n",
    "            layer_type,\n",
    "            material,\n",
    "            Er,\n",
    "            Td,\n",
    "            thickness,\n",
    "            lower_elevation,\n",
    "            full_material)\n",
    "        layer_info.append(x)\n",
    "db.save_as(r'D:\\2023\\PYEDB\\Galileo_modified.aedb')"
   ]
  },
  {
   "cell_type": "markdown",
   "id": "fa9042db",
   "metadata": {},
   "source": [
    "# Write layer information to json file"
   ]
  },
  {
   "cell_type": "code",
   "execution_count": null,
   "id": "2e9c30af",
   "metadata": {},
   "outputs": [],
   "source": [
    "stackup_file = os.path.join(os.getcwd(),'stackup.json')\n",
    "with open(stackup_file, 'w') as fp:\n",
    "    json.dump(layer_info, fp,indent=' ')"
   ]
  },
  {
   "cell_type": "markdown",
   "id": "0e7751ba",
   "metadata": {},
   "source": [
    "# End the session"
   ]
  },
  {
   "cell_type": "code",
   "execution_count": 12,
   "id": "f0750fb4",
   "metadata": {},
   "outputs": [],
   "source": [
    "session.disconnect()"
   ]
  },
  {
   "cell_type": "markdown",
   "id": "c302735a",
   "metadata": {},
   "source": []
  }
 ],
 "metadata": {
  "kernelspec": {
   "display_name": "Python 3.10.9 64-bit",
   "language": "python",
   "name": "python3"
  },
  "language_info": {
   "codemirror_mode": {
    "name": "ipython",
    "version": 3
   },
   "file_extension": ".py",
   "mimetype": "text/x-python",
   "name": "python",
   "nbconvert_exporter": "python",
   "pygments_lexer": "ipython3",
   "version": "3.10.9"
  },
  "vscode": {
   "interpreter": {
    "hash": "26de051ba29f2982a8de78e945f0abaf191376122a1563185a90213a26c5da77"
   }
  }
 },
 "nbformat": 4,
 "nbformat_minor": 5
}
