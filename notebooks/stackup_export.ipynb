{
 "cells": [
  {
   "cell_type": "markdown",
   "id": "68d3f257",
   "metadata": {},
   "source": [
    "# Stackup export"
   ]
  },
  {
   "cell_type": "markdown",
   "id": "a1f4c628",
   "metadata": {},
   "source": [
    "## Set up example environment"
   ]
  },
  {
   "cell_type": "code",
   "execution_count": 1,
   "id": "de19eb7d",
   "metadata": {},
   "outputs": [
    {
     "name": "stdout",
     "output_type": "stream",
     "text": [
      "db, cell, layout variables set to the default from edb design.\n"
     ]
    }
   ],
   "source": [
    "%run helpers/example_setup.ipynb"
   ]
  },
  {
   "cell_type": "markdown",
   "id": "3fdd96f2",
   "metadata": {},
   "source": [
    "## Get Layers"
   ]
  },
  {
   "cell_type": "code",
   "execution_count": 2,
   "id": "f88b342f",
   "metadata": {},
   "outputs": [
    {
     "name": "stdout",
     "output_type": "stream",
     "text": [
      "Layer 's1', type 'SIGNAL_LAYER', material 'copper'\n",
      "Layer 'd1', type 'DIELECTRIC_LAYER', material 'FR4_epoxy'\n",
      "Layer 's2', type 'SIGNAL_LAYER', material 'copper'\n",
      "Layer 'd2', type 'DIELECTRIC_LAYER', material 'FR4_epoxy'\n",
      "Layer 's3', type 'SIGNAL_LAYER', material 'copper'\n"
     ]
    }
   ],
   "source": [
    "lc = layout.layer_collection\n",
    "layers = lc.get_layers()\n",
    "for i in layers:\n",
    "    if i.is_stackup_layer:\n",
    "        name = i.name\n",
    "        layer_type = i.type.name\n",
    "        material = i.get_material()\n",
    "        print(f\"Layer '{name}', type '{layer_type}', material '{i.get_material()}'\")"
   ]
  },
  {
   "cell_type": "markdown",
   "id": "bc625e1b",
   "metadata": {},
   "source": [
    "## Extract layer information"
   ]
  },
  {
   "cell_type": "code",
   "execution_count": 3,
   "id": "4313b4ed",
   "metadata": {},
   "outputs": [],
   "source": [
    "\n",
    "layer_info = []\n",
    "for i in layers:\n",
    "    if i.is_stackup_layer:\n",
    "        name = i.name\n",
    "        layer_type = i.type.name\n",
    "        material = i.get_material()\n",
    "        thickness = i.thickness.value\n",
    "        lower_elevation = i.lower_elevation.value\n",
    "        full_material = i.get_fill_material()\n",
    "        \n",
    "        if 'SIGNAL_LAYER' in str(layer_type):\n",
    "            matmodel = material_def.MaterialDef.find_by_name(db,i.get_material())\n",
    "            Sigma = matmodel.get_property(material_def.MaterialProperty.CONDUCTIVITY).value\n",
    "            x = (name,\n",
    "            layer_type,\n",
    "            material,\n",
    "            Sigma,\n",
    "            thickness,\n",
    "            lower_elevation,\n",
    "            full_material)                \n",
    "        elif 'DIELECTRIC_LAYER' in str(layer_type):\n",
    "            matmodel = material_def.MaterialDef.find_by_name(db,i.get_material())\n",
    "            Td = matmodel.get_property(material_def.MaterialProperty.DIELECTRIC_LOSS_TANGENT).value\n",
    "            Er = matmodel.get_property(material_def.MaterialProperty.PERMITTIVITY).value\n",
    "            x = (name,\n",
    "            layer_type,\n",
    "            material,\n",
    "            Er,\n",
    "            Td,\n",
    "            thickness,\n",
    "            lower_elevation,\n",
    "            full_material)\n",
    "        layer_info.append(x)"
   ]
  },
  {
   "cell_type": "markdown",
   "id": "d24cc7de",
   "metadata": {},
   "source": [
    "## Write layer information to json file"
   ]
  },
  {
   "cell_type": "code",
   "execution_count": 4,
   "id": "2e9c30af",
   "metadata": {},
   "outputs": [],
   "source": [
    "import json\n",
    "stackup_file = os.path.join(get_output_dir(),'Stackup_export.json')\n",
    "with open(stackup_file, 'w') as f:\n",
    "    json.dump(layer_info, f, indent=' ')"
   ]
  },
  {
   "cell_type": "markdown",
   "id": "24723010",
   "metadata": {},
   "source": [
    "## Display the json"
   ]
  },
  {
   "cell_type": "code",
   "execution_count": 5,
   "id": "b3132de9",
   "metadata": {},
   "outputs": [
    {
     "name": "stdout",
     "output_type": "stream",
     "text": [
      "[['s1', 'SIGNAL_LAYER', 'copper', 58000000.0, 0.0001, 0.0034, 'FR4_epoxy'], ['d1', 'DIELECTRIC_LAYER', 'FR4_epoxy', 4.4, 0.02, 0.0016, 0.0018000000000000002, ''], ['s2', 'SIGNAL_LAYER', 'copper', 58000000.0, 0.0001, 0.0017, 'FR4_epoxy'], ['d2', 'DIELECTRIC_LAYER', 'FR4_epoxy', 4.4, 0.02, 0.0016, 0.0001, ''], ['s3', 'SIGNAL_LAYER', 'copper', 58000000.0, 0.0001, 0.0, 'FR4_epoxy']]\n"
     ]
    }
   ],
   "source": [
    "with open(stackup_file) as f:\n",
    "    d = json.load(f)\n",
    "    print(d)"
   ]
  },
  {
   "cell_type": "markdown",
   "id": "df842851",
   "metadata": {},
   "source": [
    "## Tear down example environment\n"
   ]
  },
  {
   "cell_type": "code",
   "execution_count": 6,
   "id": "f0750fb4",
   "metadata": {},
   "outputs": [],
   "source": [
    "%run helpers/example_teardown.ipynb"
   ]
  },
  {
   "cell_type": "code",
   "execution_count": 7,
   "id": "2a73eb3c",
   "metadata": {},
   "outputs": [],
   "source": []
  }
 ],
 "metadata": {},
 "nbformat": 4,
 "nbformat_minor": 5
}