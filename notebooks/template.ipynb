{
 "cells": [
  {
   "cell_type": "code",
   "execution_count": 1,
   "id": "cd7e721c",
   "metadata": {},
   "outputs": [],
   "source": [
    "%run helpers/example_setup.ipynb"
   ]
  },
  {
   "cell_type": "code",
   "execution_count": 2,
   "id": "abd5a80d",
   "metadata": {},
   "outputs": [],
   "source": [
    "# <template>: Add your commands here. db, cell, layout, gnd_net variables and all EDB classes are predefined."
   ]
  },
  {
   "cell_type": "code",
   "execution_count": 3,
   "id": "3290a8f6",
   "metadata": {},
   "outputs": [],
   "source": [
    "%run helpers/example_teardown.ipynb"
   ]
  }
 ],
 "metadata": {},
 "nbformat": 4,
 "nbformat_minor": 5
}