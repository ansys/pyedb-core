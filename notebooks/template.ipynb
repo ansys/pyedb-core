{
 "cells": [
  {
   "cell_type": "code",
   "execution_count": null,
   "id": "cd7e721c",
   "metadata": {},
   "outputs": [],
   "source": [
    "\"\"\"Imports\"\"\"\n",
    "\n",
    "import os\n",
    "\n",
    "from ansys.edb.database import Database\n",
    "from ansys.edb.layout.cell import Cell, CellType\n",
    "from ansys.edb.hierarchy.via_group import ViaGroup\n",
    "from ansys.edb.layer import LayerType, StackupLayer, ViaLayer\n",
    "from ansys.edb.layer.layer_collection import LayerCollection, LayerCollectionMode\n",
    "from ansys.edb.net import Net\n",
    "from ansys.edb.session import launch_session"
   ]
  },
  {
   "cell_type": "code",
   "execution_count": null,
   "id": "a09c729b",
   "metadata": {},
   "outputs": [],
   "source": [
    "\"\"\"Configs\"\"\"\n",
    "\n",
    "ROOT = os.getcwd()\n",
    "EXE_ROOT = None # None if separate server is already running.\n",
    "# EXE_ROOT = \"c:\\\\path\\\\to\\\\your\\\\executable\\\\dir\" # Root dir of server executable if you it auto-launched for each session\n",
    "EDB_FILE = os.path.join(ROOT, \"template.aedb\")"
   ]
  },
  {
   "cell_type": "code",
   "execution_count": null,
   "id": "87bc6dac",
   "metadata": {},
   "outputs": [],
   "source": [
    "\"\"\"Launch a session. Make sure old one has been disconnected prior to starting a new one, if any\"\"\"\n",
    "session = launch_session(EXE_ROOT, 50051)"
   ]
  },
  {
   "cell_type": "code",
   "execution_count": null,
   "id": "f060f9f4",
   "metadata": {},
   "outputs": [],
   "source": [
    "\"\"\"Basic setup of empty EDB.\"\"\"\n",
    "db = Database.create(EDB_FILE)\n",
    "cell = Cell.create(db, CellType.CIRCUIT_CELL, \"EMDesign1\")\n",
    "layout = cell.get_layout()"
   ]
  },
  {
   "cell_type": "code",
   "execution_count": null,
   "id": "abd5a80d",
   "metadata": {},
   "outputs": [],
   "source": [
    "\"\"\"Add your commands. Rerunning will result in duplicate data where applicable.\"\"\"\n"
   ]
  },
  {
   "cell_type": "code",
   "execution_count": null,
   "id": "3290a8f6",
   "metadata": {},
   "outputs": [],
   "source": [
    "\"\"\"Save database if you wish.\"\"\"\n",
    "db.save()"
   ]
  },
  {
   "cell_type": "code",
   "execution_count": null,
   "id": "21e1c810",
   "metadata": {},
   "outputs": [],
   "source": [
    "\"\"\"Don't forget to disconnect it!\"\"\"\n",
    "session.disconnect()"
   ]
  }
 ],
 "metadata": {
  "kernelspec": {
   "display_name": "Python 3.10.9 64-bit",
   "language": "python",
   "name": "python3"
  },
  "language_info": {
   "codemirror_mode": {
    "name": "ipython",
    "version": 3
   },
   "file_extension": ".py",
   "mimetype": "text/x-python",
   "name": "python",
   "nbconvert_exporter": "python",
   "pygments_lexer": "ipython3",
   "version": "3.10.9"
  },
  "vscode": {
   "interpreter": {
    "hash": "26de051ba29f2982a8de78e945f0abaf191376122a1563185a90213a26c5da77"
   }
  }
 },
 "nbformat": 4,
 "nbformat_minor": 5
}
