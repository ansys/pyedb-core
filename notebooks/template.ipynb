{
 "cells": [
  {
   "cell_type": "code",
   "execution_count": 12,
   "id": "cd7e721c",
   "metadata": {},
   "outputs": [],
   "source": [
    "\"\"\"Imports\"\"\"\n",
    "\n",
    "import os\n",
    "\n",
    "from ansys.edb.database import Database\n",
    "from ansys.edb.layout.cell import Cell, CellType\n",
    "from ansys.edb.hierarchy.via_group import ViaGroup\n",
    "from ansys.edb.layer import LayerType, StackupLayer, ViaLayer\n",
    "from ansys.edb.layer.layer_collection import LayerCollection, LayerCollectionMode\n",
    "from ansys.edb.net import Net\n",
    "from ansys.edb.session import launch_session"
   ]
  },
  {
   "cell_type": "code",
   "execution_count": 16,
   "id": "a09c729b",
   "metadata": {},
   "outputs": [],
   "source": [
    "\"\"\"Configs\"\"\"\n",
    "\n",
    "ROOT = os.getcwd()\n",
    "EXE_ROOT = None # None if separate server is already running.\n",
    "# EXE_ROOT = \"c:\\\\path\\\\to\\\\your\\\\executable\\\\dir\" # Root dir of server executable if you it auto-launched for each session\n",
    "EDB_FILE = os.path.join(ROOT, \"template.aedb\")"
   ]
  },
  {
   "cell_type": "code",
   "execution_count": 17,
   "id": "87bc6dac",
   "metadata": {},
   "outputs": [
    {
     "name": "stdout",
     "output_type": "stream",
     "text": [
      "connecting...\n",
      "successfully connected.\n"
     ]
    }
   ],
   "source": [
    "\"\"\"Launch a session. Make sure old one has been disconnected prior to starting a new one, if any\"\"\"\n",
    "session = launch_session(EXE_ROOT, 50051)"
   ]
  },
  {
   "cell_type": "code",
   "execution_count": 18,
   "id": "f060f9f4",
   "metadata": {},
   "outputs": [],
   "source": [
    "\"\"\"Basic setup of empty EDB.\"\"\"\n",
    "db = Database.create(EDB_FILE)\n",
    "cell = Cell.create(db, CellType.CIRCUIT_CELL, \"EMDesign1\")\n",
    "layout = cell.get_layout()"
   ]
  },
  {
   "cell_type": "code",
   "execution_count": 19,
   "id": "abd5a80d",
   "metadata": {},
   "outputs": [
    {
     "data": {
      "text/plain": [
       "'Add your commands. Rerunning will result in duplicate data where applicable.'"
      ]
     },
     "execution_count": 19,
     "metadata": {},
     "output_type": "execute_result"
    }
   ],
   "source": [
    "\"\"\"Add your commands. Rerunning will result in duplicate data where applicable.\"\"\"\n"
   ]
  },
  {
   "cell_type": "code",
   "execution_count": 20,
   "id": "3290a8f6",
   "metadata": {},
   "outputs": [
    {
     "data": {
      "text/plain": [
       "True"
      ]
     },
     "execution_count": 20,
     "metadata": {},
     "output_type": "execute_result"
    }
   ],
   "source": [
    "\"\"\"Save database if you wish.\"\"\"\n",
    "db.save()"
   ]
  },
  {
   "cell_type": "code",
   "execution_count": 21,
   "id": "21e1c810",
   "metadata": {},
   "outputs": [
    {
     "name": "stdout",
     "output_type": "stream",
     "text": [
      "disconnecting...\n",
      "successfully disconnected.\n"
     ]
    }
   ],
   "source": [
    "\"\"\"Don't forget to disconnect it!\"\"\"\n",
    "session.disconnect()"
   ]
  }
 ],
 "metadata": {
  "kernelspec": {
   "display_name": "Python 3 (ipykernel)",
   "language": "python",
   "name": "python3"
  },
  "language_info": {
   "codemirror_mode": {
    "name": "ipython",
    "version": 3
   },
   "file_extension": ".py",
   "mimetype": "text/x-python",
   "name": "python",
   "nbconvert_exporter": "python",
   "pygments_lexer": "ipython3",
   "version": "3.8.6"
  }
 },
 "nbformat": 4,
 "nbformat_minor": 5
}
