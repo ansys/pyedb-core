{
 "cells": [
  {
   "cell_type": "markdown",
   "id": "659acad1",
   "metadata": {},
   "source": [
    "# Imports"
   ]
  },
  {
   "cell_type": "code",
   "execution_count": 5,
   "id": "de19eb7d",
   "metadata": {},
   "outputs": [],
   "source": [
    "import os\n",
    "from ansys.edb.database import Database\n",
    "from ansys.edb.session import launch_session\n",
    "import ansys.edb as edb\n",
    "import psutil"
   ]
  },
  {
   "cell_type": "markdown",
   "id": "d817c01f",
   "metadata": {},
   "source": [
    "# Configs"
   ]
  },
  {
   "cell_type": "code",
   "execution_count": 11,
   "id": "67bf7709",
   "metadata": {},
   "outputs": [],
   "source": [
    "ROOT = os.getcwd()\n",
    "EXE_ROOT = os.environ['ANSYSEM_ROOT232']\n",
    "ROOT = os.getcwd()\n",
    "EDB_FILE = os.path.join(ROOT,'data','meshed_ground.aedb')\n",
    "out = os.path.join(ROOT,'data','meshed_ground_out.aedb')"
   ]
  },
  {
   "cell_type": "markdown",
   "id": "2287a107",
   "metadata": {},
   "source": []
  },
  {
   "cell_type": "markdown",
   "id": "6e0aeed6",
   "metadata": {},
   "source": [
    "# Launch session"
   ]
  },
  {
   "cell_type": "code",
   "execution_count": 12,
   "id": "bac4d383",
   "metadata": {},
   "outputs": [],
   "source": [
    "PROCNAME = \"EDB_RPC_Server.exe\"\n",
    "try:\n",
    "    for proc in psutil.process_iter():\n",
    "        if proc.name() == PROCNAME:\n",
    "            proc.kill()\n",
    "except:\n",
    "    pass\n",
    "session = launch_session(EXE_ROOT, 50051)"
   ]
  },
  {
   "cell_type": "markdown",
   "id": "ae0454f7",
   "metadata": {},
   "source": [
    "# Open DB"
   ]
  },
  {
   "cell_type": "code",
   "execution_count": 13,
   "id": "f88b342f",
   "metadata": {},
   "outputs": [],
   "source": [
    "db = Database.open(EDB_FILE,False)\n",
    "cell = db.circuit_cells[0]\n",
    "layout = cell.layout\n",
    "layerStats = []\n",
    "lc = layout.layer_collection\n",
    "layers = lc.get_layers()\n",
    "layer_names = [i.name for i in layers]\n",
    "nets = layout.nets\n",
    "pgnets = ['GND']"
   ]
  },
  {
   "cell_type": "markdown",
   "id": "71f27b0e",
   "metadata": {},
   "source": [
    "# Merge polygons in PG nets and save db"
   ]
  },
  {
   "cell_type": "code",
   "execution_count": 14,
   "id": "4313b4ed",
   "metadata": {},
   "outputs": [],
   "source": [
    "for net in nets:\n",
    "        netName = net.name\n",
    "        if netName in pgnets:\n",
    "            prims = list(net.primitives)\n",
    "            layers = list(set([i.layer.name for i in prims]))\n",
    "            Void = {};Poly = {};Hole={}\n",
    "            for layer in layers:\n",
    "                Poly[layer] = []\n",
    "                Hole[layer] = []\n",
    "                for prim in prims:\n",
    "                    if prim.layer.name==layer:\n",
    "                        Poly[layer].append(prim.polygon_data)\n",
    "                        if prim.has_voids:\n",
    "                            for v_prim in prim.voids:\n",
    "                                Hole[layer].append(v_prim.get_polygon_data())\n",
    "                united_poly = edb.geometry.polygon_data.PolygonData.unite(Poly[layer])[0]\n",
    "                for i in Hole[layer]:\n",
    "                    united_poly = united_poly.subtract(united_poly,i)[0]\n",
    "                tmpPoly = edb.primitive.primitive.Polygon.create(layout,layer,net,united_poly)\n",
    "            for primitive in prims:\n",
    "                primitive.delete()\n",
    "db.save_as(out)\n",
    "session.disconnect()"
   ]
  }
 ],
 "metadata": {
  "kernelspec": {
   "display_name": "Python 3.10.9 64-bit",
   "language": "python",
   "name": "python3"
  },
  "language_info": {
   "codemirror_mode": {
    "name": "ipython",
    "version": 3
   },
   "file_extension": ".py",
   "mimetype": "text/x-python",
   "name": "python",
   "nbconvert_exporter": "python",
   "pygments_lexer": "ipython3",
   "version": "3.10.9"
  },
  "vscode": {
   "interpreter": {
    "hash": "26de051ba29f2982a8de78e945f0abaf191376122a1563185a90213a26c5da77"
   }
  }
 },
 "nbformat": 4,
 "nbformat_minor": 5
}
